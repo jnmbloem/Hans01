{
 "cells": [
  {
   "cell_type": "markdown",
   "metadata": {},
   "source": [
    "### Class 7- Starter code\n"
   ]
  },
  {
   "cell_type": "markdown",
   "metadata": {},
   "source": [
    "## Demo: Residual Error (15 mins)"
   ]
  },
  {
   "cell_type": "code",
   "execution_count": 8,
   "metadata": {},
   "outputs": [
    {
     "name": "stdout",
     "output_type": "stream",
     "text": [
      "P Values: [  9.15540205e-26]\n",
      "Coefficients: [ 0.00096395]\n",
      "y-intercept: 0.0859173102936\n",
      "R-Squared: 0.871949198087\n",
      "Mean squared error: 0.119901525171\n"
     ]
    },
    {
     "data": {
      "image/png": "[encoded data removed]",
      "text/plain": [
       "<matplotlib.figure.Figure at 0x10e09ded0>"
      ]
     },
     "metadata": {},
     "output_type": "display_data"
    }
   ],
   "source": [
    "%matplotlib inline\n",
    "import numpy as np\n",
    "import pandas as pd\n",
    "from matplotlib import pyplot as plt\n",
    "import seaborn as sns\n",
    "sns.set_style(\"darkgrid\")\n",
    "from sklearn import linear_model, metrics\n",
    "\n",
    "# read in the mammal dataset\n",
    "wd = '../dataset/msleep/'\n",
    "mammals = pd.read_csv(wd+'msleep.csv')\n",
    "mammals = mammals[mammals.brainwt.notnull()].copy()\n",
    "\n",
    "from sklearn import feature_selection, linear_model\n",
    "\n",
    "def get_linear_model_metrics(X, y, algo):\n",
    "    # get the pvalue of X given y. Ignore f-stat for now.\n",
    "    pvals = feature_selection.f_regression(X, y)[1]\n",
    "    # start with an empty linear regression object\n",
    "    # .fit() runs the linear regression function on X and y\n",
    "    algo.fit(X,y)\n",
    "    residuals = (y-algo.predict(X)).values\n",
    "\n",
    "    # print the necessary values\n",
    "    print 'P Values:', pvals\n",
    "    print 'Coefficients:', algo.coef_\n",
    "    print 'y-intercept:', algo.intercept_\n",
    "    print 'R-Squared:', algo.score(X,y)\n",
    "    print 'Mean squared error:', metrics.mean_squared_error(y, algo.predict(X))\n",
    "    \n",
    "# metrics is the module you are using. mean_squared_error is the calculation you use\n",
    "    \n",
    "    plt.figure()\n",
    "    plt.hist(residuals, bins=int(np.ceil(np.sqrt(len(y)))))\n",
    "    \n",
    "    # keep the model\n",
    "    return algo\n",
    "\n",
    "\n",
    "X = mammals[['bodywt']]\n",
    "y = mammals['brainwt']\n",
    "lm = linear_model.LinearRegression()\n",
    "lm = get_linear_model_metrics(X, y, lm)\n"
   ]
  },
  {
   "cell_type": "markdown",
   "metadata": {},
   "source": [
    "## Cross validation\n",
    "#### Intro to cross validation with bike share data from last time. We will be modeling casual ridership. "
   ]
  },
  {
   "cell_type": "code",
   "execution_count": 10,
   "metadata": {},
   "outputs": [],
   "source": [
    "from sklearn import cross_validation\n",
    "wd = '../dataset/'\n",
    "bikeshare = pd.read_csv(wd + 'bikeshare.csv')"
   ]
  },
  {
   "cell_type": "markdown",
   "metadata": {},
   "source": [
    "####Create dummy variables and set outcome (dependent) variable"
   ]
  },
  {
   "cell_type": "code",
   "execution_count": 11,
   "metadata": {
    "collapsed": true
   },
   "outputs": [],
   "source": [
    "weather = pd.get_dummies(bikeshare.weathersit, prefix='weather')  # alternative short-cut way!\n",
    "modeldata = bikeshare[['temp', 'hum']].join(weather[['weather_1', 'weather_2', 'weather_3']])\n",
    "y = bikeshare.casual \n",
    "\n",
    "# Combining dataframes using join function"
   ]
  },
  {
   "cell_type": "markdown",
   "metadata": {},
   "source": [
    "#### Create a cross valiation with 5 folds"
   ]
  },
  {
   "cell_type": "code",
   "execution_count": 12,
   "metadata": {},
   "outputs": [],
   "source": [
    "kf = cross_validation.KFold(len(modeldata), n_folds=5, shuffle=True)"
   ]
  },
  {
   "cell_type": "code",
   "execution_count": 9,
   "metadata": {},
   "outputs": [
    {
     "data": {
      "text/plain": [
       "array([ 8990,  8451, 12807, ...,  5231,  9822, 11462])"
      ]
     },
     "execution_count": 9,
     "metadata": {},
     "output_type": "execute_result"
    }
   ],
   "source": [
    "kf.idxs"
   ]
  },
  {
   "cell_type": "code",
   "execution_count": 13,
   "metadata": {},
   "outputs": [
    {
     "name": "stdout",
     "output_type": "stream",
     "text": [
      "~~~~ CROSS VALIDATION each fold ~~~~\n",
      "train indices [    0     1     2 ..., 17374 17375 17377]\n",
      "test indices [    6     8    12 ..., 17368 17376 17378]\n",
      "Model 1\n",
      "MSE: 1652.86738272\n",
      "R2: 0.311913321531\n",
      "train indices [    1     2     3 ..., 17375 17376 17378]\n",
      "test indices [    0     5    10 ..., 17344 17374 17377]\n",
      "Model 2\n",
      "MSE: 1584.55022263\n",
      "R2: 0.311914368973\n",
      "train indices [    0     2     4 ..., 17376 17377 17378]\n",
      "test indices [    1     3     9 ..., 17372 17373 17375]\n",
      "Model 3\n",
      "MSE: 1550.99244223\n",
      "R2: 0.31188696563\n",
      "train indices [    0     1     3 ..., 17376 17377 17378]\n",
      "test indices [    2     7    21 ..., 17369 17370 17371]\n",
      "Model 4\n",
      "MSE: 1774.56850375\n",
      "R2: 0.311893327075\n",
      "train indices [    0     1     2 ..., 17376 17377 17378]\n",
      "test indices [    4    22    25 ..., 17362 17365 17367]\n",
      "Model 5\n",
      "MSE: 1803.54239047\n",
      "R2: 0.311901478485\n",
      "~~~~ SUMMARY OF CROSS VALIDATION ~~~~\n",
      "Mean of MSE for all folds: 1673.30418836\n",
      "Mean of R2 for all folds: 0.311901892339\n"
     ]
    }
   ],
   "source": [
    "mse_values = []\n",
    "scores = []\n",
    "n= 0\n",
    "print \"~~~~ CROSS VALIDATION each fold ~~~~\"\n",
    "for train_index, test_index in kf:\n",
    "    print \"train indices\", train_index\n",
    "    print \"test indices\", test_index\n",
    "    lm = linear_model.LinearRegression().fit(modeldata.iloc[train_index], y.iloc[train_index])\n",
    "    mse_values.append(metrics.mean_squared_error(y.iloc[test_index], lm.predict(modeldata.iloc[test_index])))\n",
    "    scores.append(lm.score(modeldata, y))\n",
    "    n+=1\n",
    "    print 'Model', n\n",
    "    print 'MSE:', mse_values[n-1]\n",
    "    print 'R2:', scores[n-1]\n",
    "    \n",
    "\n",
    "\n",
    "print \"~~~~ SUMMARY OF CROSS VALIDATION ~~~~\"\n",
    "print 'Mean of MSE for all folds:', np.mean(mse_values)\n",
    "print 'Mean of R2 for all folds:', np.mean(scores)"
   ]
  },
  {
   "cell_type": "code",
   "execution_count": 14,
   "metadata": {},
   "outputs": [
    {
     "name": "stdout",
     "output_type": "stream",
     "text": [
      "~~~~ Single Model ~~~~\n",
      "MSE of single model: 1672.58110765\n",
      "R2:  0.311934605989\n"
     ]
    }
   ],
   "source": [
    "lm = linear_model.LinearRegression().fit(modeldata, y)\n",
    "print \"~~~~ Single Model ~~~~\"\n",
    "print 'MSE of single model:', metrics.mean_squared_error(y, lm.predict(modeldata))\n",
    "print 'R2: ', lm.score(modeldata, y)"
   ]
  },
  {
   "cell_type": "code",
   "execution_count": 15,
   "metadata": {},
   "outputs": [
    {
     "name": "stdout",
     "output_type": "stream",
     "text": [
      "[1674.7534994810815, 1673.4916966346821, 1673.6477538986728, 1673.5724312049856, 1673.2769816531545, 1673.502844250319, 1673.9886974595968, 1673.4820641904521, 1673.8098038368475, 1673.6076096674365, 1673.3981345648515, 1673.3055493155568, 1673.3659378752104, 1673.3016961980427, 1673.6089761165542, 1673.7426061021606, 1673.5192091303427, 1673.5124184955173, 1673.4461744521461, 1673.5736511655668, 1673.3799065638752, 1673.388256020248, 1673.5269129362914, 1673.3776268097429, 1673.3834043564407]\n",
      "[0.31163636057250438, 0.31188117302740392, 0.31189486476612194, 0.31190718124035288, 0.31191953065189476, 0.31191812431692417, 0.31191289323631405, 0.31192294479258909, 0.31192031726689684, 0.31192391889666915, 0.31192662684761208, 0.31192829248984105, 0.31192812829815908, 0.31192902924678695, 0.31192791834062877, 0.31192709688858927, 0.3119288432643586, 0.31192911799005957, 0.31192988233300573, 0.31193008380776543, 0.31193076162628386, 0.31193080482008734, 0.31192997243963222, 0.31193105160719303, 0.31193095213458227]\n"
     ]
    }
   ],
   "source": [
    "# This is extra code to answer the question in the PDF of lesson 7 doing 2 to 50 k fold ....\n",
    "\n",
    "kfolds = range(2,51,2)\n",
    "mean_mse = []\n",
    "mean_r2 = []\n",
    "for each_fold in kfolds:\n",
    "    kf = cross_validation.KFold(len(modeldata), n_folds=each_fold, shuffle=True)\n",
    "    mse_values = []\n",
    "    scores = []\n",
    "    n= 0\n",
    "    for train_index, test_index in kf:\n",
    "        lm = linear_model.LinearRegression().fit(modeldata.iloc[train_index], y.iloc[train_index])\n",
    "        mse_values.append(metrics.mean_squared_error(y.iloc[test_index], lm.predict(modeldata.iloc[test_index])))\n",
    "        scores.append(lm.score(modeldata, y))\n",
    "        n+=1\n",
    "    \n",
    "    mean_mse.append(np.mean(mse_values))\n",
    "    mean_r2.append(np.mean(scores))\n",
    "\n",
    "print mean_mse\n",
    "print mean_r2"
   ]
  },
  {
   "cell_type": "markdown",
   "metadata": {},
   "source": [
    "### Check\n",
    "While the cross validated approach here generated more overall error, which of the two approaches would predict new data more accurately: the single model or the cross validated, averaged one? Why?\n"
   ]
  },
  {
   "cell_type": "markdown",
   "metadata": {},
   "source": [
    "Answer: "
   ]
  },
  {
   "cell_type": "markdown",
   "metadata": {},
   "source": [
    "### There are ways to improve our model with regularization. \n",
    "Let's check out the effects on MSE and R2"
   ]
  },
  {
   "cell_type": "code",
   "execution_count": 16,
   "metadata": {},
   "outputs": [
    {
     "name": "stdout",
     "output_type": "stream",
     "text": [
      "~~~ OLS ~~~\n",
      "OLS MSE:  1672.58110765\n",
      "OLS R2: 0.311934605989\n",
      "~~~ Lasso ~~~\n",
      "Lasso MSE:  1725.41581608\n",
      "Lasso R2: 0.290199495922\n",
      "~~~ Ridge ~~~\n",
      "Ridge MSE:  1672.60490113\n",
      "Ridge R2: 0.311924817843\n",
      "[ 112.50129738  -83.84805622  -13.38214934   -9.72671278  -10.46162477]\n"
     ]
    }
   ],
   "source": [
    "lm = linear_model.LinearRegression()\n",
    "lm.fit(modeldata, y)\n",
    "\n",
    "# could also be on smae line as illustrate below\n",
    "print \"~~~ OLS ~~~\"\n",
    "print 'OLS MSE: ', metrics.mean_squared_error(y, lm.predict(modeldata))\n",
    "print 'OLS R2:', lm.score(modeldata, y)\n",
    "\n",
    "lm = linear_model.Lasso().fit(modeldata, y)\n",
    "print \"~~~ Lasso ~~~\"\n",
    "print 'Lasso MSE: ', metrics.mean_squared_error(y, lm.predict(modeldata))\n",
    "print 'Lasso R2:', lm.score(modeldata, y)\n",
    "# lasso throws away variables which makes the model worse (as results show) since the \n",
    "# model is already very simple\n",
    "\n",
    "lm = linear_model.Ridge().fit(modeldata, y)\n",
    "print \"~~~ Ridge ~~~\"\n",
    "print 'Ridge MSE: ', metrics.mean_squared_error(y, lm.predict(modeldata))\n",
    "print 'Ridge R2:', lm.score(modeldata, y)\n",
    "print lm.coef_\n",
    "# even ridge is slightly worse than regular OLS model. "
   ]
  },
  {
   "cell_type": "markdown",
   "metadata": {},
   "source": [
    "### Figuring out the alphas can be done by \"hand\""
   ]
  },
  {
   "cell_type": "code",
   "execution_count": 17,
   "metadata": {},
   "outputs": [
    {
     "name": "stdout",
     "output_type": "stream",
     "text": [
      "Alpha: 1e-10\n",
      "[ 112.67353849  -83.99400867  -14.13184385  -10.45474561  -11.1736308 ]\n",
      "1672.60030785\n",
      "Alpha: 1e-09\n"
     ]
    },
    {
     "name": "stderr",
     "output_type": "stream",
     "text": [
      "/Applications/anaconda/lib/python2.7/site-packages/sklearn/linear_model/coordinate_descent.py:484: ConvergenceWarning: Objective did not converge. You might want to increase the number of iterations. Fitting data with very small alpha may cause precision problems.\n",
      "  ConvergenceWarning)\n"
     ]
    },
    {
     "name": "stdout",
     "output_type": "stream",
     "text": [
      "[ 112.67353845  -83.99400863  -14.13183603  -10.45473779  -11.17362296]\n",
      "1672.60030788\n",
      "Alpha: 1e-08\n",
      "[ 112.67353812  -83.99400832  -14.13175774  -10.45465952  -11.17354466]\n",
      "1672.60030816\n",
      "Alpha: 1e-07\n",
      "[ 112.67353477  -83.99400521  -14.13097487  -10.4538768   -11.17276161]\n",
      "1672.60031101\n",
      "Alpha: 1e-06\n",
      "[ 112.67350128  -83.99397405  -14.12314614  -10.4460497   -11.16493108]\n",
      "1672.60033951\n",
      "Alpha: 1e-05\n",
      "[ 112.67316634  -83.9936625   -14.04485887  -10.36777861  -11.08662579]\n",
      "1672.60062569\n",
      "Alpha: 0.0001\n",
      "[ 112.66981758  -83.99054765  -13.26239352   -9.58547483  -10.30397994]\n",
      "1672.60360255\n",
      "Alpha: 0.001\n",
      "[ 112.63635975  -83.9594323    -5.45806601   -1.78275411   -2.49783247]\n",
      "1672.64489673\n",
      "Alpha: 0.01\n",
      "[ 112.39077334  -83.66325507   -2.90812399    0.66752444   -0.        ]\n",
      "1672.66932453\n",
      "Alpha: 0.1\n",
      "[ 109.93593998  -80.45002088   -1.82328187    0.77974702   -0.        ]\n",
      "1673.39565389\n",
      "Alpha: 1.0\n",
      "[ 86.81079432 -55.76414394   0.          -0.          -0.        ]\n",
      "1725.41581608\n",
      "Alpha: 10.0\n",
      "[ 0. -0.  0. -0. -0.]\n",
      "2430.84614081\n",
      "Alpha: 100.0\n",
      "[ 0. -0.  0. -0. -0.]\n",
      "2430.84614081\n",
      "Alpha: 1000.0\n",
      "[ 0. -0.  0. -0. -0.]\n",
      "2430.84614081\n",
      "Alpha: 10000.0\n",
      "[ 0. -0.  0. -0. -0.]\n",
      "2430.84614081\n",
      "Alpha: 100000.0\n",
      "[ 0. -0.  0. -0. -0.]\n",
      "2430.84614081\n",
      "Alpha: 1000000.0\n",
      "[ 0. -0.  0. -0. -0.]\n",
      "2430.84614081\n",
      "Alpha: 10000000.0\n",
      "[ 0. -0.  0. -0. -0.]\n",
      "2430.84614081\n",
      "Alpha: 100000000.0\n",
      "[ 0. -0.  0. -0. -0.]\n",
      "2430.84614081\n",
      "Alpha: 1000000000.0\n",
      "[ 0. -0.  0. -0. -0.]\n",
      "2430.84614081\n",
      "Alpha: 10000000000.0\n",
      "[ 0. -0.  0. -0. -0.]\n",
      "2430.84614081\n"
     ]
    }
   ],
   "source": [
    "alphas = np.logspace(-10, 10, 21)\n",
    "# creates 21 observations between large range of -10 to 10 both to power of 10\n",
    "# a is the weight you give to the various variables and this for loop shows you\n",
    "# what different manually set weights do for the accuracy of your model\n",
    "\n",
    "for a in alphas:\n",
    "    print 'Alpha:', a\n",
    "    lm = linear_model.Lasso(alpha=a)\n",
    "    lm.fit(modeldata, y)\n",
    "    print lm.coef_\n",
    "    print metrics.mean_squared_error(y, lm.predict(modeldata))\n",
    "    \n",
    "    \n",
    "# pick the alpha with lowest mean squared error. Do note that in the above example we \n",
    "# used the same data for training and testing (modedata) which is obviously not good. WE\n",
    "# should have used a different data set for training than for testing"
   ]
  },
  {
   "cell_type": "markdown",
   "metadata": {},
   "source": [
    "### Or we can use grid search to make this faster"
   ]
  },
  {
   "cell_type": "code",
   "execution_count": 18,
   "metadata": {},
   "outputs": [
    {
     "name": "stderr",
     "output_type": "stream",
     "text": [
      "/Applications/anaconda/lib/python2.7/site-packages/sklearn/metrics/scorer.py:90: DeprecationWarning: Scoring method mean_squared_error was renamed to neg_mean_squared_error in version 0.18 and will be removed in 0.20.\n",
      "  sample_weight=sample_weight)\n",
      "/Applications/anaconda/lib/python2.7/site-packages/sklearn/metrics/scorer.py:90: DeprecationWarning: Scoring method mean_squared_error was renamed to neg_mean_squared_error in version 0.18 and will be removed in 0.20.\n",
      "  sample_weight=sample_weight)\n",
      "/Applications/anaconda/lib/python2.7/site-packages/sklearn/metrics/scorer.py:90: DeprecationWarning: Scoring method mean_squared_error was renamed to neg_mean_squared_error in version 0.18 and will be removed in 0.20.\n",
      "  sample_weight=sample_weight)\n",
      "/Applications/anaconda/lib/python2.7/site-packages/sklearn/metrics/scorer.py:90: DeprecationWarning: Scoring method mean_squared_error was renamed to neg_mean_squared_error in version 0.18 and will be removed in 0.20.\n",
      "  sample_weight=sample_weight)\n",
      "/Applications/anaconda/lib/python2.7/site-packages/sklearn/metrics/scorer.py:90: DeprecationWarning: Scoring method mean_squared_error was renamed to neg_mean_squared_error in version 0.18 and will be removed in 0.20.\n",
      "  sample_weight=sample_weight)\n",
      "/Applications/anaconda/lib/python2.7/site-packages/sklearn/metrics/scorer.py:90: DeprecationWarning: Scoring method mean_squared_error was renamed to neg_mean_squared_error in version 0.18 and will be removed in 0.20.\n",
      "  sample_weight=sample_weight)\n",
      "/Applications/anaconda/lib/python2.7/site-packages/sklearn/metrics/scorer.py:90: DeprecationWarning: Scoring method mean_squared_error was renamed to neg_mean_squared_error in version 0.18 and will be removed in 0.20.\n",
      "  sample_weight=sample_weight)\n",
      "/Applications/anaconda/lib/python2.7/site-packages/sklearn/metrics/scorer.py:90: DeprecationWarning: Scoring method mean_squared_error was renamed to neg_mean_squared_error in version 0.18 and will be removed in 0.20.\n",
      "  sample_weight=sample_weight)\n",
      "/Applications/anaconda/lib/python2.7/site-packages/sklearn/metrics/scorer.py:90: DeprecationWarning: Scoring method mean_squared_error was renamed to neg_mean_squared_error in version 0.18 and will be removed in 0.20.\n",
      "  sample_weight=sample_weight)\n",
      "/Applications/anaconda/lib/python2.7/site-packages/sklearn/metrics/scorer.py:90: DeprecationWarning: Scoring method mean_squared_error was renamed to neg_mean_squared_error in version 0.18 and will be removed in 0.20.\n",
      "  sample_weight=sample_weight)\n",
      "/Applications/anaconda/lib/python2.7/site-packages/sklearn/metrics/scorer.py:90: DeprecationWarning: Scoring method mean_squared_error was renamed to neg_mean_squared_error in version 0.18 and will be removed in 0.20.\n",
      "  sample_weight=sample_weight)\n",
      "/Applications/anaconda/lib/python2.7/site-packages/sklearn/metrics/scorer.py:90: DeprecationWarning: Scoring method mean_squared_error was renamed to neg_mean_squared_error in version 0.18 and will be removed in 0.20.\n",
      "  sample_weight=sample_weight)\n",
      "/Applications/anaconda/lib/python2.7/site-packages/sklearn/metrics/scorer.py:90: DeprecationWarning: Scoring method mean_squared_error was renamed to neg_mean_squared_error in version 0.18 and will be removed in 0.20.\n",
      "  sample_weight=sample_weight)\n",
      "/Applications/anaconda/lib/python2.7/site-packages/sklearn/metrics/scorer.py:90: DeprecationWarning: Scoring method mean_squared_error was renamed to neg_mean_squared_error in version 0.18 and will be removed in 0.20.\n",
      "  sample_weight=sample_weight)\n",
      "/Applications/anaconda/lib/python2.7/site-packages/sklearn/metrics/scorer.py:90: DeprecationWarning: Scoring method mean_squared_error was renamed to neg_mean_squared_error in version 0.18 and will be removed in 0.20.\n",
      "  sample_weight=sample_weight)\n",
      "/Applications/anaconda/lib/python2.7/site-packages/sklearn/metrics/scorer.py:90: DeprecationWarning: Scoring method mean_squared_error was renamed to neg_mean_squared_error in version 0.18 and will be removed in 0.20.\n",
      "  sample_weight=sample_weight)\n",
      "/Applications/anaconda/lib/python2.7/site-packages/sklearn/metrics/scorer.py:90: DeprecationWarning: Scoring method mean_squared_error was renamed to neg_mean_squared_error in version 0.18 and will be removed in 0.20.\n",
      "  sample_weight=sample_weight)\n",
      "/Applications/anaconda/lib/python2.7/site-packages/sklearn/metrics/scorer.py:90: DeprecationWarning: Scoring method mean_squared_error was renamed to neg_mean_squared_error in version 0.18 and will be removed in 0.20.\n",
      "  sample_weight=sample_weight)\n",
      "/Applications/anaconda/lib/python2.7/site-packages/sklearn/metrics/scorer.py:90: DeprecationWarning: Scoring method mean_squared_error was renamed to neg_mean_squared_error in version 0.18 and will be removed in 0.20.\n",
      "  sample_weight=sample_weight)\n",
      "/Applications/anaconda/lib/python2.7/site-packages/sklearn/metrics/scorer.py:90: DeprecationWarning: Scoring method mean_squared_error was renamed to neg_mean_squared_error in version 0.18 and will be removed in 0.20.\n",
      "  sample_weight=sample_weight)\n",
      "/Applications/anaconda/lib/python2.7/site-packages/sklearn/metrics/scorer.py:90: DeprecationWarning: Scoring method mean_squared_error was renamed to neg_mean_squared_error in version 0.18 and will be removed in 0.20.\n",
      "  sample_weight=sample_weight)\n",
      "/Applications/anaconda/lib/python2.7/site-packages/sklearn/metrics/scorer.py:90: DeprecationWarning: Scoring method mean_squared_error was renamed to neg_mean_squared_error in version 0.18 and will be removed in 0.20.\n",
      "  sample_weight=sample_weight)\n",
      "/Applications/anaconda/lib/python2.7/site-packages/sklearn/metrics/scorer.py:90: DeprecationWarning: Scoring method mean_squared_error was renamed to neg_mean_squared_error in version 0.18 and will be removed in 0.20.\n",
      "  sample_weight=sample_weight)\n",
      "/Applications/anaconda/lib/python2.7/site-packages/sklearn/metrics/scorer.py:90: DeprecationWarning: Scoring method mean_squared_error was renamed to neg_mean_squared_error in version 0.18 and will be removed in 0.20.\n",
      "  sample_weight=sample_weight)\n",
      "/Applications/anaconda/lib/python2.7/site-packages/sklearn/metrics/scorer.py:90: DeprecationWarning: Scoring method mean_squared_error was renamed to neg_mean_squared_error in version 0.18 and will be removed in 0.20.\n",
      "  sample_weight=sample_weight)\n",
      "/Applications/anaconda/lib/python2.7/site-packages/sklearn/metrics/scorer.py:90: DeprecationWarning: Scoring method mean_squared_error was renamed to neg_mean_squared_error in version 0.18 and will be removed in 0.20.\n",
      "  sample_weight=sample_weight)\n",
      "/Applications/anaconda/lib/python2.7/site-packages/sklearn/metrics/scorer.py:90: DeprecationWarning: Scoring method mean_squared_error was renamed to neg_mean_squared_error in version 0.18 and will be removed in 0.20.\n",
      "  sample_weight=sample_weight)\n",
      "/Applications/anaconda/lib/python2.7/site-packages/sklearn/metrics/scorer.py:90: DeprecationWarning: Scoring method mean_squared_error was renamed to neg_mean_squared_error in version 0.18 and will be removed in 0.20.\n",
      "  sample_weight=sample_weight)\n",
      "/Applications/anaconda/lib/python2.7/site-packages/sklearn/metrics/scorer.py:90: DeprecationWarning: Scoring method mean_squared_error was renamed to neg_mean_squared_error in version 0.18 and will be removed in 0.20.\n",
      "  sample_weight=sample_weight)\n",
      "/Applications/anaconda/lib/python2.7/site-packages/sklearn/metrics/scorer.py:90: DeprecationWarning: Scoring method mean_squared_error was renamed to neg_mean_squared_error in version 0.18 and will be removed in 0.20.\n",
      "  sample_weight=sample_weight)\n",
      "/Applications/anaconda/lib/python2.7/site-packages/sklearn/metrics/scorer.py:90: DeprecationWarning: Scoring method mean_squared_error was renamed to neg_mean_squared_error in version 0.18 and will be removed in 0.20.\n",
      "  sample_weight=sample_weight)\n",
      "/Applications/anaconda/lib/python2.7/site-packages/sklearn/metrics/scorer.py:90: DeprecationWarning: Scoring method mean_squared_error was renamed to neg_mean_squared_error in version 0.18 and will be removed in 0.20.\n",
      "  sample_weight=sample_weight)\n",
      "/Applications/anaconda/lib/python2.7/site-packages/sklearn/metrics/scorer.py:90: DeprecationWarning: Scoring method mean_squared_error was renamed to neg_mean_squared_error in version 0.18 and will be removed in 0.20.\n",
      "  sample_weight=sample_weight)\n",
      "/Applications/anaconda/lib/python2.7/site-packages/sklearn/metrics/scorer.py:90: DeprecationWarning: Scoring method mean_squared_error was renamed to neg_mean_squared_error in version 0.18 and will be removed in 0.20.\n",
      "  sample_weight=sample_weight)\n"
     ]
    },
    {
     "name": "stderr",
     "output_type": "stream",
     "text": [
      "/Applications/anaconda/lib/python2.7/site-packages/sklearn/metrics/scorer.py:90: DeprecationWarning: Scoring method mean_squared_error was renamed to neg_mean_squared_error in version 0.18 and will be removed in 0.20.\n",
      "  sample_weight=sample_weight)\n",
      "/Applications/anaconda/lib/python2.7/site-packages/sklearn/metrics/scorer.py:90: DeprecationWarning: Scoring method mean_squared_error was renamed to neg_mean_squared_error in version 0.18 and will be removed in 0.20.\n",
      "  sample_weight=sample_weight)\n",
      "/Applications/anaconda/lib/python2.7/site-packages/sklearn/metrics/scorer.py:90: DeprecationWarning: Scoring method mean_squared_error was renamed to neg_mean_squared_error in version 0.18 and will be removed in 0.20.\n",
      "  sample_weight=sample_weight)\n",
      "/Applications/anaconda/lib/python2.7/site-packages/sklearn/metrics/scorer.py:90: DeprecationWarning: Scoring method mean_squared_error was renamed to neg_mean_squared_error in version 0.18 and will be removed in 0.20.\n",
      "  sample_weight=sample_weight)\n",
      "/Applications/anaconda/lib/python2.7/site-packages/sklearn/metrics/scorer.py:90: DeprecationWarning: Scoring method mean_squared_error was renamed to neg_mean_squared_error in version 0.18 and will be removed in 0.20.\n",
      "  sample_weight=sample_weight)\n",
      "/Applications/anaconda/lib/python2.7/site-packages/sklearn/metrics/scorer.py:90: DeprecationWarning: Scoring method mean_squared_error was renamed to neg_mean_squared_error in version 0.18 and will be removed in 0.20.\n",
      "  sample_weight=sample_weight)\n",
      "/Applications/anaconda/lib/python2.7/site-packages/sklearn/metrics/scorer.py:90: DeprecationWarning: Scoring method mean_squared_error was renamed to neg_mean_squared_error in version 0.18 and will be removed in 0.20.\n",
      "  sample_weight=sample_weight)\n",
      "/Applications/anaconda/lib/python2.7/site-packages/sklearn/metrics/scorer.py:90: DeprecationWarning: Scoring method mean_squared_error was renamed to neg_mean_squared_error in version 0.18 and will be removed in 0.20.\n",
      "  sample_weight=sample_weight)\n",
      "/Applications/anaconda/lib/python2.7/site-packages/sklearn/metrics/scorer.py:90: DeprecationWarning: Scoring method mean_squared_error was renamed to neg_mean_squared_error in version 0.18 and will be removed in 0.20.\n",
      "  sample_weight=sample_weight)\n",
      "/Applications/anaconda/lib/python2.7/site-packages/sklearn/metrics/scorer.py:90: DeprecationWarning: Scoring method mean_squared_error was renamed to neg_mean_squared_error in version 0.18 and will be removed in 0.20.\n",
      "  sample_weight=sample_weight)\n",
      "/Applications/anaconda/lib/python2.7/site-packages/sklearn/metrics/scorer.py:90: DeprecationWarning: Scoring method mean_squared_error was renamed to neg_mean_squared_error in version 0.18 and will be removed in 0.20.\n",
      "  sample_weight=sample_weight)\n",
      "/Applications/anaconda/lib/python2.7/site-packages/sklearn/metrics/scorer.py:90: DeprecationWarning: Scoring method mean_squared_error was renamed to neg_mean_squared_error in version 0.18 and will be removed in 0.20.\n",
      "  sample_weight=sample_weight)\n",
      "/Applications/anaconda/lib/python2.7/site-packages/sklearn/metrics/scorer.py:90: DeprecationWarning: Scoring method mean_squared_error was renamed to neg_mean_squared_error in version 0.18 and will be removed in 0.20.\n",
      "  sample_weight=sample_weight)\n",
      "/Applications/anaconda/lib/python2.7/site-packages/sklearn/metrics/scorer.py:90: DeprecationWarning: Scoring method mean_squared_error was renamed to neg_mean_squared_error in version 0.18 and will be removed in 0.20.\n",
      "  sample_weight=sample_weight)\n",
      "/Applications/anaconda/lib/python2.7/site-packages/sklearn/metrics/scorer.py:90: DeprecationWarning: Scoring method mean_squared_error was renamed to neg_mean_squared_error in version 0.18 and will be removed in 0.20.\n",
      "  sample_weight=sample_weight)\n",
      "/Applications/anaconda/lib/python2.7/site-packages/sklearn/metrics/scorer.py:90: DeprecationWarning: Scoring method mean_squared_error was renamed to neg_mean_squared_error in version 0.18 and will be removed in 0.20.\n",
      "  sample_weight=sample_weight)\n",
      "/Applications/anaconda/lib/python2.7/site-packages/sklearn/metrics/scorer.py:90: DeprecationWarning: Scoring method mean_squared_error was renamed to neg_mean_squared_error in version 0.18 and will be removed in 0.20.\n",
      "  sample_weight=sample_weight)\n",
      "/Applications/anaconda/lib/python2.7/site-packages/sklearn/metrics/scorer.py:90: DeprecationWarning: Scoring method mean_squared_error was renamed to neg_mean_squared_error in version 0.18 and will be removed in 0.20.\n",
      "  sample_weight=sample_weight)\n",
      "/Applications/anaconda/lib/python2.7/site-packages/sklearn/metrics/scorer.py:90: DeprecationWarning: Scoring method mean_squared_error was renamed to neg_mean_squared_error in version 0.18 and will be removed in 0.20.\n",
      "  sample_weight=sample_weight)\n",
      "/Applications/anaconda/lib/python2.7/site-packages/sklearn/metrics/scorer.py:90: DeprecationWarning: Scoring method mean_squared_error was renamed to neg_mean_squared_error in version 0.18 and will be removed in 0.20.\n",
      "  sample_weight=sample_weight)\n",
      "/Applications/anaconda/lib/python2.7/site-packages/sklearn/metrics/scorer.py:90: DeprecationWarning: Scoring method mean_squared_error was renamed to neg_mean_squared_error in version 0.18 and will be removed in 0.20.\n",
      "  sample_weight=sample_weight)\n",
      "/Applications/anaconda/lib/python2.7/site-packages/sklearn/metrics/scorer.py:90: DeprecationWarning: Scoring method mean_squared_error was renamed to neg_mean_squared_error in version 0.18 and will be removed in 0.20.\n",
      "  sample_weight=sample_weight)\n",
      "/Applications/anaconda/lib/python2.7/site-packages/sklearn/metrics/scorer.py:90: DeprecationWarning: Scoring method mean_squared_error was renamed to neg_mean_squared_error in version 0.18 and will be removed in 0.20.\n",
      "  sample_weight=sample_weight)\n",
      "/Applications/anaconda/lib/python2.7/site-packages/sklearn/metrics/scorer.py:90: DeprecationWarning: Scoring method mean_squared_error was renamed to neg_mean_squared_error in version 0.18 and will be removed in 0.20.\n",
      "  sample_weight=sample_weight)\n",
      "/Applications/anaconda/lib/python2.7/site-packages/sklearn/metrics/scorer.py:90: DeprecationWarning: Scoring method mean_squared_error was renamed to neg_mean_squared_error in version 0.18 and will be removed in 0.20.\n",
      "  sample_weight=sample_weight)\n",
      "/Applications/anaconda/lib/python2.7/site-packages/sklearn/metrics/scorer.py:90: DeprecationWarning: Scoring method mean_squared_error was renamed to neg_mean_squared_error in version 0.18 and will be removed in 0.20.\n",
      "  sample_weight=sample_weight)\n",
      "/Applications/anaconda/lib/python2.7/site-packages/sklearn/metrics/scorer.py:90: DeprecationWarning: Scoring method mean_squared_error was renamed to neg_mean_squared_error in version 0.18 and will be removed in 0.20.\n",
      "  sample_weight=sample_weight)\n",
      "/Applications/anaconda/lib/python2.7/site-packages/sklearn/metrics/scorer.py:90: DeprecationWarning: Scoring method mean_squared_error was renamed to neg_mean_squared_error in version 0.18 and will be removed in 0.20.\n",
      "  sample_weight=sample_weight)\n",
      "/Applications/anaconda/lib/python2.7/site-packages/sklearn/metrics/scorer.py:90: DeprecationWarning: Scoring method mean_squared_error was renamed to neg_mean_squared_error in version 0.18 and will be removed in 0.20.\n",
      "  sample_weight=sample_weight)\n"
     ]
    },
    {
     "data": {
      "text/plain": [
       "GridSearchCV(cv=None, error_score='raise',\n",
       "       estimator=Ridge(alpha=1.0, copy_X=True, fit_intercept=True, max_iter=None,\n",
       "   normalize=False, random_state=None, solver='auto', tol=0.001),\n",
       "       fit_params={}, iid=True, n_jobs=1,\n",
       "       param_grid={'alpha': array([  1.00000e-10,   1.00000e-09,   1.00000e-08,   1.00000e-07,\n",
       "         1.00000e-06,   1.00000e-05,   1.00000e-04,   1.00000e-03,\n",
       "         1.00000e-02,   1.00000e-01,   1.00000e+00,   1.00000e+01,\n",
       "         1.00000e+02,   1.00000e+03,   1.00000e+04,   1.00000e+05,\n",
       "         1.00000e+06,   1.00000e+07,   1.00000e+08,   1.00000e+09,\n",
       "         1.00000e+10])},\n",
       "       pre_dispatch='2*n_jobs', refit=True, scoring='mean_squared_error',\n",
       "       verbose=0)"
      ]
     },
     "execution_count": 18,
     "metadata": {},
     "output_type": "execute_result"
    }
   ],
   "source": [
    "from sklearn import grid_search\n",
    "\n",
    "# call grid_search function cross validation (by default 3 fold cross validation \n",
    "# but you can also set k differently) to determine best value for hyper parameter by\n",
    "# running model for various values of the hyper parameter\n",
    "\n",
    "# so in this case you specify model as ridge regression and the grid function runs it for \n",
    "# different values of the \"weights\" and specifies which vlaue of weight is the best (in terms of\n",
    "# minimal mean squared error)\n",
    "\n",
    "alphas = np.logspace(-10, 10, 21)\n",
    "gs = grid_search.GridSearchCV(\n",
    "    estimator=linear_model.Ridge(),\n",
    "    param_grid={'alpha': alphas},\n",
    "    scoring='mean_squared_error')\n",
    "\n",
    "gs.fit(modeldata, y)\n"
   ]
  },
  {
   "cell_type": "code",
   "execution_count": 24,
   "metadata": {},
   "outputs": [
    {
     "name": "stderr",
     "output_type": "stream",
     "text": [
      "/Applications/anaconda/lib/python2.7/site-packages/sklearn/metrics/scorer.py:90: DeprecationWarning: Scoring method mean_squared_error was renamed to neg_mean_squared_error in version 0.18 and will be removed in 0.20.\n",
      "  sample_weight=sample_weight)\n",
      "/Applications/anaconda/lib/python2.7/site-packages/sklearn/metrics/scorer.py:90: DeprecationWarning: Scoring method mean_squared_error was renamed to neg_mean_squared_error in version 0.18 and will be removed in 0.20.\n",
      "  sample_weight=sample_weight)\n",
      "/Applications/anaconda/lib/python2.7/site-packages/sklearn/metrics/scorer.py:90: DeprecationWarning: Scoring method mean_squared_error was renamed to neg_mean_squared_error in version 0.18 and will be removed in 0.20.\n",
      "  sample_weight=sample_weight)\n",
      "/Applications/anaconda/lib/python2.7/site-packages/sklearn/metrics/scorer.py:90: DeprecationWarning: Scoring method mean_squared_error was renamed to neg_mean_squared_error in version 0.18 and will be removed in 0.20.\n",
      "  sample_weight=sample_weight)\n",
      "/Applications/anaconda/lib/python2.7/site-packages/sklearn/metrics/scorer.py:90: DeprecationWarning: Scoring method mean_squared_error was renamed to neg_mean_squared_error in version 0.18 and will be removed in 0.20.\n",
      "  sample_weight=sample_weight)\n",
      "/Applications/anaconda/lib/python2.7/site-packages/sklearn/metrics/scorer.py:90: DeprecationWarning: Scoring method mean_squared_error was renamed to neg_mean_squared_error in version 0.18 and will be removed in 0.20.\n",
      "  sample_weight=sample_weight)\n",
      "/Applications/anaconda/lib/python2.7/site-packages/sklearn/metrics/scorer.py:90: DeprecationWarning: Scoring method mean_squared_error was renamed to neg_mean_squared_error in version 0.18 and will be removed in 0.20.\n",
      "  sample_weight=sample_weight)\n",
      "/Applications/anaconda/lib/python2.7/site-packages/sklearn/metrics/scorer.py:90: DeprecationWarning: Scoring method mean_squared_error was renamed to neg_mean_squared_error in version 0.18 and will be removed in 0.20.\n",
      "  sample_weight=sample_weight)\n",
      "/Applications/anaconda/lib/python2.7/site-packages/sklearn/metrics/scorer.py:90: DeprecationWarning: Scoring method mean_squared_error was renamed to neg_mean_squared_error in version 0.18 and will be removed in 0.20.\n",
      "  sample_weight=sample_weight)\n",
      "/Applications/anaconda/lib/python2.7/site-packages/sklearn/metrics/scorer.py:90: DeprecationWarning: Scoring method mean_squared_error was renamed to neg_mean_squared_error in version 0.18 and will be removed in 0.20.\n",
      "  sample_weight=sample_weight)\n",
      "/Applications/anaconda/lib/python2.7/site-packages/sklearn/metrics/scorer.py:90: DeprecationWarning: Scoring method mean_squared_error was renamed to neg_mean_squared_error in version 0.18 and will be removed in 0.20.\n",
      "  sample_weight=sample_weight)\n",
      "/Applications/anaconda/lib/python2.7/site-packages/sklearn/metrics/scorer.py:90: DeprecationWarning: Scoring method mean_squared_error was renamed to neg_mean_squared_error in version 0.18 and will be removed in 0.20.\n",
      "  sample_weight=sample_weight)\n",
      "/Applications/anaconda/lib/python2.7/site-packages/sklearn/metrics/scorer.py:90: DeprecationWarning: Scoring method mean_squared_error was renamed to neg_mean_squared_error in version 0.18 and will be removed in 0.20.\n",
      "  sample_weight=sample_weight)\n",
      "/Applications/anaconda/lib/python2.7/site-packages/sklearn/metrics/scorer.py:90: DeprecationWarning: Scoring method mean_squared_error was renamed to neg_mean_squared_error in version 0.18 and will be removed in 0.20.\n",
      "  sample_weight=sample_weight)\n",
      "/Applications/anaconda/lib/python2.7/site-packages/sklearn/metrics/scorer.py:90: DeprecationWarning: Scoring method mean_squared_error was renamed to neg_mean_squared_error in version 0.18 and will be removed in 0.20.\n",
      "  sample_weight=sample_weight)\n",
      "/Applications/anaconda/lib/python2.7/site-packages/sklearn/metrics/scorer.py:90: DeprecationWarning: Scoring method mean_squared_error was renamed to neg_mean_squared_error in version 0.18 and will be removed in 0.20.\n",
      "  sample_weight=sample_weight)\n",
      "/Applications/anaconda/lib/python2.7/site-packages/sklearn/metrics/scorer.py:90: DeprecationWarning: Scoring method mean_squared_error was renamed to neg_mean_squared_error in version 0.18 and will be removed in 0.20.\n",
      "  sample_weight=sample_weight)\n",
      "/Applications/anaconda/lib/python2.7/site-packages/sklearn/metrics/scorer.py:90: DeprecationWarning: Scoring method mean_squared_error was renamed to neg_mean_squared_error in version 0.18 and will be removed in 0.20.\n",
      "  sample_weight=sample_weight)\n",
      "/Applications/anaconda/lib/python2.7/site-packages/sklearn/metrics/scorer.py:90: DeprecationWarning: Scoring method mean_squared_error was renamed to neg_mean_squared_error in version 0.18 and will be removed in 0.20.\n",
      "  sample_weight=sample_weight)\n",
      "/Applications/anaconda/lib/python2.7/site-packages/sklearn/metrics/scorer.py:90: DeprecationWarning: Scoring method mean_squared_error was renamed to neg_mean_squared_error in version 0.18 and will be removed in 0.20.\n",
      "  sample_weight=sample_weight)\n",
      "/Applications/anaconda/lib/python2.7/site-packages/sklearn/metrics/scorer.py:90: DeprecationWarning: Scoring method mean_squared_error was renamed to neg_mean_squared_error in version 0.18 and will be removed in 0.20.\n",
      "  sample_weight=sample_weight)\n",
      "/Applications/anaconda/lib/python2.7/site-packages/sklearn/metrics/scorer.py:90: DeprecationWarning: Scoring method mean_squared_error was renamed to neg_mean_squared_error in version 0.18 and will be removed in 0.20.\n",
      "  sample_weight=sample_weight)\n",
      "/Applications/anaconda/lib/python2.7/site-packages/sklearn/metrics/scorer.py:90: DeprecationWarning: Scoring method mean_squared_error was renamed to neg_mean_squared_error in version 0.18 and will be removed in 0.20.\n",
      "  sample_weight=sample_weight)\n",
      "/Applications/anaconda/lib/python2.7/site-packages/sklearn/metrics/scorer.py:90: DeprecationWarning: Scoring method mean_squared_error was renamed to neg_mean_squared_error in version 0.18 and will be removed in 0.20.\n",
      "  sample_weight=sample_weight)\n",
      "/Applications/anaconda/lib/python2.7/site-packages/sklearn/metrics/scorer.py:90: DeprecationWarning: Scoring method mean_squared_error was renamed to neg_mean_squared_error in version 0.18 and will be removed in 0.20.\n",
      "  sample_weight=sample_weight)\n",
      "/Applications/anaconda/lib/python2.7/site-packages/sklearn/metrics/scorer.py:90: DeprecationWarning: Scoring method mean_squared_error was renamed to neg_mean_squared_error in version 0.18 and will be removed in 0.20.\n",
      "  sample_weight=sample_weight)\n",
      "/Applications/anaconda/lib/python2.7/site-packages/sklearn/metrics/scorer.py:90: DeprecationWarning: Scoring method mean_squared_error was renamed to neg_mean_squared_error in version 0.18 and will be removed in 0.20.\n",
      "  sample_weight=sample_weight)\n",
      "/Applications/anaconda/lib/python2.7/site-packages/sklearn/metrics/scorer.py:90: DeprecationWarning: Scoring method mean_squared_error was renamed to neg_mean_squared_error in version 0.18 and will be removed in 0.20.\n",
      "  sample_weight=sample_weight)\n",
      "/Applications/anaconda/lib/python2.7/site-packages/sklearn/metrics/scorer.py:90: DeprecationWarning: Scoring method mean_squared_error was renamed to neg_mean_squared_error in version 0.18 and will be removed in 0.20.\n",
      "  sample_weight=sample_weight)\n",
      "/Applications/anaconda/lib/python2.7/site-packages/sklearn/metrics/scorer.py:90: DeprecationWarning: Scoring method mean_squared_error was renamed to neg_mean_squared_error in version 0.18 and will be removed in 0.20.\n",
      "  sample_weight=sample_weight)\n",
      "/Applications/anaconda/lib/python2.7/site-packages/sklearn/metrics/scorer.py:90: DeprecationWarning: Scoring method mean_squared_error was renamed to neg_mean_squared_error in version 0.18 and will be removed in 0.20.\n",
      "  sample_weight=sample_weight)\n",
      "/Applications/anaconda/lib/python2.7/site-packages/sklearn/metrics/scorer.py:90: DeprecationWarning: Scoring method mean_squared_error was renamed to neg_mean_squared_error in version 0.18 and will be removed in 0.20.\n",
      "  sample_weight=sample_weight)\n",
      "/Applications/anaconda/lib/python2.7/site-packages/sklearn/metrics/scorer.py:90: DeprecationWarning: Scoring method mean_squared_error was renamed to neg_mean_squared_error in version 0.18 and will be removed in 0.20.\n",
      "  sample_weight=sample_weight)\n",
      "/Applications/anaconda/lib/python2.7/site-packages/sklearn/metrics/scorer.py:90: DeprecationWarning: Scoring method mean_squared_error was renamed to neg_mean_squared_error in version 0.18 and will be removed in 0.20.\n",
      "  sample_weight=sample_weight)\n",
      "/Applications/anaconda/lib/python2.7/site-packages/sklearn/metrics/scorer.py:90: DeprecationWarning: Scoring method mean_squared_error was renamed to neg_mean_squared_error in version 0.18 and will be removed in 0.20.\n",
      "  sample_weight=sample_weight)\n"
     ]
    },
    {
     "name": "stderr",
     "output_type": "stream",
     "text": [
      "/Applications/anaconda/lib/python2.7/site-packages/sklearn/metrics/scorer.py:90: DeprecationWarning: Scoring method mean_squared_error was renamed to neg_mean_squared_error in version 0.18 and will be removed in 0.20.\n",
      "  sample_weight=sample_weight)\n",
      "/Applications/anaconda/lib/python2.7/site-packages/sklearn/metrics/scorer.py:90: DeprecationWarning: Scoring method mean_squared_error was renamed to neg_mean_squared_error in version 0.18 and will be removed in 0.20.\n",
      "  sample_weight=sample_weight)\n",
      "/Applications/anaconda/lib/python2.7/site-packages/sklearn/metrics/scorer.py:90: DeprecationWarning: Scoring method mean_squared_error was renamed to neg_mean_squared_error in version 0.18 and will be removed in 0.20.\n",
      "  sample_weight=sample_weight)\n",
      "/Applications/anaconda/lib/python2.7/site-packages/sklearn/metrics/scorer.py:90: DeprecationWarning: Scoring method mean_squared_error was renamed to neg_mean_squared_error in version 0.18 and will be removed in 0.20.\n",
      "  sample_weight=sample_weight)\n",
      "/Applications/anaconda/lib/python2.7/site-packages/sklearn/metrics/scorer.py:90: DeprecationWarning: Scoring method mean_squared_error was renamed to neg_mean_squared_error in version 0.18 and will be removed in 0.20.\n",
      "  sample_weight=sample_weight)\n",
      "/Applications/anaconda/lib/python2.7/site-packages/sklearn/metrics/scorer.py:90: DeprecationWarning: Scoring method mean_squared_error was renamed to neg_mean_squared_error in version 0.18 and will be removed in 0.20.\n",
      "  sample_weight=sample_weight)\n",
      "/Applications/anaconda/lib/python2.7/site-packages/sklearn/metrics/scorer.py:90: DeprecationWarning: Scoring method mean_squared_error was renamed to neg_mean_squared_error in version 0.18 and will be removed in 0.20.\n",
      "  sample_weight=sample_weight)\n",
      "/Applications/anaconda/lib/python2.7/site-packages/sklearn/metrics/scorer.py:90: DeprecationWarning: Scoring method mean_squared_error was renamed to neg_mean_squared_error in version 0.18 and will be removed in 0.20.\n",
      "  sample_weight=sample_weight)\n",
      "/Applications/anaconda/lib/python2.7/site-packages/sklearn/metrics/scorer.py:90: DeprecationWarning: Scoring method mean_squared_error was renamed to neg_mean_squared_error in version 0.18 and will be removed in 0.20.\n",
      "  sample_weight=sample_weight)\n",
      "/Applications/anaconda/lib/python2.7/site-packages/sklearn/metrics/scorer.py:90: DeprecationWarning: Scoring method mean_squared_error was renamed to neg_mean_squared_error in version 0.18 and will be removed in 0.20.\n",
      "  sample_weight=sample_weight)\n",
      "/Applications/anaconda/lib/python2.7/site-packages/sklearn/metrics/scorer.py:90: DeprecationWarning: Scoring method mean_squared_error was renamed to neg_mean_squared_error in version 0.18 and will be removed in 0.20.\n",
      "  sample_weight=sample_weight)\n",
      "/Applications/anaconda/lib/python2.7/site-packages/sklearn/metrics/scorer.py:90: DeprecationWarning: Scoring method mean_squared_error was renamed to neg_mean_squared_error in version 0.18 and will be removed in 0.20.\n",
      "  sample_weight=sample_weight)\n",
      "/Applications/anaconda/lib/python2.7/site-packages/sklearn/metrics/scorer.py:90: DeprecationWarning: Scoring method mean_squared_error was renamed to neg_mean_squared_error in version 0.18 and will be removed in 0.20.\n",
      "  sample_weight=sample_weight)\n",
      "/Applications/anaconda/lib/python2.7/site-packages/sklearn/metrics/scorer.py:90: DeprecationWarning: Scoring method mean_squared_error was renamed to neg_mean_squared_error in version 0.18 and will be removed in 0.20.\n",
      "  sample_weight=sample_weight)\n",
      "/Applications/anaconda/lib/python2.7/site-packages/sklearn/metrics/scorer.py:90: DeprecationWarning: Scoring method mean_squared_error was renamed to neg_mean_squared_error in version 0.18 and will be removed in 0.20.\n",
      "  sample_weight=sample_weight)\n",
      "/Applications/anaconda/lib/python2.7/site-packages/sklearn/metrics/scorer.py:90: DeprecationWarning: Scoring method mean_squared_error was renamed to neg_mean_squared_error in version 0.18 and will be removed in 0.20.\n",
      "  sample_weight=sample_weight)\n",
      "/Applications/anaconda/lib/python2.7/site-packages/sklearn/metrics/scorer.py:90: DeprecationWarning: Scoring method mean_squared_error was renamed to neg_mean_squared_error in version 0.18 and will be removed in 0.20.\n",
      "  sample_weight=sample_weight)\n",
      "/Applications/anaconda/lib/python2.7/site-packages/sklearn/metrics/scorer.py:90: DeprecationWarning: Scoring method mean_squared_error was renamed to neg_mean_squared_error in version 0.18 and will be removed in 0.20.\n",
      "  sample_weight=sample_weight)\n",
      "/Applications/anaconda/lib/python2.7/site-packages/sklearn/metrics/scorer.py:90: DeprecationWarning: Scoring method mean_squared_error was renamed to neg_mean_squared_error in version 0.18 and will be removed in 0.20.\n",
      "  sample_weight=sample_weight)\n",
      "/Applications/anaconda/lib/python2.7/site-packages/sklearn/metrics/scorer.py:90: DeprecationWarning: Scoring method mean_squared_error was renamed to neg_mean_squared_error in version 0.18 and will be removed in 0.20.\n",
      "  sample_weight=sample_weight)\n",
      "/Applications/anaconda/lib/python2.7/site-packages/sklearn/metrics/scorer.py:90: DeprecationWarning: Scoring method mean_squared_error was renamed to neg_mean_squared_error in version 0.18 and will be removed in 0.20.\n",
      "  sample_weight=sample_weight)\n",
      "/Applications/anaconda/lib/python2.7/site-packages/sklearn/metrics/scorer.py:90: DeprecationWarning: Scoring method mean_squared_error was renamed to neg_mean_squared_error in version 0.18 and will be removed in 0.20.\n",
      "  sample_weight=sample_weight)\n",
      "/Applications/anaconda/lib/python2.7/site-packages/sklearn/metrics/scorer.py:90: DeprecationWarning: Scoring method mean_squared_error was renamed to neg_mean_squared_error in version 0.18 and will be removed in 0.20.\n",
      "  sample_weight=sample_weight)\n",
      "/Applications/anaconda/lib/python2.7/site-packages/sklearn/metrics/scorer.py:90: DeprecationWarning: Scoring method mean_squared_error was renamed to neg_mean_squared_error in version 0.18 and will be removed in 0.20.\n",
      "  sample_weight=sample_weight)\n",
      "/Applications/anaconda/lib/python2.7/site-packages/sklearn/metrics/scorer.py:90: DeprecationWarning: Scoring method mean_squared_error was renamed to neg_mean_squared_error in version 0.18 and will be removed in 0.20.\n",
      "  sample_weight=sample_weight)\n",
      "/Applications/anaconda/lib/python2.7/site-packages/sklearn/metrics/scorer.py:90: DeprecationWarning: Scoring method mean_squared_error was renamed to neg_mean_squared_error in version 0.18 and will be removed in 0.20.\n",
      "  sample_weight=sample_weight)\n",
      "/Applications/anaconda/lib/python2.7/site-packages/sklearn/metrics/scorer.py:90: DeprecationWarning: Scoring method mean_squared_error was renamed to neg_mean_squared_error in version 0.18 and will be removed in 0.20.\n",
      "  sample_weight=sample_weight)\n",
      "/Applications/anaconda/lib/python2.7/site-packages/sklearn/metrics/scorer.py:90: DeprecationWarning: Scoring method mean_squared_error was renamed to neg_mean_squared_error in version 0.18 and will be removed in 0.20.\n",
      "  sample_weight=sample_weight)\n",
      "/Applications/anaconda/lib/python2.7/site-packages/sklearn/metrics/scorer.py:90: DeprecationWarning: Scoring method mean_squared_error was renamed to neg_mean_squared_error in version 0.18 and will be removed in 0.20.\n",
      "  sample_weight=sample_weight)\n",
      "/Applications/anaconda/lib/python2.7/site-packages/sklearn/metrics/scorer.py:90: DeprecationWarning: Scoring method mean_squared_error was renamed to neg_mean_squared_error in version 0.18 and will be removed in 0.20.\n",
      "  sample_weight=sample_weight)\n",
      "/Applications/anaconda/lib/python2.7/site-packages/sklearn/metrics/scorer.py:90: DeprecationWarning: Scoring method mean_squared_error was renamed to neg_mean_squared_error in version 0.18 and will be removed in 0.20.\n",
      "  sample_weight=sample_weight)\n",
      "/Applications/anaconda/lib/python2.7/site-packages/sklearn/metrics/scorer.py:90: DeprecationWarning: Scoring method mean_squared_error was renamed to neg_mean_squared_error in version 0.18 and will be removed in 0.20.\n",
      "  sample_weight=sample_weight)\n",
      "/Applications/anaconda/lib/python2.7/site-packages/sklearn/metrics/scorer.py:90: DeprecationWarning: Scoring method mean_squared_error was renamed to neg_mean_squared_error in version 0.18 and will be removed in 0.20.\n",
      "  sample_weight=sample_weight)\n",
      "/Applications/anaconda/lib/python2.7/site-packages/sklearn/metrics/scorer.py:90: DeprecationWarning: Scoring method mean_squared_error was renamed to neg_mean_squared_error in version 0.18 and will be removed in 0.20.\n",
      "  sample_weight=sample_weight)\n",
      "/Applications/anaconda/lib/python2.7/site-packages/sklearn/metrics/scorer.py:90: DeprecationWarning: Scoring method mean_squared_error was renamed to neg_mean_squared_error in version 0.18 and will be removed in 0.20.\n",
      "  sample_weight=sample_weight)\n",
      "/Applications/anaconda/lib/python2.7/site-packages/sklearn/metrics/scorer.py:90: DeprecationWarning: Scoring method mean_squared_error was renamed to neg_mean_squared_error in version 0.18 and will be removed in 0.20.\n",
      "  sample_weight=sample_weight)\n",
      "/Applications/anaconda/lib/python2.7/site-packages/sklearn/metrics/scorer.py:90: DeprecationWarning: Scoring method mean_squared_error was renamed to neg_mean_squared_error in version 0.18 and will be removed in 0.20.\n",
      "  sample_weight=sample_weight)\n",
      "/Applications/anaconda/lib/python2.7/site-packages/sklearn/metrics/scorer.py:90: DeprecationWarning: Scoring method mean_squared_error was renamed to neg_mean_squared_error in version 0.18 and will be removed in 0.20.\n",
      "  sample_weight=sample_weight)\n",
      "/Applications/anaconda/lib/python2.7/site-packages/sklearn/metrics/scorer.py:90: DeprecationWarning: Scoring method mean_squared_error was renamed to neg_mean_squared_error in version 0.18 and will be removed in 0.20.\n",
      "  sample_weight=sample_weight)\n",
      "/Applications/anaconda/lib/python2.7/site-packages/sklearn/metrics/scorer.py:90: DeprecationWarning: Scoring method mean_squared_error was renamed to neg_mean_squared_error in version 0.18 and will be removed in 0.20.\n",
      "  sample_weight=sample_weight)\n",
      "/Applications/anaconda/lib/python2.7/site-packages/sklearn/metrics/scorer.py:90: DeprecationWarning: Scoring method mean_squared_error was renamed to neg_mean_squared_error in version 0.18 and will be removed in 0.20.\n",
      "  sample_weight=sample_weight)\n",
      "/Applications/anaconda/lib/python2.7/site-packages/sklearn/metrics/scorer.py:90: DeprecationWarning: Scoring method mean_squared_error was renamed to neg_mean_squared_error in version 0.18 and will be removed in 0.20.\n",
      "  sample_weight=sample_weight)\n",
      "/Applications/anaconda/lib/python2.7/site-packages/sklearn/metrics/scorer.py:90: DeprecationWarning: Scoring method mean_squared_error was renamed to neg_mean_squared_error in version 0.18 and will be removed in 0.20.\n",
      "  sample_weight=sample_weight)\n",
      "/Applications/anaconda/lib/python2.7/site-packages/sklearn/metrics/scorer.py:90: DeprecationWarning: Scoring method mean_squared_error was renamed to neg_mean_squared_error in version 0.18 and will be removed in 0.20.\n",
      "  sample_weight=sample_weight)\n",
      "/Applications/anaconda/lib/python2.7/site-packages/sklearn/metrics/scorer.py:90: DeprecationWarning: Scoring method mean_squared_error was renamed to neg_mean_squared_error in version 0.18 and will be removed in 0.20.\n",
      "  sample_weight=sample_weight)\n",
      "/Applications/anaconda/lib/python2.7/site-packages/sklearn/metrics/scorer.py:90: DeprecationWarning: Scoring method mean_squared_error was renamed to neg_mean_squared_error in version 0.18 and will be removed in 0.20.\n",
      "  sample_weight=sample_weight)\n",
      "/Applications/anaconda/lib/python2.7/site-packages/sklearn/metrics/scorer.py:90: DeprecationWarning: Scoring method mean_squared_error was renamed to neg_mean_squared_error in version 0.18 and will be removed in 0.20.\n",
      "  sample_weight=sample_weight)\n",
      "/Applications/anaconda/lib/python2.7/site-packages/sklearn/metrics/scorer.py:90: DeprecationWarning: Scoring method mean_squared_error was renamed to neg_mean_squared_error in version 0.18 and will be removed in 0.20.\n",
      "  sample_weight=sample_weight)\n",
      "/Applications/anaconda/lib/python2.7/site-packages/sklearn/metrics/scorer.py:90: DeprecationWarning: Scoring method mean_squared_error was renamed to neg_mean_squared_error in version 0.18 and will be removed in 0.20.\n",
      "  sample_weight=sample_weight)\n",
      "/Applications/anaconda/lib/python2.7/site-packages/sklearn/metrics/scorer.py:90: DeprecationWarning: Scoring method mean_squared_error was renamed to neg_mean_squared_error in version 0.18 and will be removed in 0.20.\n",
      "  sample_weight=sample_weight)\n",
      "/Applications/anaconda/lib/python2.7/site-packages/sklearn/metrics/scorer.py:90: DeprecationWarning: Scoring method mean_squared_error was renamed to neg_mean_squared_error in version 0.18 and will be removed in 0.20.\n",
      "  sample_weight=sample_weight)\n",
      "/Applications/anaconda/lib/python2.7/site-packages/sklearn/metrics/scorer.py:90: DeprecationWarning: Scoring method mean_squared_error was renamed to neg_mean_squared_error in version 0.18 and will be removed in 0.20.\n",
      "  sample_weight=sample_weight)\n",
      "/Applications/anaconda/lib/python2.7/site-packages/sklearn/metrics/scorer.py:90: DeprecationWarning: Scoring method mean_squared_error was renamed to neg_mean_squared_error in version 0.18 and will be removed in 0.20.\n",
      "  sample_weight=sample_weight)\n",
      "/Applications/anaconda/lib/python2.7/site-packages/sklearn/metrics/scorer.py:90: DeprecationWarning: Scoring method mean_squared_error was renamed to neg_mean_squared_error in version 0.18 and will be removed in 0.20.\n",
      "  sample_weight=sample_weight)\n",
      "/Applications/anaconda/lib/python2.7/site-packages/sklearn/metrics/scorer.py:90: DeprecationWarning: Scoring method mean_squared_error was renamed to neg_mean_squared_error in version 0.18 and will be removed in 0.20.\n",
      "  sample_weight=sample_weight)\n",
      "/Applications/anaconda/lib/python2.7/site-packages/sklearn/metrics/scorer.py:90: DeprecationWarning: Scoring method mean_squared_error was renamed to neg_mean_squared_error in version 0.18 and will be removed in 0.20.\n",
      "  sample_weight=sample_weight)\n",
      "/Applications/anaconda/lib/python2.7/site-packages/sklearn/metrics/scorer.py:90: DeprecationWarning: Scoring method mean_squared_error was renamed to neg_mean_squared_error in version 0.18 and will be removed in 0.20.\n",
      "  sample_weight=sample_weight)\n",
      "/Applications/anaconda/lib/python2.7/site-packages/sklearn/metrics/scorer.py:90: DeprecationWarning: Scoring method mean_squared_error was renamed to neg_mean_squared_error in version 0.18 and will be removed in 0.20.\n",
      "  sample_weight=sample_weight)\n",
      "/Applications/anaconda/lib/python2.7/site-packages/sklearn/metrics/scorer.py:90: DeprecationWarning: Scoring method mean_squared_error was renamed to neg_mean_squared_error in version 0.18 and will be removed in 0.20.\n",
      "  sample_weight=sample_weight)\n",
      "/Applications/anaconda/lib/python2.7/site-packages/sklearn/metrics/scorer.py:90: DeprecationWarning: Scoring method mean_squared_error was renamed to neg_mean_squared_error in version 0.18 and will be removed in 0.20.\n",
      "  sample_weight=sample_weight)\n"
     ]
    },
    {
     "name": "stderr",
     "output_type": "stream",
     "text": [
      "/Applications/anaconda/lib/python2.7/site-packages/sklearn/metrics/scorer.py:90: DeprecationWarning: Scoring method mean_squared_error was renamed to neg_mean_squared_error in version 0.18 and will be removed in 0.20.\n",
      "  sample_weight=sample_weight)\n",
      "/Applications/anaconda/lib/python2.7/site-packages/sklearn/metrics/scorer.py:90: DeprecationWarning: Scoring method mean_squared_error was renamed to neg_mean_squared_error in version 0.18 and will be removed in 0.20.\n",
      "  sample_weight=sample_weight)\n",
      "/Applications/anaconda/lib/python2.7/site-packages/sklearn/metrics/scorer.py:90: DeprecationWarning: Scoring method mean_squared_error was renamed to neg_mean_squared_error in version 0.18 and will be removed in 0.20.\n",
      "  sample_weight=sample_weight)\n",
      "/Applications/anaconda/lib/python2.7/site-packages/sklearn/metrics/scorer.py:90: DeprecationWarning: Scoring method mean_squared_error was renamed to neg_mean_squared_error in version 0.18 and will be removed in 0.20.\n",
      "  sample_weight=sample_weight)\n",
      "/Applications/anaconda/lib/python2.7/site-packages/sklearn/metrics/scorer.py:90: DeprecationWarning: Scoring method mean_squared_error was renamed to neg_mean_squared_error in version 0.18 and will be removed in 0.20.\n",
      "  sample_weight=sample_weight)\n",
      "/Applications/anaconda/lib/python2.7/site-packages/sklearn/metrics/scorer.py:90: DeprecationWarning: Scoring method mean_squared_error was renamed to neg_mean_squared_error in version 0.18 and will be removed in 0.20.\n",
      "  sample_weight=sample_weight)\n",
      "/Applications/anaconda/lib/python2.7/site-packages/sklearn/metrics/scorer.py:90: DeprecationWarning: Scoring method mean_squared_error was renamed to neg_mean_squared_error in version 0.18 and will be removed in 0.20.\n",
      "  sample_weight=sample_weight)\n",
      "/Applications/anaconda/lib/python2.7/site-packages/sklearn/metrics/scorer.py:90: DeprecationWarning: Scoring method mean_squared_error was renamed to neg_mean_squared_error in version 0.18 and will be removed in 0.20.\n",
      "  sample_weight=sample_weight)\n",
      "/Applications/anaconda/lib/python2.7/site-packages/sklearn/metrics/scorer.py:90: DeprecationWarning: Scoring method mean_squared_error was renamed to neg_mean_squared_error in version 0.18 and will be removed in 0.20.\n",
      "  sample_weight=sample_weight)\n",
      "/Applications/anaconda/lib/python2.7/site-packages/sklearn/metrics/scorer.py:90: DeprecationWarning: Scoring method mean_squared_error was renamed to neg_mean_squared_error in version 0.18 and will be removed in 0.20.\n",
      "  sample_weight=sample_weight)\n",
      "/Applications/anaconda/lib/python2.7/site-packages/sklearn/metrics/scorer.py:90: DeprecationWarning: Scoring method mean_squared_error was renamed to neg_mean_squared_error in version 0.18 and will be removed in 0.20.\n",
      "  sample_weight=sample_weight)\n",
      "/Applications/anaconda/lib/python2.7/site-packages/sklearn/metrics/scorer.py:90: DeprecationWarning: Scoring method mean_squared_error was renamed to neg_mean_squared_error in version 0.18 and will be removed in 0.20.\n",
      "  sample_weight=sample_weight)\n",
      "/Applications/anaconda/lib/python2.7/site-packages/sklearn/metrics/scorer.py:90: DeprecationWarning: Scoring method mean_squared_error was renamed to neg_mean_squared_error in version 0.18 and will be removed in 0.20.\n",
      "  sample_weight=sample_weight)\n",
      "/Applications/anaconda/lib/python2.7/site-packages/sklearn/metrics/scorer.py:90: DeprecationWarning: Scoring method mean_squared_error was renamed to neg_mean_squared_error in version 0.18 and will be removed in 0.20.\n",
      "  sample_weight=sample_weight)\n",
      "/Applications/anaconda/lib/python2.7/site-packages/sklearn/metrics/scorer.py:90: DeprecationWarning: Scoring method mean_squared_error was renamed to neg_mean_squared_error in version 0.18 and will be removed in 0.20.\n",
      "  sample_weight=sample_weight)\n",
      "/Applications/anaconda/lib/python2.7/site-packages/sklearn/metrics/scorer.py:90: DeprecationWarning: Scoring method mean_squared_error was renamed to neg_mean_squared_error in version 0.18 and will be removed in 0.20.\n",
      "  sample_weight=sample_weight)\n",
      "/Applications/anaconda/lib/python2.7/site-packages/sklearn/metrics/scorer.py:90: DeprecationWarning: Scoring method mean_squared_error was renamed to neg_mean_squared_error in version 0.18 and will be removed in 0.20.\n",
      "  sample_weight=sample_weight)\n",
      "/Applications/anaconda/lib/python2.7/site-packages/sklearn/metrics/scorer.py:90: DeprecationWarning: Scoring method mean_squared_error was renamed to neg_mean_squared_error in version 0.18 and will be removed in 0.20.\n",
      "  sample_weight=sample_weight)\n",
      "/Applications/anaconda/lib/python2.7/site-packages/sklearn/metrics/scorer.py:90: DeprecationWarning: Scoring method mean_squared_error was renamed to neg_mean_squared_error in version 0.18 and will be removed in 0.20.\n",
      "  sample_weight=sample_weight)\n",
      "/Applications/anaconda/lib/python2.7/site-packages/sklearn/metrics/scorer.py:90: DeprecationWarning: Scoring method mean_squared_error was renamed to neg_mean_squared_error in version 0.18 and will be removed in 0.20.\n",
      "  sample_weight=sample_weight)\n",
      "/Applications/anaconda/lib/python2.7/site-packages/sklearn/metrics/scorer.py:90: DeprecationWarning: Scoring method mean_squared_error was renamed to neg_mean_squared_error in version 0.18 and will be removed in 0.20.\n",
      "  sample_weight=sample_weight)\n",
      "/Applications/anaconda/lib/python2.7/site-packages/sklearn/metrics/scorer.py:90: DeprecationWarning: Scoring method mean_squared_error was renamed to neg_mean_squared_error in version 0.18 and will be removed in 0.20.\n",
      "  sample_weight=sample_weight)\n",
      "/Applications/anaconda/lib/python2.7/site-packages/sklearn/metrics/scorer.py:90: DeprecationWarning: Scoring method mean_squared_error was renamed to neg_mean_squared_error in version 0.18 and will be removed in 0.20.\n",
      "  sample_weight=sample_weight)\n",
      "/Applications/anaconda/lib/python2.7/site-packages/sklearn/metrics/scorer.py:90: DeprecationWarning: Scoring method mean_squared_error was renamed to neg_mean_squared_error in version 0.18 and will be removed in 0.20.\n",
      "  sample_weight=sample_weight)\n",
      "/Applications/anaconda/lib/python2.7/site-packages/sklearn/metrics/scorer.py:90: DeprecationWarning: Scoring method mean_squared_error was renamed to neg_mean_squared_error in version 0.18 and will be removed in 0.20.\n",
      "  sample_weight=sample_weight)\n",
      "/Applications/anaconda/lib/python2.7/site-packages/sklearn/metrics/scorer.py:90: DeprecationWarning: Scoring method mean_squared_error was renamed to neg_mean_squared_error in version 0.18 and will be removed in 0.20.\n",
      "  sample_weight=sample_weight)\n",
      "/Applications/anaconda/lib/python2.7/site-packages/sklearn/metrics/scorer.py:90: DeprecationWarning: Scoring method mean_squared_error was renamed to neg_mean_squared_error in version 0.18 and will be removed in 0.20.\n",
      "  sample_weight=sample_weight)\n",
      "/Applications/anaconda/lib/python2.7/site-packages/sklearn/metrics/scorer.py:90: DeprecationWarning: Scoring method mean_squared_error was renamed to neg_mean_squared_error in version 0.18 and will be removed in 0.20.\n",
      "  sample_weight=sample_weight)\n",
      "/Applications/anaconda/lib/python2.7/site-packages/sklearn/metrics/scorer.py:90: DeprecationWarning: Scoring method mean_squared_error was renamed to neg_mean_squared_error in version 0.18 and will be removed in 0.20.\n",
      "  sample_weight=sample_weight)\n",
      "/Applications/anaconda/lib/python2.7/site-packages/sklearn/metrics/scorer.py:90: DeprecationWarning: Scoring method mean_squared_error was renamed to neg_mean_squared_error in version 0.18 and will be removed in 0.20.\n",
      "  sample_weight=sample_weight)\n",
      "/Applications/anaconda/lib/python2.7/site-packages/sklearn/metrics/scorer.py:90: DeprecationWarning: Scoring method mean_squared_error was renamed to neg_mean_squared_error in version 0.18 and will be removed in 0.20.\n",
      "  sample_weight=sample_weight)\n"
     ]
    },
    {
     "data": {
      "text/plain": [
       "GridSearchCV(cv=None, error_score='raise',\n",
       "       estimator=Ridge(alpha=1.0, copy_X=True, fit_intercept=True, max_iter=None,\n",
       "   normalize=False, random_state=None, solver='auto', tol=0.001),\n",
       "       fit_params={}, iid=True, n_jobs=1,\n",
       "       param_grid={'alpha': array([  1.00000e-10,   1.00000e-09,   1.00000e-08,   1.00000e-07,\n",
       "         1.00000e-06,   1.00000e-05,   1.00000e-04,   1.00000e-03,\n",
       "         1.00000e-02,   1.00000e-01,   1.00000e+00,   1.00000e+01,\n",
       "         1.00000e+02,   1.00000e+03,   1.00000e+04,   1.00000e+05,\n",
       "         1.00000e+06,   1.00000e+07,   1.00000e+08,   1.00000e+09,\n",
       "         1.00000e+10]), 'fit_intercept': [True, False]},\n",
       "       pre_dispatch='2*n_jobs', refit=True, scoring='mean_squared_error',\n",
       "       verbose=0)"
      ]
     },
     "execution_count": 24,
     "metadata": {},
     "output_type": "execute_result"
    }
   ],
   "source": [
    "# now also make the intercept either true or false ...\n",
    "\n",
    "from sklearn import grid_search\n",
    "\n",
    "alphas = np.logspace(-10, 10, 21)\n",
    "gs = grid_search.GridSearchCV(\n",
    "    estimator=linear_model.Ridge(),\n",
    "    param_grid={'alpha': alphas, 'fit_intercept':[True, False]},\n",
    "    scoring='mean_squared_error')\n",
    "\n",
    "gs.fit(modeldata, y)"
   ]
  },
  {
   "cell_type": "markdown",
   "metadata": {},
   "source": [
    "##### Best score "
   ]
  },
  {
   "cell_type": "code",
   "execution_count": 25,
   "metadata": {},
   "outputs": [
    {
     "name": "stdout",
     "output_type": "stream",
     "text": [
      "-1813.60700073\n"
     ]
    }
   ],
   "source": [
    "print gs.best_score_ "
   ]
  },
  {
   "cell_type": "markdown",
   "metadata": {},
   "source": [
    "##### mean squared error here comes in negative, so let's make it positive."
   ]
  },
  {
   "cell_type": "code",
   "execution_count": 26,
   "metadata": {},
   "outputs": [
    {
     "name": "stdout",
     "output_type": "stream",
     "text": [
      "1813.60700073\n"
     ]
    }
   ],
   "source": [
    "print -gs.best_score_ "
   ]
  },
  {
   "cell_type": "markdown",
   "metadata": {},
   "source": [
    "##### explains which grid_search setup worked best"
   ]
  },
  {
   "cell_type": "code",
   "execution_count": 27,
   "metadata": {},
   "outputs": [
    {
     "name": "stdout",
     "output_type": "stream",
     "text": [
      "Ridge(alpha=10.0, copy_X=True, fit_intercept=False, max_iter=None,\n",
      "   normalize=False, random_state=None, solver='auto', tol=0.001)\n"
     ]
    }
   ],
   "source": [
    "print gs.best_estimator_ \n",
    "\n",
    "# when alpha = 10 is the best value for the hyper parameter and fit_intercept is false\n",
    "# so this is how you need to set your hyper parameters for the best model\n",
    "\n",
    "# next step is to create your production model"
   ]
  },
  {
   "cell_type": "code",
   "execution_count": 29,
   "metadata": {},
   "outputs": [],
   "source": [
    "production_model = linear_model.Ridge(alpha=10.0, copy_X=True, fit_intercept=False, max_iter=None,\n",
    "   normalize=False, random_state=None, solver='auto', tol=0.001)"
   ]
  },
  {
   "cell_type": "code",
   "execution_count": 30,
   "metadata": {},
   "outputs": [
    {
     "data": {
      "text/plain": [
       "Ridge(alpha=10.0, copy_X=True, fit_intercept=False, max_iter=None,\n",
       "   normalize=False, random_state=None, solver='auto', tol=0.001)"
      ]
     },
     "execution_count": 30,
     "metadata": {},
     "output_type": "execute_result"
    }
   ],
   "source": [
    "production_model.fit(modeldata, y)"
   ]
  },
  {
   "cell_type": "code",
   "execution_count": 31,
   "metadata": {},
   "outputs": [
    {
     "data": {
      "text/plain": [
       "array([ 111.77826824,  -81.01023379,   29.87386401,   33.10029496,\n",
       "         31.83025872])"
      ]
     },
     "execution_count": 31,
     "metadata": {},
     "output_type": "execute_result"
    }
   ],
   "source": [
    "production_model.coef_\n",
    "\n",
    "# in all of the above I can also replace ridge by lasso\n",
    "# note that R squared can only be used if there is an intercept"
   ]
  },
  {
   "cell_type": "markdown",
   "metadata": {},
   "source": [
    "##### shows all the grid pairings and their performances."
   ]
  },
  {
   "cell_type": "code",
   "execution_count": 83,
   "metadata": {},
   "outputs": [
    {
     "name": "stdout",
     "output_type": "stream",
     "text": [
      "[mean: -1817.58711, std: 542.14315, params: {'alpha': 1e-10}, mean: -1817.58711, std: 542.14315, params: {'alpha': 1.0000000000000001e-09}, mean: -1817.58711, std: 542.14315, params: {'alpha': 1e-08}, mean: -1817.58711, std: 542.14315, params: {'alpha': 9.9999999999999995e-08}, mean: -1817.58711, std: 542.14315, params: {'alpha': 9.9999999999999995e-07}, mean: -1817.58711, std: 542.14317, params: {'alpha': 1.0000000000000001e-05}, mean: -1817.58707, std: 542.14331, params: {'alpha': 0.0001}, mean: -1817.58663, std: 542.14477, params: {'alpha': 0.001}, mean: -1817.58230, std: 542.15933, params: {'alpha': 0.01}, mean: -1817.54318, std: 542.30102, params: {'alpha': 0.10000000000000001}, mean: -1817.20111, std: 543.63587, params: {'alpha': 1.0}, mean: -1814.09369, std: 556.35563, params: {'alpha': 10.0}, mean: -1818.51694, std: 653.68607, params: {'alpha': 100.0}, mean: -2125.58777, std: 872.45270, params: {'alpha': 1000.0}, mean: -2458.08836, std: 951.30428, params: {'alpha': 10000.0}, mean: -2532.21151, std: 962.80083, params: {'alpha': 100000.0}, mean: -2541.38479, std: 963.98339, params: {'alpha': 1000000.0}, mean: -2542.32833, std: 964.10141, params: {'alpha': 10000000.0}, mean: -2542.42296, std: 964.11321, params: {'alpha': 100000000.0}, mean: -2542.43242, std: 964.11439, params: {'alpha': 1000000000.0}, mean: -2542.43337, std: 964.11450, params: {'alpha': 10000000000.0}]\n"
     ]
    }
   ],
   "source": [
    "print gs.grid_scores_ \n",
    "\n",
    "# this gives you all the scores of the model for the different values of the hyper \n",
    "# parameter (the weights)\n"
   ]
  },
  {
   "cell_type": "markdown",
   "metadata": {},
   "source": [
    "## Gradient Descent"
   ]
  },
  {
   "cell_type": "code",
   "execution_count": 2,
   "metadata": {},
   "outputs": [
    {
     "name": "stdout",
     "output_type": "stream",
     "text": [
      "5.2 is better than 6.2\n",
      "found better solution! using 5.2\n",
      "4.2 is better than 5.2\n",
      "found better solution! using 4.2\n",
      "3.2 is better than 4.2\n",
      "found better solution! using 3.2\n",
      "2.2 is better than 3.2\n",
      "found better solution! using 2.2\n",
      "1.2 is better than 2.2\n",
      "found better solution! using 1.2\n",
      "0.2 is better than 1.2\n",
      "found better solution! using 0.2\n",
      "6.0 is closest to 6.2\n"
     ]
    }
   ],
   "source": [
    "import numpy as np\n",
    "\n",
    "num_to_approach, start, steps, optimized = 6.2, 0., [-1, 1], False\n",
    "while not optimized:\n",
    "    current_distance = num_to_approach - start\n",
    "    got_better = False\n",
    "    next_steps = [start + i for i in steps]\n",
    "    for n in next_steps:\n",
    "        distance = np.abs(num_to_approach - n)\n",
    "        if distance < current_distance:\n",
    "            got_better = True\n",
    "            print distance, 'is better than', current_distance\n",
    "            current_distance = distance\n",
    "            start = n\n",
    "    if got_better:\n",
    "        print 'found better solution! using', current_distance\n",
    "        n += 1\n",
    "    else:\n",
    "        optimized = True\n",
    "        print start, 'is closest to', num_to_approach\n"
   ]
  },
  {
   "cell_type": "markdown",
   "metadata": {},
   "source": [
    "### Bonus: \n",
    "implement a stopping point, similar to what n_iter would do in gradient descent when we've reached \"good enough\""
   ]
  },
  {
   "cell_type": "code",
   "execution_count": null,
   "metadata": {
    "collapsed": true
   },
   "outputs": [],
   "source": [
    "\n",
    "\n"
   ]
  },
  {
   "cell_type": "markdown",
   "metadata": {},
   "source": [
    "## Demo: Application of Gradient Descent "
   ]
  },
  {
   "cell_type": "code",
   "execution_count": 32,
   "metadata": {},
   "outputs": [
    {
     "name": "stdout",
     "output_type": "stream",
     "text": [
      "Gradient Descent R2: 0.308425083458\n",
      "Gradient Descent MSE: 1681.11221695\n"
     ]
    }
   ],
   "source": [
    "lm = linear_model.SGDRegressor()\n",
    "# this is initializing the model\n",
    "\n",
    "lm.fit(modeldata, y)\n",
    "print \"Gradient Descent R2:\", lm.score(modeldata, y)\n",
    "print \"Gradient Descent MSE:\", metrics.mean_squared_error(y, lm.predict(modeldata))"
   ]
  },
  {
   "cell_type": "markdown",
   "metadata": {},
   "source": [
    "### Check: Untuned, how well did gradient descent perform compared to OLS?"
   ]
  },
  {
   "cell_type": "markdown",
   "metadata": {},
   "source": [
    "Answer: not as good since it is an estimate of the OLS model. Note: if you look at the syntax you will see default parameter is l2\n",
    "penalty = l2 is Ridge and l1 is Lasso"
   ]
  },
  {
   "cell_type": "code",
   "execution_count": 41,
   "metadata": {},
   "outputs": [],
   "source": [
    "?linear_model.SGDRegressor()"
   ]
  },
  {
   "cell_type": "markdown",
   "metadata": {},
   "source": [
    "# Independent Practice: Bike data revisited\n",
    "\n",
    "There are tons of ways to approach a regression problem. The regularization techniques appended to ordinary least squares optimizes the size of coefficients to best account for error. Gradient Descent also introduces learning rate (how aggressively do we solve the problem), epsilon (at what point do we say the error margin is acceptable), and iterations (when should we stop no matter what?)\n",
    "\n",
    "For this deliverable, our goals are to:\n",
    "\n",
    "- implement the gradient descent approach to our bike-share modeling problem,\n",
    "- show how gradient descent solves and optimizes the solution,\n",
    "- demonstrate the grid_search module!\n",
    "\n",
    "While exploring the Gradient Descent regressor object, you'll build a grid search using the stochastic gradient descent estimator for the bike-share data set. Continue with either the model you evaluated last class or the simpler one from today. In particular, be sure to implement the \"param_grid\" in the grid search to get answers for the following questions:\n",
    "\n",
    "- With a set of alpha values between 10^-10 and 10^-1, how does the mean squared error change?\n",
    "- Based on the data, we know when to properly use l1 vs l2 regularization. By using a grid search with l1_ratios between 0 and 1 (increasing every 0.05), does that statement hold true? If not, did gradient descent have enough iterations?\n",
    "- How do these results change when you alter the learning rate (eta0)?\n",
    "\n",
    "**Bonus**: Can you see the advantages and disadvantages of using gradient descent after finishing this exercise?"
   ]
  },
  {
   "cell_type": "markdown",
   "metadata": {},
   "source": [
    "### Starter Code"
   ]
  },
  {
   "cell_type": "code",
   "execution_count": 39,
   "metadata": {},
   "outputs": [
    {
     "name": "stdout",
     "output_type": "stream",
     "text": [
      "BEST ESTIMATOR\n",
      "1687.67939544\n",
      "SGDRegressor(alpha=1.0000000000000001e-09, average=False, epsilon=0.1,\n",
      "       eta0=0.01, fit_intercept=True, l1_ratio=0.15,\n",
      "       learning_rate='invscaling', loss='squared_loss', n_iter=5,\n",
      "       penalty='l2', power_t=0.25, random_state=None, shuffle=True,\n",
      "       verbose=0, warm_start=False)\n",
      "ALL ESTIMATORS\n",
      "[mean: -1688.52971, std: 71.02948, params: {'alpha': 1e-10}, mean: -1687.67940, std: 71.10531, params: {'alpha': 1.0000000000000001e-09}, mean: -1692.02026, std: 67.75412, params: {'alpha': 1e-08}, mean: -1688.30106, std: 70.70829, params: {'alpha': 9.9999999999999995e-08}, mean: -1687.83615, std: 71.15464, params: {'alpha': 9.9999999999999995e-07}, mean: -1688.28706, std: 71.35360, params: {'alpha': 1.0000000000000001e-05}, mean: -1689.90012, std: 73.27674, params: {'alpha': 0.0001}, mean: -1692.01297, std: 72.68045, params: {'alpha': 0.001}, mean: -1732.51567, std: 71.88117, params: {'alpha': 0.01}, mean: -2053.15468, std: 83.65657, params: {'alpha': 0.10000000000000001}, mean: -2359.19674, std: 87.36360, params: {'alpha': 1.0}, mean: -2422.73475, std: 87.04266, params: {'alpha': 10.0}, mean: -2429.82426, std: 88.48398, params: {'alpha': 100.0}, mean: -2430.96185, std: 88.65755, params: {'alpha': 1000.0}, mean: -2431.15307, std: 89.10320, params: {'alpha': 10000.0}, mean: -2431.76056, std: 87.75240, params: {'alpha': 100000.0}, mean: -2430.91880, std: 88.31215, params: {'alpha': 1000000.0}, mean: -2433.17011, std: 89.10560, params: {'alpha': 10000000.0}, mean: -2431.37882, std: 89.02404, params: {'alpha': 100000000.0}, mean: -2432.94284, std: 87.36949, params: {'alpha': 1000000000.0}, mean: -2432.94683, std: 87.06697, params: {'alpha': 10000000000.0}]\n"
     ]
    }
   ],
   "source": [
    "params = {'alpha': np.logspace(-10, 10, 21)} \n",
    "\n",
    "# above put your gradient descent parameters here\n",
    "# logspace is like range function; in this case you want 20 observations \n",
    "# between 10 ^ -10 and 10 ^ 10\n",
    "\n",
    "gs = grid_search.GridSearchCV(\n",
    "    estimator=linear_model.SGDRegressor(),\n",
    "    cv=cross_validation.KFold(len(modeldata), n_folds=5, shuffle=True),\n",
    "    param_grid=params,\n",
    "    scoring='neg_mean_squared_error',\n",
    "    )\n",
    "\n",
    "gs.fit(modeldata, y)\n",
    "\n",
    "print 'BEST ESTIMATOR'\n",
    "print -gs.best_score_\n",
    "print gs.best_estimator_\n",
    "print 'ALL ESTIMATORS'\n",
    "print gs.grid_scores_"
   ]
  },
  {
   "cell_type": "code",
   "execution_count": 43,
   "metadata": {},
   "outputs": [
    {
     "data": {
      "text/plain": [
       "array([ 0.001     ,  0.00199475,  0.00397904,  0.00793719,  0.01583272,\n",
       "        0.03158235,  0.06299895,  0.12566728,  0.25067505,  0.50003453])"
      ]
     },
     "execution_count": 43,
     "metadata": {},
     "output_type": "execute_result"
    }
   ],
   "source": [
    "np.logspace(-3, -0.301, 10)"
   ]
  },
  {
   "cell_type": "code",
   "execution_count": 46,
   "metadata": {},
   "outputs": [
    {
     "name": "stdout",
     "output_type": "stream",
     "text": [
      "BEST ESTIMATOR\n",
      "1673.55181152\n",
      "SGDRegressor(alpha=0.0001, average=False, epsilon=0.1,\n",
      "       eta0=0.031582350167557775, fit_intercept=True, l1_ratio=0.15,\n",
      "       learning_rate='invscaling', loss='squared_loss', n_iter=5,\n",
      "       penalty='l1', power_t=0.25, random_state=None, shuffle=True,\n",
      "       verbose=0, warm_start=False)\n",
      "ALL ESTIMATORS\n",
      "[mean: -2132.77036, std: 105.98119, params: {'penalty': 'l1', 'alpha': 1e-10, 'eta0': 0.001}, mean: -2132.77190, std: 105.66470, params: {'penalty': 'l2', 'alpha': 1e-10, 'eta0': 0.001}, mean: -2132.93208, std: 105.47079, params: {'penalty': 'elasticnet', 'alpha': 1e-10, 'eta0': 0.001}, mean: -1981.11130, std: 103.22978, params: {'penalty': 'l1', 'alpha': 1e-10, 'eta0': 0.001994751906790116}, mean: -1980.28027, std: 102.62200, params: {'penalty': 'l2', 'alpha': 1e-10, 'eta0': 0.001994751906790116}, mean: -1980.91113, std: 103.39013, params: {'penalty': 'elasticnet', 'alpha': 1e-10, 'eta0': 0.001994751906790116}, mean: -1815.06273, std: 98.02721, params: {'penalty': 'l1', 'alpha': 1e-10, 'eta0': 0.0039790351696428038}, mean: -1814.81568, std: 98.17145, params: {'penalty': 'l2', 'alpha': 1e-10, 'eta0': 0.0039790351696428038}, mean: -1814.74972, std: 98.25724, params: {'penalty': 'elasticnet', 'alpha': 1e-10, 'eta0': 0.0039790351696428038}, mean: -1705.22376, std: 92.94496, params: {'penalty': 'l1', 'alpha': 1e-10, 'eta0': 0.0079371879918299151}, mean: -1705.69068, std: 93.11764, params: {'penalty': 'l2', 'alpha': 1e-10, 'eta0': 0.0079371879918299151}, mean: -1705.56713, std: 91.77976, params: {'penalty': 'elasticnet', 'alpha': 1e-10, 'eta0': 0.0079371879918299151}, mean: -1676.04045, std: 89.00309, params: {'penalty': 'l1', 'alpha': 1e-10, 'eta0': 0.015832720881254335}, mean: -1678.14406, std: 87.37077, params: {'penalty': 'l2', 'alpha': 1e-10, 'eta0': 0.015832720881254335}, mean: -1677.18509, std: 89.02846, params: {'penalty': 'elasticnet', 'alpha': 1e-10, 'eta0': 0.015832720881254335}, mean: -1674.24492, std: 87.79307, params: {'penalty': 'l1', 'alpha': 1e-10, 'eta0': 0.031582350167557775}, mean: -1675.47229, std: 88.92745, params: {'penalty': 'l2', 'alpha': 1e-10, 'eta0': 0.031582350167557775}, mean: -1675.75491, std: 88.65150, params: {'penalty': 'elasticnet', 'alpha': 1e-10, 'eta0': 0.031582350167557775}, mean: -1676.17070, std: 85.68477, params: {'penalty': 'l1', 'alpha': 1e-10, 'eta0': 0.062998953217649006}, mean: -1676.40248, std: 88.01460, params: {'penalty': 'l2', 'alpha': 1e-10, 'eta0': 0.062998953217649006}, mean: -1677.62781, std: 88.82993, params: {'penalty': 'elasticnet', 'alpha': 1e-10, 'eta0': 0.062998953217649006}, mean: -1681.51081, std: 85.34476, params: {'penalty': 'l1', 'alpha': 1e-10, 'eta0': 0.12566728205668667}, mean: -1675.41066, std: 87.07034, params: {'penalty': 'l2', 'alpha': 1e-10, 'eta0': 0.12566728205668667}, mean: -1710.71807, std: 128.06909, params: {'penalty': 'elasticnet', 'alpha': 1e-10, 'eta0': 0.12566728205668667}, mean: -1695.80148, std: 96.03791, params: {'penalty': 'l1', 'alpha': 1e-10, 'eta0': 0.25067505050370709}, mean: -1706.80483, std: 68.21220, params: {'penalty': 'l2', 'alpha': 1e-10, 'eta0': 0.25067505050370709}, mean: -1719.40274, std: 90.15033, params: {'penalty': 'elasticnet', 'alpha': 1e-10, 'eta0': 0.25067505050370709}, mean: -1725.11898, std: 89.39695, params: {'penalty': 'l1', 'alpha': 1e-10, 'eta0': 0.50003453497697847}, mean: -1702.37029, std: 79.68744, params: {'penalty': 'l2', 'alpha': 1e-10, 'eta0': 0.50003453497697847}, mean: -1733.84165, std: 65.95616, params: {'penalty': 'elasticnet', 'alpha': 1e-10, 'eta0': 0.50003453497697847}, mean: -2132.95655, std: 105.95087, params: {'penalty': 'l1', 'alpha': 1.0000000000000001e-09, 'eta0': 0.001}, mean: -2132.40850, std: 105.87401, params: {'penalty': 'l2', 'alpha': 1.0000000000000001e-09, 'eta0': 0.001}, mean: -2132.88274, std: 106.21543, params: {'penalty': 'elasticnet', 'alpha': 1.0000000000000001e-09, 'eta0': 0.001}, mean: -1980.32722, std: 102.68878, params: {'penalty': 'l1', 'alpha': 1.0000000000000001e-09, 'eta0': 0.001994751906790116}, mean: -1980.67358, std: 103.30621, params: {'penalty': 'l2', 'alpha': 1.0000000000000001e-09, 'eta0': 0.001994751906790116}, mean: -1980.91548, std: 103.03573, params: {'penalty': 'elasticnet', 'alpha': 1.0000000000000001e-09, 'eta0': 0.001994751906790116}, mean: -1814.50983, std: 98.11587, params: {'penalty': 'l1', 'alpha': 1.0000000000000001e-09, 'eta0': 0.0039790351696428038}, mean: -1814.80170, std: 98.44541, params: {'penalty': 'l2', 'alpha': 1.0000000000000001e-09, 'eta0': 0.0039790351696428038}, mean: -1815.22665, std: 97.29411, params: {'penalty': 'elasticnet', 'alpha': 1.0000000000000001e-09, 'eta0': 0.0039790351696428038}, mean: -1704.46889, std: 92.57078, params: {'penalty': 'l1', 'alpha': 1.0000000000000001e-09, 'eta0': 0.0079371879918299151}, mean: -1705.42130, std: 92.00419, params: {'penalty': 'l2', 'alpha': 1.0000000000000001e-09, 'eta0': 0.0079371879918299151}, mean: -1705.51788, std: 91.87110, params: {'penalty': 'elasticnet', 'alpha': 1.0000000000000001e-09, 'eta0': 0.0079371879918299151}, mean: -1675.19506, std: 88.56565, params: {'penalty': 'l1', 'alpha': 1.0000000000000001e-09, 'eta0': 0.015832720881254335}, mean: -1677.30227, std: 88.32010, params: {'penalty': 'l2', 'alpha': 1.0000000000000001e-09, 'eta0': 0.015832720881254335}, mean: -1676.40330, std: 88.70705, params: {'penalty': 'elasticnet', 'alpha': 1.0000000000000001e-09, 'eta0': 0.015832720881254335}, mean: -1678.25418, std: 92.67445, params: {'penalty': 'l1', 'alpha': 1.0000000000000001e-09, 'eta0': 0.031582350167557775}, mean: -1674.92513, std: 89.62462, params: {'penalty': 'l2', 'alpha': 1.0000000000000001e-09, 'eta0': 0.031582350167557775}, mean: -1678.16153, std: 85.84939, params: {'penalty': 'elasticnet', 'alpha': 1.0000000000000001e-09, 'eta0': 0.031582350167557775}, mean: -1677.56443, std: 87.39948, params: {'penalty': 'l1', 'alpha': 1.0000000000000001e-09, 'eta0': 0.062998953217649006}, mean: -1676.98057, std: 87.73014, params: {'penalty': 'l2', 'alpha': 1.0000000000000001e-09, 'eta0': 0.062998953217649006}, mean: -1676.54452, std: 89.97791, params: {'penalty': 'elasticnet', 'alpha': 1.0000000000000001e-09, 'eta0': 0.062998953217649006}, mean: -1715.97747, std: 62.11360, params: {'penalty': 'l1', 'alpha': 1.0000000000000001e-09, 'eta0': 0.12566728205668667}, mean: -1687.21923, std: 89.41997, params: {'penalty': 'l2', 'alpha': 1.0000000000000001e-09, 'eta0': 0.12566728205668667}, mean: -1693.62274, std: 89.85087, params: {'penalty': 'elasticnet', 'alpha': 1.0000000000000001e-09, 'eta0': 0.12566728205668667}, mean: -1704.70103, std: 65.10661, params: {'penalty': 'l1', 'alpha': 1.0000000000000001e-09, 'eta0': 0.25067505050370709}, mean: -1688.86134, std: 92.44106, params: {'penalty': 'l2', 'alpha': 1.0000000000000001e-09, 'eta0': 0.25067505050370709}, mean: -1730.51981, std: 43.12419, params: {'penalty': 'elasticnet', 'alpha': 1.0000000000000001e-09, 'eta0': 0.25067505050370709}, mean: -1754.36162, std: 77.77266, params: {'penalty': 'l1', 'alpha': 1.0000000000000001e-09, 'eta0': 0.50003453497697847}, mean: -1753.14368, std: 138.33864, params: {'penalty': 'l2', 'alpha': 1.0000000000000001e-09, 'eta0': 0.50003453497697847}, mean: -1726.63235, std: 91.06052, params: {'penalty': 'elasticnet', 'alpha': 1.0000000000000001e-09, 'eta0': 0.50003453497697847}, mean: -2132.86760, std: 105.67555, params: {'penalty': 'l1', 'alpha': 1e-08, 'eta0': 0.001}, mean: -2132.92880, std: 105.62340, params: {'penalty': 'l2', 'alpha': 1e-08, 'eta0': 0.001}, mean: -2132.89636, std: 105.64286, params: {'penalty': 'elasticnet', 'alpha': 1e-08, 'eta0': 0.001}, mean: -1980.31365, std: 102.05290, params: {'penalty': 'l1', 'alpha': 1e-08, 'eta0': 0.001994751906790116}, mean: -1980.70382, std: 102.63652, params: {'penalty': 'l2', 'alpha': 1e-08, 'eta0': 0.001994751906790116}, mean: -1980.63818, std: 103.11881, params: {'penalty': 'elasticnet', 'alpha': 1e-08, 'eta0': 0.001994751906790116}, mean: -1814.81911, std: 97.84373, params: {'penalty': 'l1', 'alpha': 1e-08, 'eta0': 0.0039790351696428038}, mean: -1814.10253, std: 98.11468, params: {'penalty': 'l2', 'alpha': 1e-08, 'eta0': 0.0039790351696428038}, mean: -1814.02722, std: 97.88798, params: {'penalty': 'elasticnet', 'alpha': 1e-08, 'eta0': 0.0039790351696428038}, mean: -1706.72817, std: 93.47764, params: {'penalty': 'l1', 'alpha': 1e-08, 'eta0': 0.0079371879918299151}, mean: -1705.52309, std: 91.80171, params: {'penalty': 'l2', 'alpha': 1e-08, 'eta0': 0.0079371879918299151}, mean: -1705.71835, std: 93.20599, params: {'penalty': 'elasticnet', 'alpha': 1e-08, 'eta0': 0.0079371879918299151}, mean: -1676.31410, std: 88.21997, params: {'penalty': 'l1', 'alpha': 1e-08, 'eta0': 0.015832720881254335}, mean: -1677.92645, std: 89.26392, params: {'penalty': 'l2', 'alpha': 1e-08, 'eta0': 0.015832720881254335}, mean: -1676.99747, std: 88.76211, params: {'penalty': 'elasticnet', 'alpha': 1e-08, 'eta0': 0.015832720881254335}, mean: -1675.61613, std: 88.53016, params: {'penalty': 'l1', 'alpha': 1e-08, 'eta0': 0.031582350167557775}, mean: -1673.74490, std: 87.63594, params: {'penalty': 'l2', 'alpha': 1e-08, 'eta0': 0.031582350167557775}, mean: -1675.90454, std: 86.68346, params: {'penalty': 'elasticnet', 'alpha': 1e-08, 'eta0': 0.031582350167557775}, mean: -1690.57420, std: 94.96082, params: {'penalty': 'l1', 'alpha': 1e-08, 'eta0': 0.062998953217649006}, mean: -1679.25845, std: 85.39672, params: {'penalty': 'l2', 'alpha': 1e-08, 'eta0': 0.062998953217649006}, mean: -1675.45010, std: 87.26661, params: {'penalty': 'elasticnet', 'alpha': 1e-08, 'eta0': 0.062998953217649006}, mean: -1681.41120, std: 95.50900, params: {'penalty': 'l1', 'alpha': 1e-08, 'eta0': 0.12566728205668667}, mean: -1688.59349, std: 92.38647, params: {'penalty': 'l2', 'alpha': 1e-08, 'eta0': 0.12566728205668667}, mean: -1691.99209, std: 100.19879, params: {'penalty': 'elasticnet', 'alpha': 1e-08, 'eta0': 0.12566728205668667}, mean: -1726.35338, std: 85.74904, params: {'penalty': 'l1', 'alpha': 1e-08, 'eta0': 0.25067505050370709}, mean: -1706.04575, std: 81.18615, params: {'penalty': 'l2', 'alpha': 1e-08, 'eta0': 0.25067505050370709}, mean: -1715.43851, std: 57.84455, params: {'penalty': 'elasticnet', 'alpha': 1e-08, 'eta0': 0.25067505050370709}, mean: -1808.88662, std: 261.04710, params: {'penalty': 'l1', 'alpha': 1e-08, 'eta0': 0.50003453497697847}, mean: -1751.42866, std: 61.99619, params: {'penalty': 'l2', 'alpha': 1e-08, 'eta0': 0.50003453497697847}, mean: -1705.60388, std: 88.92182, params: {'penalty': 'elasticnet', 'alpha': 1e-08, 'eta0': 0.50003453497697847}, mean: -2132.82402, std: 105.46956, params: {'penalty': 'l1', 'alpha': 9.9999999999999995e-08, 'eta0': 0.001}, mean: -2132.98751, std: 105.57140, params: {'penalty': 'l2', 'alpha': 9.9999999999999995e-08, 'eta0': 0.001}, mean: -2132.69950, std: 105.90015, params: {'penalty': 'elasticnet', 'alpha': 9.9999999999999995e-08, 'eta0': 0.001}, mean: -1981.07323, std: 103.21994, params: {'penalty': 'l1', 'alpha': 9.9999999999999995e-08, 'eta0': 0.001994751906790116}, mean: -1980.48409, std: 103.05120, params: {'penalty': 'l2', 'alpha': 9.9999999999999995e-08, 'eta0': 0.001994751906790116}, mean: -1980.28750, std: 103.40363, params: {'penalty': 'elasticnet', 'alpha': 9.9999999999999995e-08, 'eta0': 0.001994751906790116}, mean: -1814.89239, std: 98.30193, params: {'penalty': 'l1', 'alpha': 9.9999999999999995e-08, 'eta0': 0.0039790351696428038}, mean: -1813.95100, std: 98.26015, params: {'penalty': 'l2', 'alpha': 9.9999999999999995e-08, 'eta0': 0.0039790351696428038}, mean: -1814.44058, std: 98.38573, params: {'penalty': 'elasticnet', 'alpha': 9.9999999999999995e-08, 'eta0': 0.0039790351696428038}, mean: -1704.74782, std: 92.24286, params: {'penalty': 'l1', 'alpha': 9.9999999999999995e-08, 'eta0': 0.0079371879918299151}, mean: -1706.33164, std: 93.44899, params: {'penalty': 'l2', 'alpha': 9.9999999999999995e-08, 'eta0': 0.0079371879918299151}, mean: -1704.77052, std: 92.14654, params: {'penalty': 'elasticnet', 'alpha': 9.9999999999999995e-08, 'eta0': 0.0079371879918299151}, mean: -1678.65115, std: 89.80682, params: {'penalty': 'l1', 'alpha': 9.9999999999999995e-08, 'eta0': 0.015832720881254335}, mean: -1676.34698, std: 88.33824, params: {'penalty': 'l2', 'alpha': 9.9999999999999995e-08, 'eta0': 0.015832720881254335}, mean: -1678.56870, std: 90.67856, params: {'penalty': 'elasticnet', 'alpha': 9.9999999999999995e-08, 'eta0': 0.015832720881254335}, mean: -1679.47943, std: 90.46762, params: {'penalty': 'l1', 'alpha': 9.9999999999999995e-08, 'eta0': 0.031582350167557775}, mean: -1677.07091, std: 85.31880, params: {'penalty': 'l2', 'alpha': 9.9999999999999995e-08, 'eta0': 0.031582350167557775}, mean: -1676.51114, std: 85.24715, params: {'penalty': 'elasticnet', 'alpha': 9.9999999999999995e-08, 'eta0': 0.031582350167557775}, mean: -1678.46970, std: 88.75941, params: {'penalty': 'l1', 'alpha': 9.9999999999999995e-08, 'eta0': 0.062998953217649006}, mean: -1679.54117, std: 86.84949, params: {'penalty': 'l2', 'alpha': 9.9999999999999995e-08, 'eta0': 0.062998953217649006}, mean: -1685.96307, std: 86.68640, params: {'penalty': 'elasticnet', 'alpha': 9.9999999999999995e-08, 'eta0': 0.062998953217649006}, mean: -1677.10295, std: 90.10569, params: {'penalty': 'l1', 'alpha': 9.9999999999999995e-08, 'eta0': 0.12566728205668667}, mean: -1692.97669, std: 100.39282, params: {'penalty': 'l2', 'alpha': 9.9999999999999995e-08, 'eta0': 0.12566728205668667}, mean: -1680.50559, std: 91.78428, params: {'penalty': 'elasticnet', 'alpha': 9.9999999999999995e-08, 'eta0': 0.12566728205668667}, mean: -1722.78366, std: 70.87069, params: {'penalty': 'l1', 'alpha': 9.9999999999999995e-08, 'eta0': 0.25067505050370709}, mean: -1729.01798, std: 69.10374, params: {'penalty': 'l2', 'alpha': 9.9999999999999995e-08, 'eta0': 0.25067505050370709}, mean: -1700.35461, std: 80.33904, params: {'penalty': 'elasticnet', 'alpha': 9.9999999999999995e-08, 'eta0': 0.25067505050370709}, mean: -1745.60472, std: 134.72135, params: {'penalty': 'l1', 'alpha': 9.9999999999999995e-08, 'eta0': 0.50003453497697847}, mean: -1706.41524, std: 80.14620, params: {'penalty': 'l2', 'alpha': 9.9999999999999995e-08, 'eta0': 0.50003453497697847}, mean: -1743.80246, std: 81.34224, params: {'penalty': 'elasticnet', 'alpha': 9.9999999999999995e-08, 'eta0': 0.50003453497697847}, mean: -2132.85620, std: 105.80334, params: {'penalty': 'l1', 'alpha': 9.9999999999999995e-07, 'eta0': 0.001}, mean: -2132.39157, std: 105.27821, params: {'penalty': 'l2', 'alpha': 9.9999999999999995e-07, 'eta0': 0.001}, mean: -2132.83490, std: 105.23110, params: {'penalty': 'elasticnet', 'alpha': 9.9999999999999995e-07, 'eta0': 0.001}, mean: -1980.75530, std: 103.19568, params: {'penalty': 'l1', 'alpha': 9.9999999999999995e-07, 'eta0': 0.001994751906790116}, mean: -1980.71228, std: 102.80090, params: {'penalty': 'l2', 'alpha': 9.9999999999999995e-07, 'eta0': 0.001994751906790116}, mean: -1981.01530, std: 102.71469, params: {'penalty': 'elasticnet', 'alpha': 9.9999999999999995e-07, 'eta0': 0.001994751906790116}, mean: -1815.10397, std: 98.41479, params: {'penalty': 'l1', 'alpha': 9.9999999999999995e-07, 'eta0': 0.0039790351696428038}, mean: -1814.54015, std: 98.65673, params: {'penalty': 'l2', 'alpha': 9.9999999999999995e-07, 'eta0': 0.0039790351696428038}, mean: -1814.19873, std: 98.61929, params: {'penalty': 'elasticnet', 'alpha': 9.9999999999999995e-07, 'eta0': 0.0039790351696428038}, mean: -1704.74819, std: 92.33939, params: {'penalty': 'l1', 'alpha': 9.9999999999999995e-07, 'eta0': 0.0079371879918299151}, mean: -1705.81942, std: 92.19551, params: {'penalty': 'l2', 'alpha': 9.9999999999999995e-07, 'eta0': 0.0079371879918299151}, mean: -1705.87866, std: 91.94782, params: {'penalty': 'elasticnet', 'alpha': 9.9999999999999995e-07, 'eta0': 0.0079371879918299151}, mean: -1676.25655, std: 89.16184, params: {'penalty': 'l1', 'alpha': 9.9999999999999995e-07, 'eta0': 0.015832720881254335}, mean: -1678.64919, std: 88.44310, params: {'penalty': 'l2', 'alpha': 9.9999999999999995e-07, 'eta0': 0.015832720881254335}, mean: -1676.66094, std: 88.61997, params: {'penalty': 'elasticnet', 'alpha': 9.9999999999999995e-07, 'eta0': 0.015832720881254335}, mean: -1683.55242, std: 85.80685, params: {'penalty': 'l1', 'alpha': 9.9999999999999995e-07, 'eta0': 0.031582350167557775}, mean: -1677.26195, std: 90.13499, params: {'penalty': 'l2', 'alpha': 9.9999999999999995e-07, 'eta0': 0.031582350167557775}, mean: -1675.46720, std: 88.32105, params: {'penalty': 'elasticnet', 'alpha': 9.9999999999999995e-07, 'eta0': 0.031582350167557775}, mean: -1680.32716, std: 89.18751, params: {'penalty': 'l1', 'alpha': 9.9999999999999995e-07, 'eta0': 0.062998953217649006}, mean: -1679.70497, std: 86.78948, params: {'penalty': 'l2', 'alpha': 9.9999999999999995e-07, 'eta0': 0.062998953217649006}, mean: -1681.66317, std: 84.55489, params: {'penalty': 'elasticnet', 'alpha': 9.9999999999999995e-07, 'eta0': 0.062998953217649006}, mean: -1689.73380, std: 91.88386, params: {'penalty': 'l1', 'alpha': 9.9999999999999995e-07, 'eta0': 0.12566728205668667}, mean: -1698.11814, std: 102.82555, params: {'penalty': 'l2', 'alpha': 9.9999999999999995e-07, 'eta0': 0.12566728205668667}, mean: -1675.64933, std: 87.40770, params: {'penalty': 'elasticnet', 'alpha': 9.9999999999999995e-07, 'eta0': 0.12566728205668667}, mean: -1681.39230, std: 87.91004, params: {'penalty': 'l1', 'alpha': 9.9999999999999995e-07, 'eta0': 0.25067505050370709}, mean: -1693.79286, std: 105.28767, params: {'penalty': 'l2', 'alpha': 9.9999999999999995e-07, 'eta0': 0.25067505050370709}, mean: -1753.01759, std: 142.90905, params: {'penalty': 'elasticnet', 'alpha': 9.9999999999999995e-07, 'eta0': 0.25067505050370709}, mean: -1700.10695, std: 75.08781, params: {'penalty': 'l1', 'alpha': 9.9999999999999995e-07, 'eta0': 0.50003453497697847}, mean: -1686.70280, std: 81.24881, params: {'penalty': 'l2', 'alpha': 9.9999999999999995e-07, 'eta0': 0.50003453497697847}, mean: -1698.67588, std: 66.18934, params: {'penalty': 'elasticnet', 'alpha': 9.9999999999999995e-07, 'eta0': 0.50003453497697847}, mean: -2133.10619, std: 105.29423, params: {'penalty': 'l1', 'alpha': 1.0000000000000001e-05, 'eta0': 0.001}, mean: -2132.73304, std: 105.67121, params: {'penalty': 'l2', 'alpha': 1.0000000000000001e-05, 'eta0': 0.001}, mean: -2133.04963, std: 105.60053, params: {'penalty': 'elasticnet', 'alpha': 1.0000000000000001e-05, 'eta0': 0.001}, mean: -1980.77312, std: 103.23871, params: {'penalty': 'l1', 'alpha': 1.0000000000000001e-05, 'eta0': 0.001994751906790116}, mean: -1980.76683, std: 103.04745, params: {'penalty': 'l2', 'alpha': 1.0000000000000001e-05, 'eta0': 0.001994751906790116}, mean: -1980.78993, std: 102.59367, params: {'penalty': 'elasticnet', 'alpha': 1.0000000000000001e-05, 'eta0': 0.001994751906790116}, mean: -1814.89076, std: 98.31491, params: {'penalty': 'l1', 'alpha': 1.0000000000000001e-05, 'eta0': 0.0039790351696428038}, mean: -1815.22256, std: 98.12808, params: {'penalty': 'l2', 'alpha': 1.0000000000000001e-05, 'eta0': 0.0039790351696428038}, mean: -1814.97845, std: 98.56273, params: {'penalty': 'elasticnet', 'alpha': 1.0000000000000001e-05, 'eta0': 0.0039790351696428038}, mean: -1705.76286, std: 92.44620, params: {'penalty': 'l1', 'alpha': 1.0000000000000001e-05, 'eta0': 0.0079371879918299151}, mean: -1705.54104, std: 92.08805, params: {'penalty': 'l2', 'alpha': 1.0000000000000001e-05, 'eta0': 0.0079371879918299151}, mean: -1704.74285, std: 92.34901, params: {'penalty': 'elasticnet', 'alpha': 1.0000000000000001e-05, 'eta0': 0.0079371879918299151}, mean: -1678.74434, std: 89.62354, params: {'penalty': 'l1', 'alpha': 1.0000000000000001e-05, 'eta0': 0.015832720881254335}, mean: -1679.75967, std: 93.76846, params: {'penalty': 'l2', 'alpha': 1.0000000000000001e-05, 'eta0': 0.015832720881254335}, mean: -1676.88348, std: 89.46026, params: {'penalty': 'elasticnet', 'alpha': 1.0000000000000001e-05, 'eta0': 0.015832720881254335}, mean: -1680.48664, std: 85.12356, params: {'penalty': 'l1', 'alpha': 1.0000000000000001e-05, 'eta0': 0.031582350167557775}, mean: -1676.13764, std: 88.83135, params: {'penalty': 'l2', 'alpha': 1.0000000000000001e-05, 'eta0': 0.031582350167557775}, mean: -1682.74068, std: 83.74972, params: {'penalty': 'elasticnet', 'alpha': 1.0000000000000001e-05, 'eta0': 0.031582350167557775}, mean: -1689.23075, std: 92.89561, params: {'penalty': 'l1', 'alpha': 1.0000000000000001e-05, 'eta0': 0.062998953217649006}, mean: -1678.91828, std: 92.54905, params: {'penalty': 'l2', 'alpha': 1.0000000000000001e-05, 'eta0': 0.062998953217649006}, mean: -1681.29236, std: 86.19666, params: {'penalty': 'elasticnet', 'alpha': 1.0000000000000001e-05, 'eta0': 0.062998953217649006}, mean: -1684.10514, std: 88.74768, params: {'penalty': 'l1', 'alpha': 1.0000000000000001e-05, 'eta0': 0.12566728205668667}, mean: -1682.47029, std: 88.47028, params: {'penalty': 'l2', 'alpha': 1.0000000000000001e-05, 'eta0': 0.12566728205668667}, mean: -1686.81178, std: 78.30622, params: {'penalty': 'elasticnet', 'alpha': 1.0000000000000001e-05, 'eta0': 0.12566728205668667}, mean: -1688.43219, std: 86.28889, params: {'penalty': 'l1', 'alpha': 1.0000000000000001e-05, 'eta0': 0.25067505050370709}, mean: -1705.38881, std: 72.07646, params: {'penalty': 'l2', 'alpha': 1.0000000000000001e-05, 'eta0': 0.25067505050370709}, mean: -1694.75007, std: 101.74342, params: {'penalty': 'elasticnet', 'alpha': 1.0000000000000001e-05, 'eta0': 0.25067505050370709}, mean: -1774.98730, std: 154.41344, params: {'penalty': 'l1', 'alpha': 1.0000000000000001e-05, 'eta0': 0.50003453497697847}, mean: -1725.30125, std: 109.64090, params: {'penalty': 'l2', 'alpha': 1.0000000000000001e-05, 'eta0': 0.50003453497697847}, mean: -1794.68610, std: 123.37559, params: {'penalty': 'elasticnet', 'alpha': 1.0000000000000001e-05, 'eta0': 0.50003453497697847}, mean: -2132.50103, std: 105.66491, params: {'penalty': 'l1', 'alpha': 0.0001, 'eta0': 0.001}, mean: -2132.81499, std: 105.49890, params: {'penalty': 'l2', 'alpha': 0.0001, 'eta0': 0.001}, mean: -2133.08558, std: 105.96944, params: {'penalty': 'elasticnet', 'alpha': 0.0001, 'eta0': 0.001}, mean: -1980.57595, std: 102.92591, params: {'penalty': 'l1', 'alpha': 0.0001, 'eta0': 0.001994751906790116}, mean: -1980.76074, std: 102.68526, params: {'penalty': 'l2', 'alpha': 0.0001, 'eta0': 0.001994751906790116}, mean: -1981.01022, std: 102.88726, params: {'penalty': 'elasticnet', 'alpha': 0.0001, 'eta0': 0.001994751906790116}, mean: -1815.37243, std: 97.51200, params: {'penalty': 'l1', 'alpha': 0.0001, 'eta0': 0.0039790351696428038}, mean: -1814.68028, std: 98.44328, params: {'penalty': 'l2', 'alpha': 0.0001, 'eta0': 0.0039790351696428038}, mean: -1815.65277, std: 99.30884, params: {'penalty': 'elasticnet', 'alpha': 0.0001, 'eta0': 0.0039790351696428038}, mean: -1705.66111, std: 92.61577, params: {'penalty': 'l1', 'alpha': 0.0001, 'eta0': 0.0079371879918299151}, mean: -1705.97110, std: 92.93121, params: {'penalty': 'l2', 'alpha': 0.0001, 'eta0': 0.0079371879918299151}, mean: -1704.93754, std: 92.27194, params: {'penalty': 'elasticnet', 'alpha': 0.0001, 'eta0': 0.0079371879918299151}, mean: -1675.37160, std: 89.14296, params: {'penalty': 'l1', 'alpha': 0.0001, 'eta0': 0.015832720881254335}, mean: -1679.87015, std: 89.17162, params: {'penalty': 'l2', 'alpha': 0.0001, 'eta0': 0.015832720881254335}, mean: -1677.80037, std: 90.16007, params: {'penalty': 'elasticnet', 'alpha': 0.0001, 'eta0': 0.015832720881254335}, mean: -1673.55181, std: 87.68902, params: {'penalty': 'l1', 'alpha': 0.0001, 'eta0': 0.031582350167557775}, mean: -1679.69500, std: 89.69634, params: {'penalty': 'l2', 'alpha': 0.0001, 'eta0': 0.031582350167557775}, mean: -1679.52519, std: 90.42435, params: {'penalty': 'elasticnet', 'alpha': 0.0001, 'eta0': 0.031582350167557775}, mean: -1690.48035, std: 75.73412, params: {'penalty': 'l1', 'alpha': 0.0001, 'eta0': 0.062998953217649006}, mean: -1679.70115, std: 90.13713, params: {'penalty': 'l2', 'alpha': 0.0001, 'eta0': 0.062998953217649006}, mean: -1680.33092, std: 88.34001, params: {'penalty': 'elasticnet', 'alpha': 0.0001, 'eta0': 0.062998953217649006}, mean: -1689.96206, std: 94.33832, params: {'penalty': 'l1', 'alpha': 0.0001, 'eta0': 0.12566728205668667}, mean: -1683.87037, std: 97.63554, params: {'penalty': 'l2', 'alpha': 0.0001, 'eta0': 0.12566728205668667}, mean: -1681.89258, std: 90.22070, params: {'penalty': 'elasticnet', 'alpha': 0.0001, 'eta0': 0.12566728205668667}, mean: -1702.56171, std: 82.87514, params: {'penalty': 'l1', 'alpha': 0.0001, 'eta0': 0.25067505050370709}, mean: -1702.94626, std: 88.80266, params: {'penalty': 'l2', 'alpha': 0.0001, 'eta0': 0.25067505050370709}, mean: -1705.59651, std: 122.51126, params: {'penalty': 'elasticnet', 'alpha': 0.0001, 'eta0': 0.25067505050370709}, mean: -1735.34584, std: 136.80433, params: {'penalty': 'l1', 'alpha': 0.0001, 'eta0': 0.50003453497697847}, mean: -1704.30478, std: 77.48078, params: {'penalty': 'l2', 'alpha': 0.0001, 'eta0': 0.50003453497697847}, mean: -1714.17259, std: 97.37193, params: {'penalty': 'elasticnet', 'alpha': 0.0001, 'eta0': 0.50003453497697847}, mean: -2132.60871, std: 105.70115, params: {'penalty': 'l1', 'alpha': 0.001, 'eta0': 0.001}, mean: -2133.31379, std: 105.47338, params: {'penalty': 'l2', 'alpha': 0.001, 'eta0': 0.001}, mean: -2133.35207, std: 105.89140, params: {'penalty': 'elasticnet', 'alpha': 0.001, 'eta0': 0.001}, mean: -1980.67568, std: 102.58786, params: {'penalty': 'l1', 'alpha': 0.001, 'eta0': 0.001994751906790116}, mean: -1982.58185, std: 103.04055, params: {'penalty': 'l2', 'alpha': 0.001, 'eta0': 0.001994751906790116}, mean: -1982.23105, std: 102.60427, params: {'penalty': 'elasticnet', 'alpha': 0.001, 'eta0': 0.001994751906790116}, mean: -1815.04987, std: 97.70078, params: {'penalty': 'l1', 'alpha': 0.001, 'eta0': 0.0039790351696428038}, mean: -1817.67093, std: 98.67331, params: {'penalty': 'l2', 'alpha': 0.001, 'eta0': 0.0039790351696428038}, mean: -1817.13871, std: 98.69060, params: {'penalty': 'elasticnet', 'alpha': 0.001, 'eta0': 0.0039790351696428038}, mean: -1706.81576, std: 92.81837, params: {'penalty': 'l1', 'alpha': 0.001, 'eta0': 0.0079371879918299151}, mean: -1710.36771, std: 92.66534, params: {'penalty': 'l2', 'alpha': 0.001, 'eta0': 0.0079371879918299151}, mean: -1707.95253, std: 92.90024, params: {'penalty': 'elasticnet', 'alpha': 0.001, 'eta0': 0.0079371879918299151}, mean: -1677.11695, std: 87.93684, params: {'penalty': 'l1', 'alpha': 0.001, 'eta0': 0.015832720881254335}, mean: -1679.29843, std: 89.14089, params: {'penalty': 'l2', 'alpha': 0.001, 'eta0': 0.015832720881254335}, mean: -1677.12491, std: 89.97898, params: {'penalty': 'elasticnet', 'alpha': 0.001, 'eta0': 0.015832720881254335}, mean: -1683.52640, std: 87.27400, params: {'penalty': 'l1', 'alpha': 0.001, 'eta0': 0.031582350167557775}, mean: -1677.14413, std: 86.02747, params: {'penalty': 'l2', 'alpha': 0.001, 'eta0': 0.031582350167557775}, mean: -1675.64322, std: 88.66696, params: {'penalty': 'elasticnet', 'alpha': 0.001, 'eta0': 0.031582350167557775}, mean: -1682.05530, std: 93.31418, params: {'penalty': 'l1', 'alpha': 0.001, 'eta0': 0.062998953217649006}, mean: -1682.68887, std: 90.78284, params: {'penalty': 'l2', 'alpha': 0.001, 'eta0': 0.062998953217649006}, mean: -1690.56768, std: 92.46701, params: {'penalty': 'elasticnet', 'alpha': 0.001, 'eta0': 0.062998953217649006}, mean: -1687.36528, std: 81.61141, params: {'penalty': 'l1', 'alpha': 0.001, 'eta0': 0.12566728205668667}, mean: -1710.98334, std: 114.67799, params: {'penalty': 'l2', 'alpha': 0.001, 'eta0': 0.12566728205668667}, mean: -1699.07505, std: 102.71217, params: {'penalty': 'elasticnet', 'alpha': 0.001, 'eta0': 0.12566728205668667}, mean: -1698.20479, std: 87.35574, params: {'penalty': 'l1', 'alpha': 0.001, 'eta0': 0.25067505050370709}, mean: -1697.81747, std: 88.59573, params: {'penalty': 'l2', 'alpha': 0.001, 'eta0': 0.25067505050370709}, mean: -1694.37066, std: 85.61819, params: {'penalty': 'elasticnet', 'alpha': 0.001, 'eta0': 0.25067505050370709}, mean: -1711.36197, std: 115.86186, params: {'penalty': 'l1', 'alpha': 0.001, 'eta0': 0.50003453497697847}, mean: -1731.14775, std: 89.13278, params: {'penalty': 'l2', 'alpha': 0.001, 'eta0': 0.50003453497697847}, mean: -1727.18255, std: 85.99026, params: {'penalty': 'elasticnet', 'alpha': 0.001, 'eta0': 0.50003453497697847}, mean: -2133.80859, std: 105.76141, params: {'penalty': 'l1', 'alpha': 0.01, 'eta0': 0.001}, mean: -2138.47641, std: 105.75592, params: {'penalty': 'l2', 'alpha': 0.01, 'eta0': 0.001}, mean: -2138.28531, std: 105.77274, params: {'penalty': 'elasticnet', 'alpha': 0.01, 'eta0': 0.001}, mean: -1981.57220, std: 102.23704, params: {'penalty': 'l1', 'alpha': 0.01, 'eta0': 0.001994751906790116}, mean: -1996.16048, std: 103.03961, params: {'penalty': 'l2', 'alpha': 0.01, 'eta0': 0.001994751906790116}, mean: -1993.91530, std: 103.46338, params: {'penalty': 'elasticnet', 'alpha': 0.01, 'eta0': 0.001994751906790116}, mean: -1816.46473, std: 99.24395, params: {'penalty': 'l1', 'alpha': 0.01, 'eta0': 0.0039790351696428038}, mean: -1846.40655, std: 99.63557, params: {'penalty': 'l2', 'alpha': 0.01, 'eta0': 0.0039790351696428038}, mean: -1842.75637, std: 99.12981, params: {'penalty': 'elasticnet', 'alpha': 0.01, 'eta0': 0.0039790351696428038}, mean: -1705.72527, std: 92.19192, params: {'penalty': 'l1', 'alpha': 0.01, 'eta0': 0.0079371879918299151}, mean: -1746.96776, std: 95.46028, params: {'penalty': 'l2', 'alpha': 0.01, 'eta0': 0.0079371879918299151}, mean: -1740.53332, std: 95.28337, params: {'penalty': 'elasticnet', 'alpha': 0.01, 'eta0': 0.0079371879918299151}, mean: -1677.39253, std: 87.03701, params: {'penalty': 'l1', 'alpha': 0.01, 'eta0': 0.015832720881254335}, mean: -1715.16948, std: 93.31464, params: {'penalty': 'l2', 'alpha': 0.01, 'eta0': 0.015832720881254335}, mean: -1705.96860, std: 93.89443, params: {'penalty': 'elasticnet', 'alpha': 0.01, 'eta0': 0.015832720881254335}, mean: -1677.50782, std: 85.88863, params: {'penalty': 'l1', 'alpha': 0.01, 'eta0': 0.031582350167557775}, mean: -1711.10138, std: 96.56390, params: {'penalty': 'l2', 'alpha': 0.01, 'eta0': 0.031582350167557775}, mean: -1705.38754, std: 93.04772, params: {'penalty': 'elasticnet', 'alpha': 0.01, 'eta0': 0.031582350167557775}, mean: -1678.83151, std: 89.72791, params: {'penalty': 'l1', 'alpha': 0.01, 'eta0': 0.062998953217649006}, mean: -1714.85937, std: 94.54680, params: {'penalty': 'l2', 'alpha': 0.01, 'eta0': 0.062998953217649006}, mean: -1703.13770, std: 94.34782, params: {'penalty': 'elasticnet', 'alpha': 0.01, 'eta0': 0.062998953217649006}, mean: -1681.58537, std: 93.96511, params: {'penalty': 'l1', 'alpha': 0.01, 'eta0': 0.12566728205668667}, mean: -1721.85984, std: 92.40797, params: {'penalty': 'l2', 'alpha': 0.01, 'eta0': 0.12566728205668667}, mean: -1711.27492, std: 91.81160, params: {'penalty': 'elasticnet', 'alpha': 0.01, 'eta0': 0.12566728205668667}, mean: -1691.95296, std: 90.81504, params: {'penalty': 'l1', 'alpha': 0.01, 'eta0': 0.25067505050370709}, mean: -1745.80491, std: 73.11163, params: {'penalty': 'l2', 'alpha': 0.01, 'eta0': 0.25067505050370709}, mean: -1727.25400, std: 109.22669, params: {'penalty': 'elasticnet', 'alpha': 0.01, 'eta0': 0.25067505050370709}, mean: -1761.17078, std: 129.32814, params: {'penalty': 'l1', 'alpha': 0.01, 'eta0': 0.50003453497697847}, mean: -1841.85536, std: 144.08275, params: {'penalty': 'l2', 'alpha': 0.01, 'eta0': 0.50003453497697847}, mean: -1729.18846, std: 111.04570, params: {'penalty': 'elasticnet', 'alpha': 0.01, 'eta0': 0.50003453497697847}, mean: -2139.32950, std: 105.50446, params: {'penalty': 'l1', 'alpha': 0.10000000000000001, 'eta0': 0.001}, mean: -2185.49643, std: 107.10715, params: {'penalty': 'l2', 'alpha': 0.10000000000000001, 'eta0': 0.001}, mean: -2178.89982, std: 106.22592, params: {'penalty': 'elasticnet', 'alpha': 0.10000000000000001, 'eta0': 0.001}, mean: -1988.91808, std: 102.89694, params: {'penalty': 'l1', 'alpha': 0.10000000000000001, 'eta0': 0.001994751906790116}, mean: -2110.88897, std: 106.68492, params: {'penalty': 'l2', 'alpha': 0.10000000000000001, 'eta0': 0.001994751906790116}, mean: -2095.36369, std: 105.40168, params: {'penalty': 'elasticnet', 'alpha': 0.10000000000000001, 'eta0': 0.001994751906790116}, mean: -1824.33933, std: 98.59622, params: {'penalty': 'l1', 'alpha': 0.10000000000000001, 'eta0': 0.0039790351696428038}, mean: -2064.89050, std: 104.76194, params: {'penalty': 'l2', 'alpha': 0.10000000000000001, 'eta0': 0.0039790351696428038}, mean: -2038.49303, std: 104.73927, params: {'penalty': 'elasticnet', 'alpha': 0.10000000000000001, 'eta0': 0.0039790351696428038}, mean: -1711.89489, std: 92.88839, params: {'penalty': 'l1', 'alpha': 0.10000000000000001, 'eta0': 0.0079371879918299151}, mean: -2052.86106, std: 103.41844, params: {'penalty': 'l2', 'alpha': 0.10000000000000001, 'eta0': 0.0079371879918299151}, mean: -2023.83454, std: 104.12791, params: {'penalty': 'elasticnet', 'alpha': 0.10000000000000001, 'eta0': 0.0079371879918299151}, mean: -1680.26718, std: 87.53025, params: {'penalty': 'l1', 'alpha': 0.10000000000000001, 'eta0': 0.015832720881254335}, mean: -2054.40442, std: 103.91614, params: {'penalty': 'l2', 'alpha': 0.10000000000000001, 'eta0': 0.015832720881254335}, mean: -2023.81659, std: 108.24225, params: {'penalty': 'elasticnet', 'alpha': 0.10000000000000001, 'eta0': 0.015832720881254335}, mean: -1675.35808, std: 88.38586, params: {'penalty': 'l1', 'alpha': 0.10000000000000001, 'eta0': 0.031582350167557775}, mean: -2056.82014, std: 107.87950, params: {'penalty': 'l2', 'alpha': 0.10000000000000001, 'eta0': 0.031582350167557775}, mean: -2024.95023, std: 102.22879, params: {'penalty': 'elasticnet', 'alpha': 0.10000000000000001, 'eta0': 0.031582350167557775}, mean: -1677.87564, std: 87.57116, params: {'penalty': 'l1', 'alpha': 0.10000000000000001, 'eta0': 0.062998953217649006}, mean: -2061.16976, std: 110.10449, params: {'penalty': 'l2', 'alpha': 0.10000000000000001, 'eta0': 0.062998953217649006}, mean: -2026.27391, std: 104.46852, params: {'penalty': 'elasticnet', 'alpha': 0.10000000000000001, 'eta0': 0.062998953217649006}, mean: -1679.59525, std: 87.65928, params: {'penalty': 'l1', 'alpha': 0.10000000000000001, 'eta0': 0.12566728205668667}, mean: -2069.80186, std: 98.67910, params: {'penalty': 'l2', 'alpha': 0.10000000000000001, 'eta0': 0.12566728205668667}, mean: -2015.15177, std: 104.54727, params: {'penalty': 'elasticnet', 'alpha': 0.10000000000000001, 'eta0': 0.12566728205668667}, mean: -1688.44283, std: 88.27546, params: {'penalty': 'l1', 'alpha': 0.10000000000000001, 'eta0': 0.25067505050370709}, mean: -2071.43107, std: 109.14241, params: {'penalty': 'l2', 'alpha': 0.10000000000000001, 'eta0': 0.25067505050370709}, mean: -2071.86299, std: 134.89114, params: {'penalty': 'elasticnet', 'alpha': 0.10000000000000001, 'eta0': 0.25067505050370709}, mean: -1755.42823, std: 122.98327, params: {'penalty': 'l1', 'alpha': 0.10000000000000001, 'eta0': 0.50003453497697847}, mean: -2177.91244, std: 109.43272, params: {'penalty': 'l2', 'alpha': 0.10000000000000001, 'eta0': 0.50003453497697847}, mean: -2094.77371, std: 77.94643, params: {'penalty': 'elasticnet', 'alpha': 0.10000000000000001, 'eta0': 0.50003453497697847}, mean: -2204.82291, std: 105.65582, params: {'penalty': 'l1', 'alpha': 1.0, 'eta0': 0.001}, mean: -2354.73040, std: 107.44809, params: {'penalty': 'l2', 'alpha': 1.0, 'eta0': 0.001}, mean: -2348.20462, std: 107.52322, params: {'penalty': 'elasticnet', 'alpha': 1.0, 'eta0': 0.001}, mean: -2078.86738, std: 104.30304, params: {'penalty': 'l1', 'alpha': 1.0, 'eta0': 0.001994751906790116}, mean: -2355.76006, std: 107.41231, params: {'penalty': 'l2', 'alpha': 1.0, 'eta0': 0.001994751906790116}, mean: -2347.71704, std: 107.43001, params: {'penalty': 'elasticnet', 'alpha': 1.0, 'eta0': 0.001994751906790116}, mean: -1923.56064, std: 101.14129, params: {'penalty': 'l1', 'alpha': 1.0, 'eta0': 0.0039790351696428038}, mean: -2356.87042, std: 107.12598, params: {'penalty': 'l2', 'alpha': 1.0, 'eta0': 0.0039790351696428038}, mean: -2349.72232, std: 106.50104, params: {'penalty': 'elasticnet', 'alpha': 1.0, 'eta0': 0.0039790351696428038}, mean: -1797.27272, std: 96.82886, params: {'penalty': 'l1', 'alpha': 1.0, 'eta0': 0.0079371879918299151}, mean: -2355.86240, std: 107.70195, params: {'penalty': 'l2', 'alpha': 1.0, 'eta0': 0.0079371879918299151}, mean: -2353.29918, std: 108.49289, params: {'penalty': 'elasticnet', 'alpha': 1.0, 'eta0': 0.0079371879918299151}, mean: -1737.64320, std: 94.60429, params: {'penalty': 'l1', 'alpha': 1.0, 'eta0': 0.015832720881254335}, mean: -2355.16748, std: 105.65250, params: {'penalty': 'l2', 'alpha': 1.0, 'eta0': 0.015832720881254335}, mean: -2354.02447, std: 106.59466, params: {'penalty': 'elasticnet', 'alpha': 1.0, 'eta0': 0.015832720881254335}, mean: -1728.39321, std: 94.19258, params: {'penalty': 'l1', 'alpha': 1.0, 'eta0': 0.031582350167557775}, mean: -2357.87546, std: 108.00775, params: {'penalty': 'l2', 'alpha': 1.0, 'eta0': 0.031582350167557775}, mean: -2357.44561, std: 100.28900, params: {'penalty': 'elasticnet', 'alpha': 1.0, 'eta0': 0.031582350167557775}, mean: -1729.20164, std: 95.75463, params: {'penalty': 'l1', 'alpha': 1.0, 'eta0': 0.062998953217649006}, mean: -2373.43882, std: 112.08497, params: {'penalty': 'l2', 'alpha': 1.0, 'eta0': 0.062998953217649006}, mean: -2357.19264, std: 104.37420, params: {'penalty': 'elasticnet', 'alpha': 1.0, 'eta0': 0.062998953217649006}, mean: -1737.84981, std: 105.82208, params: {'penalty': 'l1', 'alpha': 1.0, 'eta0': 0.12566728205668667}, mean: -2358.82604, std: 115.04939, params: {'penalty': 'l2', 'alpha': 1.0, 'eta0': 0.12566728205668667}, mean: -2367.74764, std: 89.68788, params: {'penalty': 'elasticnet', 'alpha': 1.0, 'eta0': 0.12566728205668667}, mean: -1727.78119, std: 81.99589, params: {'penalty': 'l1', 'alpha': 1.0, 'eta0': 0.25067505050370709}, mean: -2361.32626, std: 104.30243, params: {'penalty': 'l2', 'alpha': 1.0, 'eta0': 0.25067505050370709}, mean: -2394.71394, std: 111.00519, params: {'penalty': 'elasticnet', 'alpha': 1.0, 'eta0': 0.25067505050370709}, mean: -1755.31190, std: 110.93959, params: {'penalty': 'l1', 'alpha': 1.0, 'eta0': 0.50003453497697847}, mean: -2420.47374, std: 110.85041, params: {'penalty': 'l2', 'alpha': 1.0, 'eta0': 0.50003453497697847}, mean: -2371.49359, std: 133.98156, params: {'penalty': 'elasticnet', 'alpha': 1.0, 'eta0': 0.50003453497697847}, mean: -2430.94170, std: 108.27991, params: {'penalty': 'l1', 'alpha': 10.0, 'eta0': 0.001}, mean: -2422.66646, std: 108.77532, params: {'penalty': 'l2', 'alpha': 10.0, 'eta0': 0.001}, mean: -2426.08254, std: 107.81638, params: {'penalty': 'elasticnet', 'alpha': 10.0, 'eta0': 0.001}, mean: -2430.85509, std: 108.11256, params: {'penalty': 'l1', 'alpha': 10.0, 'eta0': 0.001994751906790116}, mean: -2422.48356, std: 108.31366, params: {'penalty': 'l2', 'alpha': 10.0, 'eta0': 0.001994751906790116}, mean: -2425.62737, std: 108.43488, params: {'penalty': 'elasticnet', 'alpha': 10.0, 'eta0': 0.001994751906790116}, mean: -2431.11901, std: 108.46786, params: {'penalty': 'l1', 'alpha': 10.0, 'eta0': 0.0039790351696428038}, mean: -2421.93181, std: 107.74411, params: {'penalty': 'l2', 'alpha': 10.0, 'eta0': 0.0039790351696428038}, mean: -2424.38736, std: 108.32347, params: {'penalty': 'elasticnet', 'alpha': 10.0, 'eta0': 0.0039790351696428038}, mean: -2431.37934, std: 108.22822, params: {'penalty': 'l1', 'alpha': 10.0, 'eta0': 0.0079371879918299151}, mean: -2421.25992, std: 108.29282, params: {'penalty': 'l2', 'alpha': 10.0, 'eta0': 0.0079371879918299151}, mean: -2424.82965, std: 107.36340, params: {'penalty': 'elasticnet', 'alpha': 10.0, 'eta0': 0.0079371879918299151}, mean: -2431.45371, std: 108.15787, params: {'penalty': 'l1', 'alpha': 10.0, 'eta0': 0.015832720881254335}, mean: -2422.18225, std: 107.31871, params: {'penalty': 'l2', 'alpha': 10.0, 'eta0': 0.015832720881254335}, mean: -2424.66656, std: 106.05985, params: {'penalty': 'elasticnet', 'alpha': 10.0, 'eta0': 0.015832720881254335}, mean: -2437.00702, std: 109.79404, params: {'penalty': 'l1', 'alpha': 10.0, 'eta0': 0.031582350167557775}, mean: -2423.55300, std: 107.34644, params: {'penalty': 'l2', 'alpha': 10.0, 'eta0': 0.031582350167557775}, mean: -2427.22286, std: 108.70078, params: {'penalty': 'elasticnet', 'alpha': 10.0, 'eta0': 0.031582350167557775}, mean: -2437.35657, std: 112.27430, params: {'penalty': 'l1', 'alpha': 10.0, 'eta0': 0.062998953217649006}, mean: -2423.99947, std: 105.25504, params: {'penalty': 'l2', 'alpha': 10.0, 'eta0': 0.062998953217649006}, mean: -2428.10822, std: 104.99247, params: {'penalty': 'elasticnet', 'alpha': 10.0, 'eta0': 0.062998953217649006}, mean: -2433.57458, std: 107.51416, params: {'penalty': 'l1', 'alpha': 10.0, 'eta0': 0.12566728205668667}, mean: -2455.99451, std: 111.88226, params: {'penalty': 'l2', 'alpha': 10.0, 'eta0': 0.12566728205668667}, mean: -2439.67985, std: 106.97239, params: {'penalty': 'elasticnet', 'alpha': 10.0, 'eta0': 0.12566728205668667}, mean: -2437.09511, std: 107.67020, params: {'penalty': 'l1', 'alpha': 10.0, 'eta0': 0.25067505050370709}, mean: -2436.80610, std: 101.95511, params: {'penalty': 'l2', 'alpha': 10.0, 'eta0': 0.25067505050370709}, mean: -2458.32321, std: 99.96918, params: {'penalty': 'elasticnet', 'alpha': 10.0, 'eta0': 0.25067505050370709}, mean: -2485.44027, std: 188.72887, params: {'penalty': 'l1', 'alpha': 10.0, 'eta0': 0.50003453497697847}, mean: -2433.21485, std: 99.22604, params: {'penalty': 'l2', 'alpha': 10.0, 'eta0': 0.50003453497697847}, mean: -2464.79259, std: 97.63982, params: {'penalty': 'elasticnet', 'alpha': 10.0, 'eta0': 0.50003453497697847}, mean: -2430.90258, std: 108.21660, params: {'penalty': 'l1', 'alpha': 100.0, 'eta0': 0.001}, mean: -2429.86451, std: 108.04338, params: {'penalty': 'l2', 'alpha': 100.0, 'eta0': 0.001}, mean: -2430.87723, std: 108.17516, params: {'penalty': 'elasticnet', 'alpha': 100.0, 'eta0': 0.001}, mean: -2430.85351, std: 108.13817, params: {'penalty': 'l1', 'alpha': 100.0, 'eta0': 0.001994751906790116}, mean: -2430.01787, std: 108.19218, params: {'penalty': 'l2', 'alpha': 100.0, 'eta0': 0.001994751906790116}, mean: -2430.85921, std: 108.15896, params: {'penalty': 'elasticnet', 'alpha': 100.0, 'eta0': 0.001994751906790116}, mean: -2431.03931, std: 108.02336, params: {'penalty': 'l1', 'alpha': 100.0, 'eta0': 0.0039790351696428038}, mean: -2429.94250, std: 107.94613, params: {'penalty': 'l2', 'alpha': 100.0, 'eta0': 0.0039790351696428038}, mean: -2430.93087, std: 108.09707, params: {'penalty': 'elasticnet', 'alpha': 100.0, 'eta0': 0.0039790351696428038}, mean: -2431.03104, std: 108.32304, params: {'penalty': 'l1', 'alpha': 100.0, 'eta0': 0.0079371879918299151}, mean: -2430.61753, std: 108.69148, params: {'penalty': 'l2', 'alpha': 100.0, 'eta0': 0.0079371879918299151}, mean: -2430.99149, std: 108.01844, params: {'penalty': 'elasticnet', 'alpha': 100.0, 'eta0': 0.0079371879918299151}, mean: -2431.93121, std: 107.08815, params: {'penalty': 'l1', 'alpha': 100.0, 'eta0': 0.015832720881254335}, mean: -2430.28021, std: 107.55873, params: {'penalty': 'l2', 'alpha': 100.0, 'eta0': 0.015832720881254335}, mean: -2431.14284, std: 108.15545, params: {'penalty': 'elasticnet', 'alpha': 100.0, 'eta0': 0.015832720881254335}, mean: -2431.34456, std: 108.53753, params: {'penalty': 'l1', 'alpha': 100.0, 'eta0': 0.031582350167557775}, mean: -2432.60241, std: 107.13653, params: {'penalty': 'l2', 'alpha': 100.0, 'eta0': 0.031582350167557775}, mean: -2431.70609, std: 109.06176, params: {'penalty': 'elasticnet', 'alpha': 100.0, 'eta0': 0.031582350167557775}, mean: -2433.36219, std: 107.45721, params: {'penalty': 'l1', 'alpha': 100.0, 'eta0': 0.062998953217649006}, mean: -2434.87431, std: 109.26950, params: {'penalty': 'l2', 'alpha': 100.0, 'eta0': 0.062998953217649006}, mean: -2431.85029, std: 107.51613, params: {'penalty': 'elasticnet', 'alpha': 100.0, 'eta0': 0.062998953217649006}, mean: -2439.37683, std: 112.50413, params: {'penalty': 'l1', 'alpha': 100.0, 'eta0': 0.12566728205668667}, mean: -2436.67661, std: 106.04807, params: {'penalty': 'l2', 'alpha': 100.0, 'eta0': 0.12566728205668667}, mean: -2437.38914, std: 108.65876, params: {'penalty': 'elasticnet', 'alpha': 100.0, 'eta0': 0.12566728205668667}, mean: -2433.58725, std: 106.35733, params: {'penalty': 'l1', 'alpha': 100.0, 'eta0': 0.25067505050370709}, mean: -2449.32368, std: 95.23049, params: {'penalty': 'l2', 'alpha': 100.0, 'eta0': 0.25067505050370709}, mean: -2436.18431, std: 107.36207, params: {'penalty': 'elasticnet', 'alpha': 100.0, 'eta0': 0.25067505050370709}, mean: -2512.85325, std: 149.52199, params: {'penalty': 'l1', 'alpha': 100.0, 'eta0': 0.50003453497697847}, mean: -2462.43470, std: 101.37298, params: {'penalty': 'l2', 'alpha': 100.0, 'eta0': 0.50003453497697847}, mean: -2468.92849, std: 117.42144, params: {'penalty': 'elasticnet', 'alpha': 100.0, 'eta0': 0.50003453497697847}, mean: -2430.90822, std: 108.18873, params: {'penalty': 'l1', 'alpha': 1000.0, 'eta0': 0.001}, mean: -2430.86463, std: 108.25516, params: {'penalty': 'l2', 'alpha': 1000.0, 'eta0': 0.001}, mean: -2430.91265, std: 108.23477, params: {'penalty': 'elasticnet', 'alpha': 1000.0, 'eta0': 0.001}, mean: -2430.94354, std: 108.13264, params: {'penalty': 'l1', 'alpha': 1000.0, 'eta0': 0.001994751906790116}, mean: -2430.80819, std: 108.18019, params: {'penalty': 'l2', 'alpha': 1000.0, 'eta0': 0.001994751906790116}, mean: -2431.01601, std: 108.24631, params: {'penalty': 'elasticnet', 'alpha': 1000.0, 'eta0': 0.001994751906790116}, mean: -2430.84535, std: 108.09278, params: {'penalty': 'l1', 'alpha': 1000.0, 'eta0': 0.0039790351696428038}, mean: -2430.77847, std: 108.01533, params: {'penalty': 'l2', 'alpha': 1000.0, 'eta0': 0.0039790351696428038}, mean: -2430.91601, std: 108.00773, params: {'penalty': 'elasticnet', 'alpha': 1000.0, 'eta0': 0.0039790351696428038}, mean: -2431.15354, std: 108.18250, params: {'penalty': 'l1', 'alpha': 1000.0, 'eta0': 0.0079371879918299151}, mean: -2430.82594, std: 107.89237, params: {'penalty': 'l2', 'alpha': 1000.0, 'eta0': 0.0079371879918299151}, mean: -2431.35327, std: 107.55610, params: {'penalty': 'elasticnet', 'alpha': 1000.0, 'eta0': 0.0079371879918299151}, mean: -2431.28784, std: 107.44264, params: {'penalty': 'l1', 'alpha': 1000.0, 'eta0': 0.015832720881254335}, mean: -2433.19481, std: 108.87235, params: {'penalty': 'l2', 'alpha': 1000.0, 'eta0': 0.015832720881254335}, mean: -2431.47067, std: 107.96918, params: {'penalty': 'elasticnet', 'alpha': 1000.0, 'eta0': 0.015832720881254335}, mean: -2436.97759, std: 103.59918, params: {'penalty': 'l1', 'alpha': 1000.0, 'eta0': 0.031582350167557775}, mean: -2432.51550, std: 108.64252, params: {'penalty': 'l2', 'alpha': 1000.0, 'eta0': 0.031582350167557775}, mean: -2432.80209, std: 107.64046, params: {'penalty': 'elasticnet', 'alpha': 1000.0, 'eta0': 0.031582350167557775}, mean: -2438.23062, std: 113.68836, params: {'penalty': 'l1', 'alpha': 1000.0, 'eta0': 0.062998953217649006}, mean: -2437.00150, std: 106.15734, params: {'penalty': 'l2', 'alpha': 1000.0, 'eta0': 0.062998953217649006}, mean: -2434.23996, std: 107.12792, params: {'penalty': 'elasticnet', 'alpha': 1000.0, 'eta0': 0.062998953217649006}, mean: -2440.89076, std: 109.10919, params: {'penalty': 'l1', 'alpha': 1000.0, 'eta0': 0.12566728205668667}, mean: -2443.27063, std: 109.36338, params: {'penalty': 'l2', 'alpha': 1000.0, 'eta0': 0.12566728205668667}, mean: -2441.14606, std: 108.48850, params: {'penalty': 'elasticnet', 'alpha': 1000.0, 'eta0': 0.12566728205668667}, mean: -2442.06462, std: 109.03967, params: {'penalty': 'l1', 'alpha': 1000.0, 'eta0': 0.25067505050370709}, mean: -2438.16372, std: 103.89540, params: {'penalty': 'l2', 'alpha': 1000.0, 'eta0': 0.25067505050370709}, mean: -2447.15656, std: 103.77791, params: {'penalty': 'elasticnet', 'alpha': 1000.0, 'eta0': 0.25067505050370709}, mean: -2480.58309, std: 121.71524, params: {'penalty': 'l1', 'alpha': 1000.0, 'eta0': 0.50003453497697847}, mean: -2488.15674, std: 167.94868, params: {'penalty': 'l2', 'alpha': 1000.0, 'eta0': 0.50003453497697847}, mean: -2473.78072, std: 130.55561, params: {'penalty': 'elasticnet', 'alpha': 1000.0, 'eta0': 0.50003453497697847}, mean: -2430.91716, std: 108.24269, params: {'penalty': 'l1', 'alpha': 10000.0, 'eta0': 0.001}, mean: -2430.90122, std: 108.23116, params: {'penalty': 'l2', 'alpha': 10000.0, 'eta0': 0.001}, mean: -2430.89987, std: 108.21020, params: {'penalty': 'elasticnet', 'alpha': 10000.0, 'eta0': 0.001}, mean: -2430.86290, std: 108.10108, params: {'penalty': 'l1', 'alpha': 10000.0, 'eta0': 0.001994751906790116}, mean: -2430.85467, std: 108.07769, params: {'penalty': 'l2', 'alpha': 10000.0, 'eta0': 0.001994751906790116}, mean: -2430.89366, std: 108.11390, params: {'penalty': 'elasticnet', 'alpha': 10000.0, 'eta0': 0.001994751906790116}, mean: -2430.88876, std: 108.09489, params: {'penalty': 'l1', 'alpha': 10000.0, 'eta0': 0.0039790351696428038}, mean: -2430.90529, std: 108.04748, params: {'penalty': 'l2', 'alpha': 10000.0, 'eta0': 0.0039790351696428038}, mean: -2430.95518, std: 107.94457, params: {'penalty': 'elasticnet', 'alpha': 10000.0, 'eta0': 0.0039790351696428038}, mean: -2431.41978, std: 107.85157, params: {'penalty': 'l1', 'alpha': 10000.0, 'eta0': 0.0079371879918299151}, mean: -2431.45699, std: 108.27089, params: {'penalty': 'l2', 'alpha': 10000.0, 'eta0': 0.0079371879918299151}, mean: -2431.47546, std: 107.92190, params: {'penalty': 'elasticnet', 'alpha': 10000.0, 'eta0': 0.0079371879918299151}, mean: -2431.75853, std: 109.03467, params: {'penalty': 'l1', 'alpha': 10000.0, 'eta0': 0.015832720881254335}, mean: -2431.01395, std: 108.01741, params: {'penalty': 'l2', 'alpha': 10000.0, 'eta0': 0.015832720881254335}, mean: -2431.39198, std: 108.43022, params: {'penalty': 'elasticnet', 'alpha': 10000.0, 'eta0': 0.015832720881254335}, mean: -2432.37224, std: 108.23136, params: {'penalty': 'l1', 'alpha': 10000.0, 'eta0': 0.031582350167557775}, mean: -2433.59752, std: 109.43085, params: {'penalty': 'l2', 'alpha': 10000.0, 'eta0': 0.031582350167557775}, mean: -2431.85403, std: 108.23006, params: {'penalty': 'elasticnet', 'alpha': 10000.0, 'eta0': 0.031582350167557775}, mean: -2432.60415, std: 106.26958, params: {'penalty': 'l1', 'alpha': 10000.0, 'eta0': 0.062998953217649006}, mean: -2433.35081, std: 107.52064, params: {'penalty': 'l2', 'alpha': 10000.0, 'eta0': 0.062998953217649006}, mean: -2438.00268, std: 106.74427, params: {'penalty': 'elasticnet', 'alpha': 10000.0, 'eta0': 0.062998953217649006}, mean: -2435.43841, std: 108.96075, params: {'penalty': 'l1', 'alpha': 10000.0, 'eta0': 0.12566728205668667}, mean: -2450.39366, std: 112.47169, params: {'penalty': 'l2', 'alpha': 10000.0, 'eta0': 0.12566728205668667}, mean: -2439.70118, std: 101.05094, params: {'penalty': 'elasticnet', 'alpha': 10000.0, 'eta0': 0.12566728205668667}, mean: -2456.80883, std: 121.64569, params: {'penalty': 'l1', 'alpha': 10000.0, 'eta0': 0.25067505050370709}, mean: -2451.15145, std: 107.27175, params: {'penalty': 'l2', 'alpha': 10000.0, 'eta0': 0.25067505050370709}, mean: -2458.04877, std: 129.70272, params: {'penalty': 'elasticnet', 'alpha': 10000.0, 'eta0': 0.25067505050370709}, mean: -2439.66960, std: 111.36002, params: {'penalty': 'l1', 'alpha': 10000.0, 'eta0': 0.50003453497697847}, mean: -2505.31891, std: 63.61078, params: {'penalty': 'l2', 'alpha': 10000.0, 'eta0': 0.50003453497697847}, mean: -2490.42680, std: 136.18591, params: {'penalty': 'elasticnet', 'alpha': 10000.0, 'eta0': 0.50003453497697847}, mean: -2430.90736, std: 108.19705, params: {'penalty': 'l1', 'alpha': 100000.0, 'eta0': 0.001}, mean: -2430.91701, std: 108.26706, params: {'penalty': 'l2', 'alpha': 100000.0, 'eta0': 0.001}, mean: -2430.87662, std: 108.17166, params: {'penalty': 'elasticnet', 'alpha': 100000.0, 'eta0': 0.001}, mean: -2430.90285, std: 108.14391, params: {'penalty': 'l1', 'alpha': 100000.0, 'eta0': 0.001994751906790116}, mean: -2430.92729, std: 108.26614, params: {'penalty': 'l2', 'alpha': 100000.0, 'eta0': 0.001994751906790116}, mean: -2430.95541, std: 108.16947, params: {'penalty': 'elasticnet', 'alpha': 100000.0, 'eta0': 0.001994751906790116}, mean: -2430.89567, std: 108.09809, params: {'penalty': 'l1', 'alpha': 100000.0, 'eta0': 0.0039790351696428038}, mean: -2431.03674, std: 108.33374, params: {'penalty': 'l2', 'alpha': 100000.0, 'eta0': 0.0039790351696428038}, mean: -2431.13230, std: 108.25123, params: {'penalty': 'elasticnet', 'alpha': 100000.0, 'eta0': 0.0039790351696428038}, mean: -2431.00993, std: 108.04965, params: {'penalty': 'l1', 'alpha': 100000.0, 'eta0': 0.0079371879918299151}, mean: -2430.97501, std: 107.91692, params: {'penalty': 'l2', 'alpha': 100000.0, 'eta0': 0.0079371879918299151}, mean: -2432.30753, std: 107.48410, params: {'penalty': 'elasticnet', 'alpha': 100000.0, 'eta0': 0.0079371879918299151}, mean: -2431.62417, std: 108.04281, params: {'penalty': 'l1', 'alpha': 100000.0, 'eta0': 0.015832720881254335}, mean: -2435.40337, std: 108.09222, params: {'penalty': 'l2', 'alpha': 100000.0, 'eta0': 0.015832720881254335}, mean: -2432.53267, std: 107.60056, params: {'penalty': 'elasticnet', 'alpha': 100000.0, 'eta0': 0.015832720881254335}, mean: -2432.09979, std: 107.53670, params: {'penalty': 'l1', 'alpha': 100000.0, 'eta0': 0.031582350167557775}, mean: -2433.92049, std: 109.44521, params: {'penalty': 'l2', 'alpha': 100000.0, 'eta0': 0.031582350167557775}, mean: -2434.44635, std: 105.40805, params: {'penalty': 'elasticnet', 'alpha': 100000.0, 'eta0': 0.031582350167557775}, mean: -2437.94631, std: 105.66890, params: {'penalty': 'l1', 'alpha': 100000.0, 'eta0': 0.062998953217649006}, mean: -2435.52849, std: 109.20709, params: {'penalty': 'l2', 'alpha': 100000.0, 'eta0': 0.062998953217649006}, mean: -2442.09533, std: 98.84105, params: {'penalty': 'elasticnet', 'alpha': 100000.0, 'eta0': 0.062998953217649006}, mean: -2436.63236, std: 107.73926, params: {'penalty': 'l1', 'alpha': 100000.0, 'eta0': 0.12566728205668667}, mean: -2435.52362, std: 104.94272, params: {'penalty': 'l2', 'alpha': 100000.0, 'eta0': 0.12566728205668667}, mean: -2445.68574, std: 108.17252, params: {'penalty': 'elasticnet', 'alpha': 100000.0, 'eta0': 0.12566728205668667}, mean: -2442.58311, std: 105.74350, params: {'penalty': 'l1', 'alpha': 100000.0, 'eta0': 0.25067505050370709}, mean: -2443.17785, std: 105.34840, params: {'penalty': 'l2', 'alpha': 100000.0, 'eta0': 0.25067505050370709}, mean: -2458.65234, std: 108.59726, params: {'penalty': 'elasticnet', 'alpha': 100000.0, 'eta0': 0.25067505050370709}, mean: -2460.42414, std: 97.60802, params: {'penalty': 'l1', 'alpha': 100000.0, 'eta0': 0.50003453497697847}, mean: -2484.71578, std: 196.99461, params: {'penalty': 'l2', 'alpha': 100000.0, 'eta0': 0.50003453497697847}, mean: -2474.89424, std: 111.82394, params: {'penalty': 'elasticnet', 'alpha': 100000.0, 'eta0': 0.50003453497697847}, mean: -2430.91228, std: 108.21244, params: {'penalty': 'l1', 'alpha': 1000000.0, 'eta0': 0.001}, mean: -2430.89315, std: 108.16141, params: {'penalty': 'l2', 'alpha': 1000000.0, 'eta0': 0.001}, mean: -2430.90385, std: 108.21278, params: {'penalty': 'elasticnet', 'alpha': 1000000.0, 'eta0': 0.001}, mean: -2430.93811, std: 108.20988, params: {'penalty': 'l1', 'alpha': 1000000.0, 'eta0': 0.001994751906790116}, mean: -2430.88380, std: 108.17056, params: {'penalty': 'l2', 'alpha': 1000000.0, 'eta0': 0.001994751906790116}, mean: -2430.87340, std: 108.16700, params: {'penalty': 'elasticnet', 'alpha': 1000000.0, 'eta0': 0.001994751906790116}, mean: -2430.96819, std: 108.08338, params: {'penalty': 'l1', 'alpha': 1000000.0, 'eta0': 0.0039790351696428038}, mean: -2430.88742, std: 107.97761, params: {'penalty': 'l2', 'alpha': 1000000.0, 'eta0': 0.0039790351696428038}, mean: -2431.02978, std: 108.26333, params: {'penalty': 'elasticnet', 'alpha': 1000000.0, 'eta0': 0.0039790351696428038}, mean: -2431.09096, std: 108.16534, params: {'penalty': 'l1', 'alpha': 1000000.0, 'eta0': 0.0079371879918299151}, mean: -2430.74239, std: 107.92886, params: {'penalty': 'l2', 'alpha': 1000000.0, 'eta0': 0.0079371879918299151}, mean: -2431.18622, std: 107.99564, params: {'penalty': 'elasticnet', 'alpha': 1000000.0, 'eta0': 0.0079371879918299151}, mean: -2431.85044, std: 107.74434, params: {'penalty': 'l1', 'alpha': 1000000.0, 'eta0': 0.015832720881254335}, mean: -2432.11887, std: 107.35323, params: {'penalty': 'l2', 'alpha': 1000000.0, 'eta0': 0.015832720881254335}, mean: -2430.92271, std: 108.05047, params: {'penalty': 'elasticnet', 'alpha': 1000000.0, 'eta0': 0.015832720881254335}, mean: -2431.74520, std: 108.12000, params: {'penalty': 'l1', 'alpha': 1000000.0, 'eta0': 0.031582350167557775}, mean: -2432.81630, std: 106.65708, params: {'penalty': 'l2', 'alpha': 1000000.0, 'eta0': 0.031582350167557775}, mean: -2436.78699, std: 104.47729, params: {'penalty': 'elasticnet', 'alpha': 1000000.0, 'eta0': 0.031582350167557775}, mean: -2438.63491, std: 115.19989, params: {'penalty': 'l1', 'alpha': 1000000.0, 'eta0': 0.062998953217649006}, mean: -2444.66088, std: 114.12400, params: {'penalty': 'l2', 'alpha': 1000000.0, 'eta0': 0.062998953217649006}, mean: -2433.76853, std: 108.99243, params: {'penalty': 'elasticnet', 'alpha': 1000000.0, 'eta0': 0.062998953217649006}, mean: -2434.64289, std: 107.93008, params: {'penalty': 'l1', 'alpha': 1000000.0, 'eta0': 0.12566728205668667}, mean: -2436.36534, std: 107.56504, params: {'penalty': 'l2', 'alpha': 1000000.0, 'eta0': 0.12566728205668667}, mean: -2438.38024, std: 109.44211, params: {'penalty': 'elasticnet', 'alpha': 1000000.0, 'eta0': 0.12566728205668667}, mean: -2452.94316, std: 113.35104, params: {'penalty': 'l1', 'alpha': 1000000.0, 'eta0': 0.25067505050370709}, mean: -2466.49216, std: 92.26395, params: {'penalty': 'l2', 'alpha': 1000000.0, 'eta0': 0.25067505050370709}, mean: -2437.69677, std: 110.95030, params: {'penalty': 'elasticnet', 'alpha': 1000000.0, 'eta0': 0.25067505050370709}, mean: -2486.26904, std: 86.66403, params: {'penalty': 'l1', 'alpha': 1000000.0, 'eta0': 0.50003453497697847}, mean: -2448.58012, std: 119.33906, params: {'penalty': 'l2', 'alpha': 1000000.0, 'eta0': 0.50003453497697847}, mean: -2437.12327, std: 105.87294, params: {'penalty': 'elasticnet', 'alpha': 1000000.0, 'eta0': 0.50003453497697847}, mean: -2430.90353, std: 108.23104, params: {'penalty': 'l1', 'alpha': 10000000.0, 'eta0': 0.001}, mean: -2430.86069, std: 108.19159, params: {'penalty': 'l2', 'alpha': 10000000.0, 'eta0': 0.001}, mean: -2430.90853, std: 108.24399, params: {'penalty': 'elasticnet', 'alpha': 10000000.0, 'eta0': 0.001}, mean: -2430.83637, std: 108.09267, params: {'penalty': 'l1', 'alpha': 10000000.0, 'eta0': 0.001994751906790116}, mean: -2430.90039, std: 108.21356, params: {'penalty': 'l2', 'alpha': 10000000.0, 'eta0': 0.001994751906790116}, mean: -2430.85410, std: 108.04572, params: {'penalty': 'elasticnet', 'alpha': 10000000.0, 'eta0': 0.001994751906790116}, mean: -2431.04146, std: 108.31061, params: {'penalty': 'l1', 'alpha': 10000000.0, 'eta0': 0.0039790351696428038}, mean: -2430.92212, std: 108.22689, params: {'penalty': 'l2', 'alpha': 10000000.0, 'eta0': 0.0039790351696428038}, mean: -2431.09347, std: 108.49859, params: {'penalty': 'elasticnet', 'alpha': 10000000.0, 'eta0': 0.0039790351696428038}, mean: -2431.77966, std: 108.22386, params: {'penalty': 'l1', 'alpha': 10000000.0, 'eta0': 0.0079371879918299151}, mean: -2431.63450, std: 108.51038, params: {'penalty': 'l2', 'alpha': 10000000.0, 'eta0': 0.0079371879918299151}, mean: -2431.53236, std: 108.20473, params: {'penalty': 'elasticnet', 'alpha': 10000000.0, 'eta0': 0.0079371879918299151}, mean: -2432.29467, std: 108.12319, params: {'penalty': 'l1', 'alpha': 10000000.0, 'eta0': 0.015832720881254335}, mean: -2432.69207, std: 108.47141, params: {'penalty': 'l2', 'alpha': 10000000.0, 'eta0': 0.015832720881254335}, mean: -2431.95625, std: 108.30034, params: {'penalty': 'elasticnet', 'alpha': 10000000.0, 'eta0': 0.015832720881254335}, mean: -2436.03902, std: 108.89310, params: {'penalty': 'l1', 'alpha': 10000000.0, 'eta0': 0.031582350167557775}, mean: -2431.58842, std: 108.87712, params: {'penalty': 'l2', 'alpha': 10000000.0, 'eta0': 0.031582350167557775}, mean: -2432.27286, std: 107.33498, params: {'penalty': 'elasticnet', 'alpha': 10000000.0, 'eta0': 0.031582350167557775}, mean: -2433.00368, std: 108.13511, params: {'penalty': 'l1', 'alpha': 10000000.0, 'eta0': 0.062998953217649006}, mean: -2430.51334, std: 106.14147, params: {'penalty': 'l2', 'alpha': 10000000.0, 'eta0': 0.062998953217649006}, mean: -2435.15405, std: 108.81886, params: {'penalty': 'elasticnet', 'alpha': 10000000.0, 'eta0': 0.062998953217649006}, mean: -2436.00666, std: 106.30867, params: {'penalty': 'l1', 'alpha': 10000000.0, 'eta0': 0.12566728205668667}, mean: -2433.47686, std: 109.08225, params: {'penalty': 'l2', 'alpha': 10000000.0, 'eta0': 0.12566728205668667}, mean: -2440.74494, std: 111.55046, params: {'penalty': 'elasticnet', 'alpha': 10000000.0, 'eta0': 0.12566728205668667}, mean: -2433.66486, std: 106.85939, params: {'penalty': 'l1', 'alpha': 10000000.0, 'eta0': 0.25067505050370709}, mean: -2461.42969, std: 141.10913, params: {'penalty': 'l2', 'alpha': 10000000.0, 'eta0': 0.25067505050370709}, mean: -2445.70099, std: 107.41862, params: {'penalty': 'elasticnet', 'alpha': 10000000.0, 'eta0': 0.25067505050370709}, mean: -2444.30598, std: 116.51466, params: {'penalty': 'l1', 'alpha': 10000000.0, 'eta0': 0.50003453497697847}, mean: -2546.61361, std: 161.05856, params: {'penalty': 'l2', 'alpha': 10000000.0, 'eta0': 0.50003453497697847}, mean: -2567.81762, std: 219.85598, params: {'penalty': 'elasticnet', 'alpha': 10000000.0, 'eta0': 0.50003453497697847}, mean: -2430.88909, std: 108.18251, params: {'penalty': 'l1', 'alpha': 100000000.0, 'eta0': 0.001}, mean: -2430.84021, std: 108.16788, params: {'penalty': 'l2', 'alpha': 100000000.0, 'eta0': 0.001}, mean: -2430.89679, std: 108.22221, params: {'penalty': 'elasticnet', 'alpha': 100000000.0, 'eta0': 0.001}, mean: -2430.85448, std: 108.14074, params: {'penalty': 'l1', 'alpha': 100000000.0, 'eta0': 0.001994751906790116}, mean: -2430.93515, std: 108.24488, params: {'penalty': 'l2', 'alpha': 100000000.0, 'eta0': 0.001994751906790116}, mean: -2430.86576, std: 108.08635, params: {'penalty': 'elasticnet', 'alpha': 100000000.0, 'eta0': 0.001994751906790116}, mean: -2431.23631, std: 107.93746, params: {'penalty': 'l1', 'alpha': 100000000.0, 'eta0': 0.0039790351696428038}, mean: -2431.01746, std: 107.94246, params: {'penalty': 'l2', 'alpha': 100000000.0, 'eta0': 0.0039790351696428038}, mean: -2430.86985, std: 108.02133, params: {'penalty': 'elasticnet', 'alpha': 100000000.0, 'eta0': 0.0039790351696428038}, mean: -2430.87507, std: 108.04181, params: {'penalty': 'l1', 'alpha': 100000000.0, 'eta0': 0.0079371879918299151}, mean: -2431.26786, std: 108.12566, params: {'penalty': 'l2', 'alpha': 100000000.0, 'eta0': 0.0079371879918299151}, mean: -2431.67807, std: 108.39895, params: {'penalty': 'elasticnet', 'alpha': 100000000.0, 'eta0': 0.0079371879918299151}, mean: -2431.37607, std: 107.83433, params: {'penalty': 'l1', 'alpha': 100000000.0, 'eta0': 0.015832720881254335}, mean: -2431.57792, std: 107.56646, params: {'penalty': 'l2', 'alpha': 100000000.0, 'eta0': 0.015832720881254335}, mean: -2432.89308, std: 108.53208, params: {'penalty': 'elasticnet', 'alpha': 100000000.0, 'eta0': 0.015832720881254335}, mean: -2431.97925, std: 108.51028, params: {'penalty': 'l1', 'alpha': 100000000.0, 'eta0': 0.031582350167557775}, mean: -2433.50787, std: 108.89804, params: {'penalty': 'l2', 'alpha': 100000000.0, 'eta0': 0.031582350167557775}, mean: -2432.11365, std: 106.98239, params: {'penalty': 'elasticnet', 'alpha': 100000000.0, 'eta0': 0.031582350167557775}, mean: -2433.74886, std: 109.26370, params: {'penalty': 'l1', 'alpha': 100000000.0, 'eta0': 0.062998953217649006}, mean: -2433.43168, std: 108.37758, params: {'penalty': 'l2', 'alpha': 100000000.0, 'eta0': 0.062998953217649006}, mean: -2431.25219, std: 108.66512, params: {'penalty': 'elasticnet', 'alpha': 100000000.0, 'eta0': 0.062998953217649006}, mean: -2444.78144, std: 104.07752, params: {'penalty': 'l1', 'alpha': 100000000.0, 'eta0': 0.12566728205668667}, mean: -2436.35375, std: 112.19078, params: {'penalty': 'l2', 'alpha': 100000000.0, 'eta0': 0.12566728205668667}, mean: -2437.91209, std: 114.41858, params: {'penalty': 'elasticnet', 'alpha': 100000000.0, 'eta0': 0.12566728205668667}, mean: -2441.81476, std: 111.09089, params: {'penalty': 'l1', 'alpha': 100000000.0, 'eta0': 0.25067505050370709}, mean: -2445.15300, std: 111.61370, params: {'penalty': 'l2', 'alpha': 100000000.0, 'eta0': 0.25067505050370709}, mean: -2440.32535, std: 110.89589, params: {'penalty': 'elasticnet', 'alpha': 100000000.0, 'eta0': 0.25067505050370709}, mean: -2468.50581, std: 79.39409, params: {'penalty': 'l1', 'alpha': 100000000.0, 'eta0': 0.50003453497697847}, mean: -2451.88876, std: 120.59501, params: {'penalty': 'l2', 'alpha': 100000000.0, 'eta0': 0.50003453497697847}, mean: -2455.75769, std: 107.81412, params: {'penalty': 'elasticnet', 'alpha': 100000000.0, 'eta0': 0.50003453497697847}, mean: -2430.89927, std: 108.20591, params: {'penalty': 'l1', 'alpha': 1000000000.0, 'eta0': 0.001}, mean: -2430.89282, std: 108.21172, params: {'penalty': 'l2', 'alpha': 1000000000.0, 'eta0': 0.001}, mean: -2430.89376, std: 108.20648, params: {'penalty': 'elasticnet', 'alpha': 1000000000.0, 'eta0': 0.001}, mean: -2430.86182, std: 108.10707, params: {'penalty': 'l1', 'alpha': 1000000000.0, 'eta0': 0.001994751906790116}, mean: -2430.99512, std: 108.30545, params: {'penalty': 'l2', 'alpha': 1000000000.0, 'eta0': 0.001994751906790116}, mean: -2430.93861, std: 108.20354, params: {'penalty': 'elasticnet', 'alpha': 1000000000.0, 'eta0': 0.001994751906790116}, mean: -2430.91631, std: 108.02634, params: {'penalty': 'l1', 'alpha': 1000000000.0, 'eta0': 0.0039790351696428038}, mean: -2430.85018, std: 108.54360, params: {'penalty': 'l2', 'alpha': 1000000000.0, 'eta0': 0.0039790351696428038}, mean: -2430.90659, std: 108.10590, params: {'penalty': 'elasticnet', 'alpha': 1000000000.0, 'eta0': 0.0039790351696428038}, mean: -2430.91998, std: 108.09986, params: {'penalty': 'l1', 'alpha': 1000000000.0, 'eta0': 0.0079371879918299151}, mean: -2431.71238, std: 108.02073, params: {'penalty': 'l2', 'alpha': 1000000000.0, 'eta0': 0.0079371879918299151}, mean: -2431.22750, std: 108.35466, params: {'penalty': 'elasticnet', 'alpha': 1000000000.0, 'eta0': 0.0079371879918299151}, mean: -2432.42320, std: 108.07682, params: {'penalty': 'l1', 'alpha': 1000000000.0, 'eta0': 0.015832720881254335}, mean: -2430.89795, std: 108.99450, params: {'penalty': 'l2', 'alpha': 1000000000.0, 'eta0': 0.015832720881254335}, mean: -2431.70894, std: 107.46073, params: {'penalty': 'elasticnet', 'alpha': 1000000000.0, 'eta0': 0.015832720881254335}, mean: -2431.38180, std: 107.80363, params: {'penalty': 'l1', 'alpha': 1000000000.0, 'eta0': 0.031582350167557775}, mean: -2434.39566, std: 107.97624, params: {'penalty': 'l2', 'alpha': 1000000000.0, 'eta0': 0.031582350167557775}, mean: -2432.58098, std: 108.67804, params: {'penalty': 'elasticnet', 'alpha': 1000000000.0, 'eta0': 0.031582350167557775}, mean: -2433.89076, std: 108.88480, params: {'penalty': 'l1', 'alpha': 1000000000.0, 'eta0': 0.062998953217649006}, mean: -2435.19189, std: 106.20514, params: {'penalty': 'l2', 'alpha': 1000000000.0, 'eta0': 0.062998953217649006}, mean: -2433.11034, std: 107.86788, params: {'penalty': 'elasticnet', 'alpha': 1000000000.0, 'eta0': 0.062998953217649006}, mean: -2434.25043, std: 109.28797, params: {'penalty': 'l1', 'alpha': 1000000000.0, 'eta0': 0.12566728205668667}, mean: -2442.98695, std: 106.10617, params: {'penalty': 'l2', 'alpha': 1000000000.0, 'eta0': 0.12566728205668667}, mean: -2435.66523, std: 105.49718, params: {'penalty': 'elasticnet', 'alpha': 1000000000.0, 'eta0': 0.12566728205668667}, mean: -2440.84158, std: 105.89602, params: {'penalty': 'l1', 'alpha': 1000000000.0, 'eta0': 0.25067505050370709}, mean: -2449.50508, std: 104.81282, params: {'penalty': 'l2', 'alpha': 1000000000.0, 'eta0': 0.25067505050370709}, mean: -2443.64398, std: 109.59022, params: {'penalty': 'elasticnet', 'alpha': 1000000000.0, 'eta0': 0.25067505050370709}, mean: -2436.43512, std: 108.80485, params: {'penalty': 'l1', 'alpha': 1000000000.0, 'eta0': 0.50003453497697847}, mean: -2515.30109, std: 128.15741, params: {'penalty': 'l2', 'alpha': 1000000000.0, 'eta0': 0.50003453497697847}, mean: -2465.41301, std: 103.20449, params: {'penalty': 'elasticnet', 'alpha': 1000000000.0, 'eta0': 0.50003453497697847}, mean: -2430.90570, std: 108.20706, params: {'penalty': 'l1', 'alpha': 10000000000.0, 'eta0': 0.001}, mean: -2430.89890, std: 108.23254, params: {'penalty': 'l2', 'alpha': 10000000000.0, 'eta0': 0.001}, mean: -2430.89752, std: 108.21442, params: {'penalty': 'elasticnet', 'alpha': 10000000000.0, 'eta0': 0.001}, mean: -2430.89380, std: 108.12289, params: {'penalty': 'l1', 'alpha': 10000000000.0, 'eta0': 0.001994751906790116}, mean: -2430.83768, std: 108.11705, params: {'penalty': 'l2', 'alpha': 10000000000.0, 'eta0': 0.001994751906790116}, mean: -2430.85142, std: 108.09003, params: {'penalty': 'elasticnet', 'alpha': 10000000000.0, 'eta0': 0.001994751906790116}, mean: -2431.14951, std: 108.55137, params: {'penalty': 'l1', 'alpha': 10000000000.0, 'eta0': 0.0039790351696428038}, mean: -2431.09050, std: 108.20961, params: {'penalty': 'l2', 'alpha': 10000000000.0, 'eta0': 0.0039790351696428038}, mean: -2430.98731, std: 108.15847, params: {'penalty': 'elasticnet', 'alpha': 10000000000.0, 'eta0': 0.0039790351696428038}, mean: -2431.53094, std: 108.46890, params: {'penalty': 'l1', 'alpha': 10000000000.0, 'eta0': 0.0079371879918299151}, mean: -2431.60748, std: 108.08725, params: {'penalty': 'l2', 'alpha': 10000000000.0, 'eta0': 0.0079371879918299151}, mean: -2431.29355, std: 108.07945, params: {'penalty': 'elasticnet', 'alpha': 10000000000.0, 'eta0': 0.0079371879918299151}, mean: -2431.51933, std: 107.82136, params: {'penalty': 'l1', 'alpha': 10000000000.0, 'eta0': 0.015832720881254335}, mean: -2430.77835, std: 107.77668, params: {'penalty': 'l2', 'alpha': 10000000000.0, 'eta0': 0.015832720881254335}, mean: -2431.49897, std: 108.03624, params: {'penalty': 'elasticnet', 'alpha': 10000000000.0, 'eta0': 0.015832720881254335}, mean: -2431.33912, std: 108.02483, params: {'penalty': 'l1', 'alpha': 10000000000.0, 'eta0': 0.031582350167557775}, mean: -2435.37384, std: 108.62056, params: {'penalty': 'l2', 'alpha': 10000000000.0, 'eta0': 0.031582350167557775}, mean: -2431.93488, std: 107.73718, params: {'penalty': 'elasticnet', 'alpha': 10000000000.0, 'eta0': 0.031582350167557775}, mean: -2431.81427, std: 108.39925, params: {'penalty': 'l1', 'alpha': 10000000000.0, 'eta0': 0.062998953217649006}, mean: -2435.53198, std: 108.77084, params: {'penalty': 'l2', 'alpha': 10000000000.0, 'eta0': 0.062998953217649006}, mean: -2440.99669, std: 104.99950, params: {'penalty': 'elasticnet', 'alpha': 10000000000.0, 'eta0': 0.062998953217649006}, mean: -2437.65512, std: 106.91774, params: {'penalty': 'l1', 'alpha': 10000000000.0, 'eta0': 0.12566728205668667}, mean: -2441.17904, std: 107.93326, params: {'penalty': 'l2', 'alpha': 10000000000.0, 'eta0': 0.12566728205668667}, mean: -2435.23147, std: 107.80103, params: {'penalty': 'elasticnet', 'alpha': 10000000000.0, 'eta0': 0.12566728205668667}, mean: -2448.45923, std: 104.93799, params: {'penalty': 'l1', 'alpha': 10000000000.0, 'eta0': 0.25067505050370709}, mean: -2446.33921, std: 99.33505, params: {'penalty': 'l2', 'alpha': 10000000000.0, 'eta0': 0.25067505050370709}, mean: -2457.20428, std: 103.07119, params: {'penalty': 'elasticnet', 'alpha': 10000000000.0, 'eta0': 0.25067505050370709}, mean: -2480.53719, std: 119.39090, params: {'penalty': 'l1', 'alpha': 10000000000.0, 'eta0': 0.50003453497697847}, mean: -2468.36905, std: 96.93248, params: {'penalty': 'l2', 'alpha': 10000000000.0, 'eta0': 0.50003453497697847}, mean: -2434.17889, std: 109.22391, params: {'penalty': 'elasticnet', 'alpha': 10000000000.0, 'eta0': 0.50003453497697847}]\n"
     ]
    }
   ],
   "source": [
    "params = {'alpha': np.logspace(-10, 10, 21), 'penalty' : ['l1', 'l2', 'elasticnet'], 'eta0': np.logspace(-3, -0.301, 10)} \n",
    "\n",
    "# above put your gradient descent parameters here\n",
    "# logspace is like range function; in this case you want 20 observations \n",
    "# between 10 ^ -10 and 10 ^ 10\n",
    "\n",
    "gs = grid_search.GridSearchCV(\n",
    "    estimator=linear_model.SGDRegressor(),\n",
    "    cv=cross_validation.KFold(len(modeldata), n_folds=5, shuffle=True),\n",
    "    param_grid=params,\n",
    "    scoring='neg_mean_squared_error',\n",
    "    )\n",
    "\n",
    "gs.fit(modeldata, y)\n",
    "\n",
    "print 'BEST ESTIMATOR'\n",
    "print -gs.best_score_\n",
    "print gs.best_estimator_\n",
    "print 'ALL ESTIMATORS'\n",
    "print gs.grid_scores_"
   ]
  },
  {
   "cell_type": "code",
   "execution_count": null,
   "metadata": {
    "collapsed": true
   },
   "outputs": [],
   "source": []
  },
  {
   "cell_type": "code",
   "execution_count": null,
   "metadata": {
    "collapsed": true
   },
   "outputs": [],
   "source": []
  }
 ],
 "metadata": {
  "kernelspec": {
   "display_name": "Python 2",
   "language": "python",
   "name": "python2"
  },
  "language_info": {
   "codemirror_mode": {
    "name": "ipython",
    "version": 2
   },
   "file_extension": ".py",
   "mimetype": "text/x-python",
   "name": "python",
   "nbconvert_exporter": "python",
   "pygments_lexer": "ipython2",
   "version": "2.7.13"
  }
 },
 "nbformat": 4,
 "nbformat_minor": 1
}
