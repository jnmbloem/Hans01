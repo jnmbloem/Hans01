{
 "cells": [
  {
   "cell_type": "code",
   "execution_count": 41,
   "metadata": {},
   "outputs": [
    {
     "name": "stdout",
     "output_type": "stream",
     "text": [
      "/Users/jnmbloem/DAT-SM-18/projects/final-project\n",
      "\n",
      "['UNIT_NUMBER' 'UNIT_TYPE' 'CURRENT_UNIT_STATUS' 'UNIT_CREATED_DATE'\n",
      " 'CLAIM_CREATED_DATE' 'CLAIM_SEGMENT_NUMBER' 'LOSS_DATE' 'LOSS_LOC_STATE'\n",
      " 'LOC_ZIP5' 'CURRENT_CLAIM_STATUS' 'CAUSE_OF_LOSS' 'CAT_CODE' 'CAT_FLAG'\n",
      " 'POLICY_STATE' 'POLICY_NUMBER' 'POLICY_DESCRIPTION' 'INSURANCE_GRP_IND'\n",
      " 'COVERAGE_SOURCE' 'PRODUCT_TYPE' 'POLICY_FORM_NUMBER'\n",
      " 'CLAIM_CREATED_MONTH' 'CLAIM_CREATED_YEAR' 'TOTAL_INDEMNITY_AMOUNT'\n",
      " 'CURRENT_RESERVE_AMOUNT' 'ACV_AMOUNT' 'RCV_AMOUNT' 'MISCODE_AMOUNT'\n",
      " 'UNIT_COUNT' 'PAID_COUNT' 'RESERVE_COUNT' 'CWP_COUNT' 'UNIT_CATEGORY'\n",
      " 'PAYMENT_CATEGORY' 'PAYMENT_BAND' 'EMPLOYEE_LOGIN' 'HEART_EMPLOYEE_NAME'\n",
      " 'HEART_DIVISION_NAME' 'HEART_BCO' 'HEART_ZONE' 'HEART_LOB'\n",
      " 'OLEM_SUPERVISOR_LAST_FST_NAME' 'OLEM_MANAGER_LAST_FST_NAME' 'OLEM_LOB'\n",
      " 'OLEM_INTERDEPTPOSITION' 'OLEM_ZONE' 'OLEM_TERRITORY' 'OLEM_BCO' 'CHANNEL'\n",
      " 'GROUPED_POLICY_STATE_27' 'GROUPED_POLICY_STATE_29' 'LP_APT_FLAG'\n",
      " 'INCURRED_AMOUNT' 'INCURRED_COUNT' 'INCURRED_BAND' 'ACCIDENT_YEAR'\n",
      " 'ACCIDENT_MONTH' 'PA_CONTACT_FLAG' 'ATTORNEY_CONTACT_FLAG'\n",
      " 'PA_OR_ATTORNEY_CONTACT_FLAG' 'COMPANY_NAME' 'CLAIM_SOURCE'\n",
      " 'UNIT_SIU_INVESTIGATION_FLAG']\n",
      "44646\n",
      "\n",
      "8069.22847885\n",
      "8069.22847885\n",
      "8069.22847885\n",
      "\n",
      "25670.1577436\n",
      "\n",
      "46607.1517942\n",
      "\n",
      "      UNIT_NUMBER UNIT_TYPE CURRENT_UNIT_STATUS UNIT_CREATED_DATE CLAIM_CREATED_DATE CLAIM_SEGMENT_NUMBER     LOSS_DATE LOSS_LOC_STATE  LOC_ZIP5 CURRENT_CLAIM_STATUS   CAUSE_OF_LOSS CAT_CODE CAT_FLAG POLICY_STATE  POLICY_NUMBER          POLICY_DESCRIPTION INSURANCE_GRP_IND COVERAGE_SOURCE        PRODUCT_TYPE POLICY_FORM_NUMBER CLAIM_CREATED_MONTH  CLAIM_CREATED_YEAR  TOTAL_INDEMNITY_AMOUNT  CURRENT_RESERVE_AMOUNT  ACV_AMOUNT  RCV_AMOUNT  MISCODE_AMOUNT  UNIT_COUNT  PAID_COUNT  RESERVE_COUNT  CWP_COUNT UNIT_CATEGORY            PAYMENT_CATEGORY       PAYMENT_BAND EMPLOYEE_LOGIN HEART_EMPLOYEE_NAME           HEART_DIVISION_NAME HEART_BCO      HEART_ZONE HEART_LOB OLEM_SUPERVISOR_LAST_FST_NAME OLEM_MANAGER_LAST_FST_NAME  OLEM_LOB     OLEM_INTERDEPTPOSITION    OLEM_ZONE    OLEM_TERRITORY OLEM_BCO CHANNEL GROUPED_POLICY_STATE_27 GROUPED_POLICY_STATE_29 LP_APT_FLAG  INCURRED_AMOUNT  INCURRED_COUNT       INCURRED_BAND  ACCIDENT_YEAR ACCIDENT_MONTH PA_CONTACT_FLAG ATTORNEY_CONTACT_FLAG  \\\n",
      "0  3007847826-1-3  ALE       Closed              1/17/17 17:57     1/16/17 16:32      3007847826-1         1/15/17 0:02  CA             93308.0   Open                 Fire & Removal  NaN      N        CA           936624285      NEXT GENERATION HOMEOWNERS  FI                FPPS            NaN                 56-5532            2017 01             2017                2529.89                 0.00                    2529.89     0.0         0.0             1           1           0              0          Paid          Unit has ACV payments only  $2,500 - $5,000    USWGDF03       GERALD FOLEY        NATIONAL LARGE LOSS PROPERTY  RA        Large Property  Property  Clingo, Derek                 Nagle, Steven              PROPERTY  CentralizedInsideProperty  CIP-LP-CU    CIP-LP-CU-Relo    LF       Field   CA                      29 States               LP          2529.89          1               $2,500 - $5,000     2017           2017 01        N               N                      \n",
      "1  3008465703-1-4  ALE       Closed              6/26/17 18:19     4/20/17 16:12      3008465703-1         4/19/17       PA             19120.0   Open                 Fire            NaN      N        PA           90409287       DWELL FIRE-LANDLORD         FM                FOREMOST        Specialty Dwelling  11001              2017 04             2017                1950.00                 0.00                    1950.00     0.0         0.0             1           1           0              0          Paid          Unit has ACV payments only  <=$2,500           USWDYH47       DORATHY SCOTT       NATIONAL LARGE LOSS PROPERTY  RA        Large Property  Property  Darby, Marc                   Nagle, Steven              PROPERTY  CentralizedInsideProperty  CIP-LP-CU    CIP-LP-CU-Relo    LF       Field   Other                   Other                   LP          1950.00          1               <=$2,500            2017           2017 04        Y               N                      \n",
      "2  3008645700-1-2  ALE       Open                5/17/17 15:25     5/17/17 12:11      3008645700-1         5/17/17       CA             94591.0   Open                 Fire & Removal  NaN      N        CA           986253893      LANDLORD PROTECTOR          FI                FPPS            NaN                 56-5117            2017 05             2017                13097.23                0.77                    13097.23    0.0         0.0             1           1           1              0          Paid          Unit has ACV payments only  $10,000 - $25,000  USWRRF20       REBECCA FORDON      LARGE PROPERTY WEST           6W        Large Property  Property  Gonzalez, Michelle            Condon, David              PROPERTY  Large Property             LPWestField  LPWestFieldTeam2  06W      Field   CA                      29 States               LP          13098.00         1               $10,000 - $25,000   2017           2017 05        N               N                      \n",
      "3  3007840800-1-3  ALE       Open                1/16/17 22:55     1/14/17 12:38      3007840800-1         1/13/17       CA             92804.0   Open                 Fire & Removal  NaN      N        CA           941829518      NEXT GENERATION HOMEOWNERS  FI                FPPS            NaN                 56-5532            2017 01             2017                47434.42                12250.00                47434.42    0.0         0.0             1           1           1              0          Paid          Unit has ACV payments only  $25,000 - $50,000  USWGDF03       GERALD FOLEY        NATIONAL LARGE LOSS PROPERTY  RA        Large Property  Property  Clingo, Derek                 Nagle, Steven              PROPERTY  CentralizedInsideProperty  CIP-LP-CU    CIP-LP-CU-Relo    LF       Field   CA                      29 States               LP          59684.42         1               $50,000 - $100,000  2017           2017 01        N               N                      \n",
      "4  3007968811-1-4  ALE       Closed              2/3/17 20:40      2/3/17 1:14        3007968811-1         2/2/17 0:02   CA             91911.0   Closed               Fire            NaN      N        CA           907483205      HOMEOWNERS INS MANU         FM                FOREMOST        Mobile Home         4636               2017 02             2017                10600.00                0.00                    10600.00    0.0         0.0             1           1           0              0          Paid          Unit has ACV payments only  $10,000 - $25,000  USWGDF03       GERALD FOLEY        NATIONAL LARGE LOSS PROPERTY  RA        Large Property  Property  Clingo, Derek                 Nagle, Steven              PROPERTY  CentralizedInsideProperty  CIP-LP-CU    CIP-LP-CU-Relo    LF       Field   CA                      29 States               LP          10600.00         1               $10,000 - $25,000   2017           2017 02        N               N                      \n",
      "\n",
      "  PA_OR_ATTORNEY_CONTACT_FLAG                                       COMPANY_NAME  CLAIM_SOURCE UNIT_SIU_INVESTIGATION_FLAG  UNIT_TYPE_ALE  UNIT_TYPE_Building  UNIT_TYPE_Contents  UNIT_TYPE_Coverage  UNIT_TYPE_EMRP  UNIT_TYPE_Flooring  UNIT_TYPE_Investigation  UNIT_TYPE_PD  UNIT_TYPE_Property  UNIT_TYPE_SIU  UNIT_TYPE_Salvage  UNIT_TYPE_Subrogation  \n",
      "0  N                           Mid-Century Insurance Company                      FNOL          N                           1              0                   0                   0                   0               0                   0                        0             0                   0              0                  0                      \n",
      "1  Y                           FOREMOST INSURANCE COMPANY GRAND RAPIDS, MICHIGAN  FNOL          N                           1              0                   0                   0                   0               0                   0                        0             0                   0              0                  0                      \n",
      "2  N                           Fire Insurance Exchange                            FNOL          N                           1              0                   0                   0                   0               0                   0                        0             0                   0              0                  0                      \n",
      "3  N                           Mid-Century Insurance Company                      HERO-Offline  N                           1              0                   0                   0                   0               0                   0                        0             0                   0              0                  0                      \n",
      "4  N                           FOREMOST INSURANCE COMPANY GRAND RAPIDS, MICHIGAN  FNOL          N                           1              0                   0                   0                   0               0                   0                        0             0                   0              0                  0                      \n"
     ]
    }
   ],
   "source": [
    "import pandas as pd\n",
    "import numpy as np\n",
    "import matplotlib.pyplot as plt # graphics - not preferred\n",
    "%matplotlib inline\n",
    "import seaborn as sns # graphics - preferred\n",
    "\n",
    "from scipy import stats\n",
    "import statsmodels.api as sm # models - not preferred\n",
    "from sklearn import linear_model # models - preferred\n",
    "\n",
    "# get current working directory. Useful if getting errors about file loading.\n",
    "import os\n",
    "\n",
    "print os.getcwd()\n",
    "print\n",
    "\n",
    "# create a dataframe names 'dates' with the values specified below)\n",
    "# dates = pd.date_range('20140101',periods=6)\n",
    "# dates\n",
    "\n",
    "df_raw = pd.read_csv(\"../final-project/data/17_11_Unit_Level_Peril_Fire.csv\")\n",
    "\n",
    "# drop all rows with one or more values that are not available\n",
    "# df = df_raw.dropna() \n",
    "\n",
    "df = df_raw\n",
    "\n",
    "# print the first record in the dataframe called df\n",
    "# print df.head(1)\n",
    "\n",
    "# print the coloumn names of the columns in the dataframe called df\n",
    "print df.columns.values\n",
    "# print\n",
    "\n",
    "# print the index values of the rows in the dataframe called df\n",
    "# print df.index.values\n",
    "\n",
    "# print the number of rows in the dataframe called df\n",
    "print len(df)\n",
    "print\n",
    "\n",
    "# print the specs of the dataframe called df\n",
    "# print df.describe()\n",
    "\n",
    "# print row 5 of the dataframe called df. Print it as a dataframe. Note: first row is 0 etcetera\n",
    "# better to use loc or iloc function instead of ix since ix is being retired in newer python versions\n",
    "# print df.ix[[4,]]\n",
    "# print\n",
    "\n",
    "# what is the average indemnity paid amount per record when the unit_type is equal\n",
    "# to ALE\n",
    "print df[df['UNIT_TYPE'] == 'ALE']['TOTAL_INDEMNITY_AMOUNT'].mean()\n",
    "print df[ df.UNIT_TYPE=='ALE' ]['TOTAL_INDEMNITY_AMOUNT'].mean()  # notice how we can access the column as a variable instead of an array string index\n",
    "print df[ df.UNIT_TYPE=='ALE' ].TOTAL_INDEMNITY_AMOUNT.mean()  # same here!\n",
    "print\n",
    "\n",
    "# determine all the possible values of UNIT_TYPE\n",
    "# show for each value the mean\n",
    "\n",
    "print df['TOTAL_INDEMNITY_AMOUNT'].mean()\n",
    "print\n",
    "\n",
    "# what is the average indemnity paid amount per record when you exclude zero values\n",
    "print df[ df.TOTAL_INDEMNITY_AMOUNT != 0 ].TOTAL_INDEMNITY_AMOUNT.mean()\n",
    "print\n",
    "\n",
    "# ???? determine all the possible values of UNIT_TYPE\n",
    "# ???? show for each value the mean\n",
    "\n",
    "# create dummy variables using get_dummies for all possible values of UNIT_TYPE then exclude the first dummy column\n",
    "area_dummies = pd.get_dummies(df.UNIT_TYPE, prefix='UNIT_TYPE').iloc[:, 0:]\n",
    "# concatenate the dummy variable columns onto the original DataFrame (axis=0 means rows, axis=1 means columns)\n",
    "# note: concatenate allows you to combine two matrices next to eachother (make sure they have\n",
    "# the same number of rows!!!)\n",
    "df10 = pd.concat([df, area_dummies], axis=1)\n",
    "print df10.head()\n"
   ]
  },
  {
   "cell_type": "code",
   "execution_count": 42,
   "metadata": {},
   "outputs": [
    {
     "data": {
      "text/plain": [
       "Building         13387\n",
       "Contents         10717\n",
       "Subrogation      10153\n",
       "ALE              6620 \n",
       "Coverage         1152 \n",
       "Salvage          855  \n",
       "EMRP             612  \n",
       "SIU              512  \n",
       "Investigation    464  \n",
       "Flooring         160  \n",
       "Property         12   \n",
       "PD               2    \n",
       "Name: UNIT_TYPE, dtype: int64"
      ]
     },
     "execution_count": 42,
     "metadata": {},
     "output_type": "execute_result"
    }
   ],
   "source": [
    "df.UNIT_TYPE.value_counts()"
   ]
  },
  {
   "cell_type": "code",
   "execution_count": null,
   "metadata": {
    "collapsed": true
   },
   "outputs": [],
   "source": []
  },
  {
   "cell_type": "code",
   "execution_count": 43,
   "metadata": {},
   "outputs": [
    {
     "name": "stdout",
     "output_type": "stream",
     "text": [
      "   ACV_AMOUNT  RCV_AMOUNT\n",
      "0  2529.89     0.0       \n",
      "1  1950.00     0.0       \n",
      "2  13097.23    0.0       \n",
      "3  47434.42    0.0       \n",
      "4  10600.00    0.0       \n",
      "\n",
      "            ACV_AMOUNT  RCV_AMOUNT\n",
      "ACV_AMOUNT  1.000000    0.010691  \n",
      "RCV_AMOUNT  0.010691    1.000000  \n",
      "\n",
      "       ACV_AMOUNT  RCV_AMOUNT\n",
      "31476  5271.79     5271.78   \n",
      "31478  0.00        2010.81   \n",
      "31479  0.00        2866.46   \n",
      "31484  0.00        684.29    \n",
      "31491  0.00        1487.66   \n",
      "\n",
      "            ACV_AMOUNT  RCV_AMOUNT\n",
      "ACV_AMOUNT  1.000000    0.125029  \n",
      "RCV_AMOUNT  0.125029    1.000000  \n",
      "\n",
      "   TOTAL_INDEMNITY_AMOUNT  ACV_AMOUNT UNIT_TYPE\n",
      "0  2529.89                 2529.89     ALE     \n",
      "1  1950.00                 1950.00     ALE     \n",
      "2  13097.23                13097.23    ALE     \n",
      "3  47434.42                47434.42    ALE     \n",
      "4  10600.00                10600.00    ALE     \n",
      "19252    4133150.00\n",
      "17151    3157685.20\n",
      "19251    3081205.00\n",
      "13673    2500375.00\n",
      "14539    2217461.47\n",
      "Name: TOTAL_INDEMNITY_AMOUNT, dtype: float64\n",
      "4133150.0\n"
     ]
    },
    {
     "name": "stderr",
     "output_type": "stream",
     "text": [
      "/Applications/anaconda/lib/python2.7/site-packages/ipykernel_launcher.py:36: SettingWithCopyWarning: \n",
      "A value is trying to be set on a copy of a slice from a DataFrame.\n",
      "Try using .loc[row_indexer,col_indexer] = value instead\n",
      "\n",
      "See the caveats in the documentation: http://pandas.pydata.org/pandas-docs/stable/indexing.html#indexing-view-versus-copy\n"
     ]
    },
    {
     "name": "stdout",
     "output_type": "stream",
     "text": [
      "   TOTAL_INDEMNITY_AMOUNT  ACV_AMOUNT UNIT_TYPE  log_indemnity_amount\n",
      "0  2529.89                 2529.89     ALE       7.835931            \n",
      "1  1950.00                 1950.00     ALE       7.575585            \n",
      "2  13097.23                13097.23    ALE       9.480156            \n",
      "3  47434.42                47434.42    ALE       10.767103           \n",
      "4  10600.00                10600.00    ALE       9.268609            \n"
     ]
    },
    {
     "data": {
      "text/plain": [
       "<seaborn.axisgrid.FacetGrid at 0x1132177d0>"
      ]
     },
     "execution_count": 43,
     "metadata": {},
     "output_type": "execute_result"
    },
    {
     "data": {
      "image/png": "[encoded data removed]",
      "text/plain": [
       "<matplotlib.figure.Figure at 0x113446890>"
      ]
     },
     "metadata": {},
     "output_type": "display_data"
    }
   ],
   "source": [
    "# Create new dataframe with only two columns but all the rows\n",
    "# Because of double brackets the df2 variable is again a dataframe\n",
    "df2 = df[['ACV_AMOUNT','RCV_AMOUNT']]\n",
    "print df2.head(5)\n",
    "print\n",
    "print df2.corr()\n",
    "print\n",
    "\n",
    "# Create new dataframe, from the dataframe with the two columns, eliminating some rows; \n",
    "# the rows where RVC_AMOUNT is zero\n",
    "df3 = df2[df2.RCV_AMOUNT != 0]\n",
    "print df3.tail(5)\n",
    "print\n",
    "print df3.corr()\n",
    "print\n",
    "\n",
    "# show box plot for values of TOTAL_INDEMNITY_AMOUNT only after eliminating \n",
    "# rows with TOTAL_INDEMINTY _AMOUNT = 0\n",
    "df4 = df[['TOTAL_INDEMNITY_AMOUNT', 'ACV_AMOUNT', 'UNIT_TYPE']] # creates df with three columns\n",
    "df5 = df4[df4.TOTAL_INDEMNITY_AMOUNT != 0] # eliminates specified rows\n",
    "print df5.head(5)\n",
    "\n",
    "# check if there are very big values for TOTAL_INDEMNITY_AMOUNT \n",
    "# if so you need to do log transformation\n",
    "print df5.TOTAL_INDEMNITY_AMOUNT.sort_values(ascending = False).head(5)\n",
    "print df.TOTAL_INDEMNITY_AMOUNT.max()\n",
    "\n",
    "# the TOTAL_INDEMNITY_AMOUNT needs to be log transformed \n",
    "# print df5['TOTAL_INDEMNITY_AMOUNT'].apply(np.log).plot(kind=\"hist\") \n",
    "# prints plot of resulting dataframe\n",
    "\n",
    "# ???? show box plot for values of TOTAL_INDEMNITY_AMOUNT, eliminating rows where\n",
    "# ???? TOTAL_INDEMNITY_AMOUNT is zero BUT SPLIT BY UNIT_TYPE\n",
    "# ???? UNIT_TYPES are not different columns; they are a LOV for a specific column\n",
    "\n",
    "df5['log_indemnity_amount'] = df5.TOTAL_INDEMNITY_AMOUNT.apply(np.log)\n",
    "print df5.head(5)\n",
    "sns.factorplot(y='log_indemnity_amount',x='UNIT_TYPE',data = df5, kind='box')\n",
    "\n",
    "# show box plot for values of TOTAL_INDEMNITY_AMOUNT by UNIT_TYPE\n",
    "# print df['TOTAL_INDEMNITY_AMOUNT'].plot(kind=\"box\")\n"
   ]
  },
  {
   "cell_type": "code",
   "execution_count": 44,
   "metadata": {},
   "outputs": [
    {
     "name": "stdout",
     "output_type": "stream",
     "text": [
      "[[<matplotlib.axes._subplots.AxesSubplot object at 0x117d36750>\n",
      "  <matplotlib.axes._subplots.AxesSubplot object at 0x1137ed490>]\n",
      " [<matplotlib.axes._subplots.AxesSubplot object at 0x113573d50>\n",
      "  <matplotlib.axes._subplots.AxesSubplot object at 0x117203c50>]]\n"
     ]
    },
    {
     "data": {
      "image/png": "[encoded data removed]",
      "text/plain": [
       "<matplotlib.figure.Figure at 0x11090f610>"
      ]
     },
     "metadata": {},
     "output_type": "display_data"
    }
   ],
   "source": [
    "# show scatter plot showing relationship RCV_AMOUNT and ACV_AMOUNT\n",
    "print pd.plotting.scatter_matrix(df2)\n",
    "\n"
   ]
  },
  {
   "cell_type": "code",
   "execution_count": 45,
   "metadata": {},
   "outputs": [
    {
     "name": "stdout",
     "output_type": "stream",
     "text": [
      "Axes(0.125,0.125;0.775x0.755)\n"
     ]
    },
    {
     "data": {
      "image/png": "[encoded data removed]",
      "text/plain": [
       "<matplotlib.figure.Figure at 0x11346b150>"
      ]
     },
     "metadata": {},
     "output_type": "display_data"
    }
   ],
   "source": [
    "# Let's have a look at the probability densities of the ACV_AMOUNT\n",
    "print df2[\"ACV_AMOUNT\"].plot(kind=\"density\", xlim=(0,100000))"
   ]
  },
  {
   "cell_type": "code",
   "execution_count": 46,
   "metadata": {},
   "outputs": [
    {
     "name": "stdout",
     "output_type": "stream",
     "text": [
      "Axes(0.125,0.125;0.775x0.755)\n"
     ]
    },
    {
     "data": {
      "image/png": "[encoded data removed]",
      "text/plain": [
       "<matplotlib.figure.Figure at 0x1172648d0>"
      ]
     },
     "metadata": {},
     "output_type": "display_data"
    }
   ],
   "source": [
    "# Let's have a look at the probability densities of the log_indemnity_amount\n",
    "print df5[\"log_indemnity_amount\"].plot(kind=\"density\", xlim=(0,30))\n",
    "\n",
    "# looks a lot more like a normal distribution !\n"
   ]
  },
  {
   "cell_type": "code",
   "execution_count": 47,
   "metadata": {},
   "outputs": [
    {
     "data": {
      "text/plain": [
       "<matplotlib.axes._subplots.AxesSubplot at 0x1130b5850>"
      ]
     },
     "execution_count": 47,
     "metadata": {},
     "output_type": "execute_result"
    },
    {
     "data": {
      "image/png": "[encoded data removed]",
      "text/plain": [
       "<matplotlib.figure.Figure at 0x1130a6650>"
      ]
     },
     "metadata": {},
     "output_type": "display_data"
    }
   ],
   "source": [
    "df.plot(kind='scatter', x='ACV_AMOUNT', y='TOTAL_INDEMNITY_AMOUNT', figsize=(8, 8))"
   ]
  },
  {
   "cell_type": "code",
   "execution_count": 48,
   "metadata": {},
   "outputs": [
    {
     "data": {
      "image/png": "[encoded data removed]",
      "text/plain": [
       "<matplotlib.figure.Figure at 0x11725de50>"
      ]
     },
     "metadata": {},
     "output_type": "display_data"
    }
   ],
   "source": [
    "# Quick plot of the data using seaborn which I prefer over mathplotlib\n",
    "# seaborn is simple and quick but leass configurable than mathplotlib\n",
    "\n",
    "sns.pairplot(df4, hue=\"UNIT_TYPE\")\n",
    "sns.plt.show()"
   ]
  },
  {
   "cell_type": "code",
   "execution_count": 49,
   "metadata": {},
   "outputs": [
    {
     "name": "stdout",
     "output_type": "stream",
     "text": [
      "                              OLS Regression Results                              \n",
      "==================================================================================\n",
      "Dep. Variable:     TOTAL_INDEMNITY_AMOUNT   R-squared:                       0.990\n",
      "Model:                                OLS   Adj. R-squared:                  0.990\n",
      "Method:                     Least Squares   F-statistic:                 4.544e+06\n",
      "Date:                    Mon, 15 Jan 2018   Prob (F-statistic):               0.00\n",
      "Time:                            10:54:10   Log-Likelihood:            -4.7374e+05\n",
      "No. Observations:                   44646   AIC:                         9.475e+05\n",
      "Df Residuals:                       44644   BIC:                         9.475e+05\n",
      "Df Model:                               1                                         \n",
      "Covariance Type:                nonrobust                                         \n",
      "==============================================================================\n",
      "                 coef    std err          t      P>|t|      [0.025      0.975]\n",
      "------------------------------------------------------------------------------\n",
      "Intercept    561.3945     47.944     11.709      0.000     467.424     655.365\n",
      "ACV_AMOUNT     1.0011      0.000   2131.584      0.000       1.000       1.002\n",
      "==============================================================================\n",
      "Omnibus:                   129992.088   Durbin-Watson:                   1.988\n",
      "Prob(Omnibus):                  0.000   Jarque-Bera (JB):       8575067750.181\n",
      "Skew:                          40.612   Prob(JB):                         0.00\n",
      "Kurtosis:                    2148.468   Cond. No.                     1.05e+05\n",
      "==============================================================================\n",
      "\n",
      "Warnings:\n",
      "[1] Standard Errors assume that the covariance matrix of the errors is correctly specified.\n",
      "[2] The condition number is large, 1.05e+05. This might indicate that there are\n",
      "strong multicollinearity or other numerical problems.\n",
      "\n",
      "Intercept     561.394535\n",
      "ACV_AMOUNT    1.001127  \n",
      "dtype: float64\n"
     ]
    }
   ],
   "source": [
    "# this is the standard import if you're using \"formula notation\" (similar to R) and use statsmodel\n",
    "import statsmodels.formula.api as smf\n",
    "\n",
    "# create a fitted model in one line\n",
    "# formula notiation is the equivalent to writting out our models such that 'outcome = predictor'\n",
    "# with the follwing syntax formula = 'outcome ~ predictor1 + predictor2 ... predictorN'\n",
    "lm = smf.ols(formula='TOTAL_INDEMNITY_AMOUNT ~ ACV_AMOUNT', data=df).fit()\n",
    "\n",
    "#print the full summary\n",
    "print lm.summary()\n",
    "print\n",
    "# print the coefficients\n",
    "print lm.params"
   ]
  },
  {
   "cell_type": "code",
   "execution_count": 50,
   "metadata": {},
   "outputs": [
    {
     "name": "stdout",
     "output_type": "stream",
     "text": [
      "0    100674.092437\n",
      "dtype: float64\n"
     ]
    }
   ],
   "source": [
    "# let's say you want to determine what this model predicts for TOTAL_INDEMNITY_AMOUNT when\n",
    "# the ACV_AMOUNT is 100,000\n",
    "\n",
    "# step 1: you have to create a DataFrame to capture the ACV_AMOUNT OF 100,000\n",
    "# since the Statsmodels formula interface expects it\n",
    "X_new = pd.DataFrame({'ACV_AMOUNT': [100000]})\n",
    "X_new.head()\n",
    "\n",
    "# use the model to make predictions on a new value and print result\n",
    "print lm.predict(X_new)\n"
   ]
  },
  {
   "cell_type": "code",
   "execution_count": 51,
   "metadata": {},
   "outputs": [
    {
     "name": "stdout",
     "output_type": "stream",
     "text": [
      "Intercept     1.267896e-31\n",
      "ACV_AMOUNT    0.000000e+00\n",
      "dtype: float64\n",
      "                     0           1\n",
      "Intercept   467.424308  655.364761\n",
      "ACV_AMOUNT  1.000206    1.002048  \n"
     ]
    }
   ],
   "source": [
    "# determine confidence in our model\n",
    "print lm.pvalues\n",
    "print lm.conf_int()"
   ]
  },
  {
   "cell_type": "code",
   "execution_count": 52,
   "metadata": {},
   "outputs": [
    {
     "name": "stdout",
     "output_type": "stream",
     "text": [
      "561.394534569 [ 1.00112698]\n"
     ]
    }
   ],
   "source": [
    "# from sklearn import linear_model --> I prefer sklearn over statsmodel\n",
    "\n",
    "X = df[[\"ACV_AMOUNT\"]]\n",
    "y = df[\"TOTAL_INDEMNITY_AMOUNT\"]\n",
    "\n",
    "# Select the model to use; in this case linear regression model from sklearn\n",
    "model = linear_model.LinearRegression()\n",
    "# Fit the data to the model\n",
    "results = model.fit(X, y)\n",
    "\n",
    "# Print the coefficients\n",
    "print results.intercept_, results.coef_"
   ]
  },
  {
   "cell_type": "code",
   "execution_count": 53,
   "metadata": {},
   "outputs": [
    {
     "name": "stderr",
     "output_type": "stream",
     "text": [
      "/Applications/anaconda/lib/python2.7/site-packages/ipykernel_launcher.py:5: SettingWithCopyWarning: \n",
      "A value is trying to be set on a copy of a slice from a DataFrame.\n",
      "Try using .loc[row_indexer,col_indexer] = value instead\n",
      "\n",
      "See the caveats in the documentation: http://pandas.pydata.org/pandas-docs/stable/indexing.html#indexing-view-versus-copy\n",
      "  \"\"\"\n",
      "/Applications/anaconda/lib/python2.7/site-packages/ipykernel_launcher.py:6: RuntimeWarning: divide by zero encountered in log\n",
      "  \n",
      "/Applications/anaconda/lib/python2.7/site-packages/ipykernel_launcher.py:6: SettingWithCopyWarning: \n",
      "A value is trying to be set on a copy of a slice from a DataFrame.\n",
      "Try using .loc[row_indexer,col_indexer] = value instead\n",
      "\n",
      "See the caveats in the documentation: http://pandas.pydata.org/pandas-docs/stable/indexing.html#indexing-view-versus-copy\n",
      "  \n"
     ]
    },
    {
     "data": {
      "text/plain": [
       "<matplotlib.axes._subplots.AxesSubplot at 0x110dfe710>"
      ]
     },
     "execution_count": 53,
     "metadata": {},
     "output_type": "execute_result"
    },
    {
     "data": {
      "image/png": "[encoded data removed]",
      "text/plain": [
       "<matplotlib.figure.Figure at 0x11727fdd0>"
      ]
     },
     "metadata": {},
     "output_type": "display_data"
    }
   ],
   "source": [
    "# if the relationship between ACV_TOTAL and TOTAL_INDEMNITY_AMOUNT is linear but error not\n",
    "# normally distributed (as is the case here), you need to do the log transformation\n",
    "# to both TOTAL_INDEMNITY_AMOUNT and to \"ACV_AMOUNT\n",
    "\n",
    "df5[\"log-y\"] = np.log(df5['TOTAL_INDEMNITY_AMOUNT'])\n",
    "df5[\"log-x\"] = np.log(df5['ACV_AMOUNT'])\n",
    "df5.plot.scatter(x='log-x', y='log-y')\n"
   ]
  },
  {
   "cell_type": "code",
   "execution_count": 54,
   "metadata": {},
   "outputs": [
    {
     "name": "stdout",
     "output_type": "stream",
     "text": [
      "8.75049648753 [  8.09269397e-06]\n"
     ]
    }
   ],
   "source": [
    "# from sklearn import linear_model --> I prefer sklearn over statsmodel\n",
    "\n",
    "X = df5[[\"ACV_AMOUNT\"]] # apply here the new dummy columns\n",
    "y = df5[\"log-y\"]\n",
    "\n",
    "# Select the model to use; in this case linear regression model from sklearn\n",
    "model = linear_model.LinearRegression()\n",
    "# Fit the data to the model\n",
    "results = model.fit(X, y)\n",
    "\n",
    "# Print the coefficients\n",
    "print results.intercept_, results.coef_\n"
   ]
  },
  {
   "cell_type": "code",
   "execution_count": 55,
   "metadata": {},
   "outputs": [
    {
     "name": "stdout",
     "output_type": "stream",
     "text": [
      "height has been deprecated.\n",
      "\n"
     ]
    },
    {
     "data": {
      "text/html": [
       "<div>\n",
       "<style>\n",
       "    .dataframe thead tr:only-child th {\n",
       "        text-align: right;\n",
       "    }\n",
       "\n",
       "    .dataframe thead th {\n",
       "        text-align: left;\n",
       "    }\n",
       "\n",
       "    .dataframe tbody tr th {\n",
       "        vertical-align: top;\n",
       "    }\n",
       "</style>\n",
       "<table border=\"1\" class=\"dataframe\">\n",
       "  <thead>\n",
       "    <tr style=\"text-align: right;\">\n",
       "      <th></th>\n",
       "      <th>count</th>\n",
       "      <th>mean</th>\n",
       "      <th>std</th>\n",
       "      <th>min</th>\n",
       "      <th>25%</th>\n",
       "      <th>50%</th>\n",
       "      <th>75%</th>\n",
       "      <th>max</th>\n",
       "    </tr>\n",
       "    <tr>\n",
       "      <th>UNIT_TYPE</th>\n",
       "      <th></th>\n",
       "      <th></th>\n",
       "      <th></th>\n",
       "      <th></th>\n",
       "      <th></th>\n",
       "      <th></th>\n",
       "      <th></th>\n",
       "      <th></th>\n",
       "    </tr>\n",
       "  </thead>\n",
       "  <tbody>\n",
       "    <tr>\n",
       "      <th>ALE</th>\n",
       "      <td>6620.0</td>\n",
       "      <td>8069.228479</td>\n",
       "      <td>14489.059553</td>\n",
       "      <td>0.0</td>\n",
       "      <td>500.0000</td>\n",
       "      <td>2660.575</td>\n",
       "      <td>10043.3075</td>\n",
       "      <td>238000.00</td>\n",
       "    </tr>\n",
       "    <tr>\n",
       "      <th>Building</th>\n",
       "      <td>13387.0</td>\n",
       "      <td>66347.341005</td>\n",
       "      <td>170379.280129</td>\n",
       "      <td>0.0</td>\n",
       "      <td>1134.6650</td>\n",
       "      <td>10381.260</td>\n",
       "      <td>55985.2800</td>\n",
       "      <td>4133150.00</td>\n",
       "    </tr>\n",
       "    <tr>\n",
       "      <th>Contents</th>\n",
       "      <td>10717.0</td>\n",
       "      <td>18924.721888</td>\n",
       "      <td>41737.304176</td>\n",
       "      <td>0.0</td>\n",
       "      <td>0.0000</td>\n",
       "      <td>2538.540</td>\n",
       "      <td>19257.0100</td>\n",
       "      <td>1677851.42</td>\n",
       "    </tr>\n",
       "    <tr>\n",
       "      <th>Coverage</th>\n",
       "      <td>1152.0</td>\n",
       "      <td>0.000000</td>\n",
       "      <td>0.000000</td>\n",
       "      <td>0.0</td>\n",
       "      <td>0.0000</td>\n",
       "      <td>0.000</td>\n",
       "      <td>0.0000</td>\n",
       "      <td>0.00</td>\n",
       "    </tr>\n",
       "    <tr>\n",
       "      <th>EMRP</th>\n",
       "      <td>612.0</td>\n",
       "      <td>1774.663235</td>\n",
       "      <td>4633.268315</td>\n",
       "      <td>0.0</td>\n",
       "      <td>0.0000</td>\n",
       "      <td>0.000</td>\n",
       "      <td>1782.3050</td>\n",
       "      <td>60439.89</td>\n",
       "    </tr>\n",
       "    <tr>\n",
       "      <th>Flooring</th>\n",
       "      <td>160.0</td>\n",
       "      <td>3483.610500</td>\n",
       "      <td>4567.592089</td>\n",
       "      <td>0.0</td>\n",
       "      <td>648.9975</td>\n",
       "      <td>2060.920</td>\n",
       "      <td>4526.7125</td>\n",
       "      <td>34896.91</td>\n",
       "    </tr>\n",
       "    <tr>\n",
       "      <th>Investigation</th>\n",
       "      <td>464.0</td>\n",
       "      <td>0.000000</td>\n",
       "      <td>0.000000</td>\n",
       "      <td>0.0</td>\n",
       "      <td>0.0000</td>\n",
       "      <td>0.000</td>\n",
       "      <td>0.0000</td>\n",
       "      <td>0.00</td>\n",
       "    </tr>\n",
       "    <tr>\n",
       "      <th>PD</th>\n",
       "      <td>2.0</td>\n",
       "      <td>0.000000</td>\n",
       "      <td>0.000000</td>\n",
       "      <td>0.0</td>\n",
       "      <td>0.0000</td>\n",
       "      <td>0.000</td>\n",
       "      <td>0.0000</td>\n",
       "      <td>0.00</td>\n",
       "    </tr>\n",
       "    <tr>\n",
       "      <th>Property</th>\n",
       "      <td>12.0</td>\n",
       "      <td>0.000000</td>\n",
       "      <td>0.000000</td>\n",
       "      <td>0.0</td>\n",
       "      <td>0.0000</td>\n",
       "      <td>0.000</td>\n",
       "      <td>0.0000</td>\n",
       "      <td>0.00</td>\n",
       "    </tr>\n",
       "    <tr>\n",
       "      <th>SIU</th>\n",
       "      <td>512.0</td>\n",
       "      <td>0.000000</td>\n",
       "      <td>0.000000</td>\n",
       "      <td>0.0</td>\n",
       "      <td>0.0000</td>\n",
       "      <td>0.000</td>\n",
       "      <td>0.0000</td>\n",
       "      <td>0.00</td>\n",
       "    </tr>\n",
       "    <tr>\n",
       "      <th>Salvage</th>\n",
       "      <td>855.0</td>\n",
       "      <td>0.000000</td>\n",
       "      <td>0.000000</td>\n",
       "      <td>0.0</td>\n",
       "      <td>0.0000</td>\n",
       "      <td>0.000</td>\n",
       "      <td>0.0000</td>\n",
       "      <td>0.00</td>\n",
       "    </tr>\n",
       "    <tr>\n",
       "      <th>Subrogation</th>\n",
       "      <td>10153.0</td>\n",
       "      <td>0.000000</td>\n",
       "      <td>0.000000</td>\n",
       "      <td>0.0</td>\n",
       "      <td>0.0000</td>\n",
       "      <td>0.000</td>\n",
       "      <td>0.0000</td>\n",
       "      <td>0.00</td>\n",
       "    </tr>\n",
       "  </tbody>\n",
       "</table>\n",
       "</div>"
      ],
      "text/plain": [
       "                 count          mean            std  min        25%        50%         75%         max\n",
       "UNIT_TYPE                                                                                             \n",
       "ALE            6620.0   8069.228479   14489.059553   0.0  500.0000   2660.575   10043.3075  238000.00 \n",
       "Building       13387.0  66347.341005  170379.280129  0.0  1134.6650  10381.260  55985.2800  4133150.00\n",
       "Contents       10717.0  18924.721888  41737.304176   0.0  0.0000     2538.540   19257.0100  1677851.42\n",
       "Coverage       1152.0   0.000000      0.000000       0.0  0.0000     0.000      0.0000      0.00      \n",
       "EMRP           612.0    1774.663235   4633.268315    0.0  0.0000     0.000      1782.3050   60439.89  \n",
       "Flooring       160.0    3483.610500   4567.592089    0.0  648.9975   2060.920   4526.7125   34896.91  \n",
       "Investigation  464.0    0.000000      0.000000       0.0  0.0000     0.000      0.0000      0.00      \n",
       "PD             2.0      0.000000      0.000000       0.0  0.0000     0.000      0.0000      0.00      \n",
       "Property       12.0     0.000000      0.000000       0.0  0.0000     0.000      0.0000      0.00      \n",
       "SIU            512.0    0.000000      0.000000       0.0  0.0000     0.000      0.0000      0.00      \n",
       "Salvage        855.0    0.000000      0.000000       0.0  0.0000     0.000      0.0000      0.00      \n",
       "Subrogation    10153.0  0.000000      0.000000       0.0  0.0000     0.000      0.0000      0.00      "
      ]
     },
     "execution_count": 55,
     "metadata": {},
     "output_type": "execute_result"
    }
   ],
   "source": [
    "# look at what is currently part of df10 \n",
    "# the set_option command ensures the columns are \"wide enough\" to see the content\n",
    "\n",
    "pd.set_option('display.max_colwidth', -1) \n",
    "pd.set_option('display.height', 1000) \n",
    "pd.set_option('display.max_rows', 500) \n",
    "pd.set_option('display.max_columns', 500) \n",
    "pd.set_option('display.width', 1000)\n",
    "df10.describe()\n",
    "\n",
    "df.groupby('UNIT_TYPE').TOTAL_INDEMNITY_AMOUNT.describe()\n"
   ]
  },
  {
   "cell_type": "code",
   "execution_count": 56,
   "metadata": {},
   "outputs": [
    {
     "data": {
      "text/plain": [
       "count    24590.000000\n",
       "mean     9.119010    \n",
       "std      1.926945    \n",
       "min      0.662688    \n",
       "25%      7.741413    \n",
       "50%      9.195710    \n",
       "75%      10.497020   \n",
       "max      15.234550   \n",
       "Name: log-y, dtype: float64"
      ]
     },
     "execution_count": 56,
     "metadata": {},
     "output_type": "execute_result"
    }
   ],
   "source": [
    "y.describe()"
   ]
  },
  {
   "cell_type": "code",
   "execution_count": 57,
   "metadata": {},
   "outputs": [
    {
     "data": {
      "text/html": [
       "<div>\n",
       "<style>\n",
       "    .dataframe thead tr:only-child th {\n",
       "        text-align: right;\n",
       "    }\n",
       "\n",
       "    .dataframe thead th {\n",
       "        text-align: left;\n",
       "    }\n",
       "\n",
       "    .dataframe tbody tr th {\n",
       "        vertical-align: top;\n",
       "    }\n",
       "</style>\n",
       "<table border=\"1\" class=\"dataframe\">\n",
       "  <thead>\n",
       "    <tr style=\"text-align: right;\">\n",
       "      <th></th>\n",
       "      <th>ACV_AMOUNT</th>\n",
       "    </tr>\n",
       "  </thead>\n",
       "  <tbody>\n",
       "    <tr>\n",
       "      <th>count</th>\n",
       "      <td>2.459000e+04</td>\n",
       "    </tr>\n",
       "    <tr>\n",
       "      <th>mean</th>\n",
       "      <td>4.553656e+04</td>\n",
       "    </tr>\n",
       "    <tr>\n",
       "      <th>std</th>\n",
       "      <td>1.297948e+05</td>\n",
       "    </tr>\n",
       "    <tr>\n",
       "      <th>min</th>\n",
       "      <td>0.000000e+00</td>\n",
       "    </tr>\n",
       "    <tr>\n",
       "      <th>25%</th>\n",
       "      <td>2.140057e+03</td>\n",
       "    </tr>\n",
       "    <tr>\n",
       "      <th>50%</th>\n",
       "      <td>9.336645e+03</td>\n",
       "    </tr>\n",
       "    <tr>\n",
       "      <th>75%</th>\n",
       "      <td>3.500000e+04</td>\n",
       "    </tr>\n",
       "    <tr>\n",
       "      <th>max</th>\n",
       "      <td>4.133150e+06</td>\n",
       "    </tr>\n",
       "  </tbody>\n",
       "</table>\n",
       "</div>"
      ],
      "text/plain": [
       "         ACV_AMOUNT\n",
       "count  2.459000e+04\n",
       "mean   4.553656e+04\n",
       "std    1.297948e+05\n",
       "min    0.000000e+00\n",
       "25%    2.140057e+03\n",
       "50%    9.336645e+03\n",
       "75%    3.500000e+04\n",
       "max    4.133150e+06"
      ]
     },
     "execution_count": 57,
     "metadata": {},
     "output_type": "execute_result"
    }
   ],
   "source": [
    "X.describe()"
   ]
  },
  {
   "cell_type": "code",
   "execution_count": 21,
   "metadata": {},
   "outputs": [
    {
     "name": "stdout",
     "output_type": "stream",
     "text": [
      "2769.34377274 [ 2.29345519  0.78196108  7.06725261  1.38982359]\n"
     ]
    },
    {
     "name": "stderr",
     "output_type": "stream",
     "text": [
      "/Applications/anaconda/lib/python2.7/site-packages/ipykernel_launcher.py:8: SettingWithCopyWarning: \n",
      "A value is trying to be set on a copy of a slice from a DataFrame.\n",
      "Try using .loc[row_indexer,col_indexer] = value instead\n",
      "\n",
      "See the caveats in the documentation: http://pandas.pydata.org/pandas-docs/stable/indexing.html#indexing-view-versus-copy\n",
      "  \n"
     ]
    }
   ],
   "source": [
    "# from sklearn import linear_model --> I prefer sklearn over statsmodel\n",
    "\n",
    "# df10 is the dataframe that has the dummy columns for unit type (see above)\n",
    "# before log transformation of TOTAL_INDEMNITY_AMOUNT, remove row with \n",
    "# TOTAL_INDEMNITY_AMOUNT = zero because log transaformation would be \"infinite\"\n",
    "\n",
    "df11 = df10[df10.TOTAL_INDEMNITY_AMOUNT != 0] # eliminates specified rows\n",
    "df11[\"log-y\"] = np.log(df11['TOTAL_INDEMNITY_AMOUNT']) # does the log transformation\n",
    "\n",
    "\n",
    "\n",
    "X = df11[[\"UNIT_TYPE_Contents\",\"UNIT_TYPE_EMRP\",\"UNIT_TYPE_Building\",\"UNIT_TYPE_ALE\"]] \n",
    "# apply here the new dummy columns\n",
    "y = df11[\"log-y\"]\n",
    "\n",
    "# Select the model to use; in this case linear regression model from sklearn\n",
    "model = linear_model.LinearRegression()\n",
    "# Fit the data to the model\n",
    "results = model.fit(X, y)\n",
    "\n",
    "# Print the coefficients but transform it back from the log transformation by exponential function\n",
    "# the coefficients are how the specific variable differs from the \"base\" variable whose column\n",
    "# you did not include as a dummy column. In this case \"base\" is the Flooring Unit since it is\n",
    "# not included above. Note that the \"base\" can not be only units that have no indemnity amount.\n",
    "# I tried that and all coefficients became 1\n",
    "print np.exp(results.intercept_), np.exp(results.coef_)\n",
    "\n",
    "# These coefficient should be interpreted as follows:\n",
    "# the 2769.34 is the base variable associated with Flooring (in thisa case)\n",
    "# If the unit type is for example content, the indemnity 2.293 times the 2769.34\n"
   ]
  },
  {
   "cell_type": "code",
   "execution_count": 23,
   "metadata": {},
   "outputs": [
    {
     "name": "stdout",
     "output_type": "stream",
     "text": [
      "~~~~ CROSS VALIDATION each fold ~~~~\n",
      "3032.75113518 [ 2.10835993  0.70011691  6.36903581  1.25470059]\n",
      "Model 1\n",
      "MSE: 3.1565151389\n",
      "R2: 0.13248064061\n",
      "2639.2911897 [ 2.39391272  0.8331517   7.63327775  1.45036293]\n",
      "Model 2\n",
      "MSE: 3.20463421228\n",
      "R2: 0.132419187734\n",
      "2742.89370354 [ 2.30529681  0.80399981  7.11668045  1.41747121]\n",
      "Model 3\n",
      "MSE: 3.23380095764\n",
      "R2: 0.132515862368\n",
      "2806.14132942 [ 2.24347777  0.71006349  6.93314639  1.38381847]\n",
      "Model 4\n",
      "MSE: 3.26623719913\n",
      "R2: 0.132489452465\n",
      "2644.87318762 [ 2.42986156  0.87452542  7.34682089  1.45220484]\n",
      "Model 5\n",
      "MSE: 3.25105286572\n",
      "R2: 0.132491438023\n",
      "~~~~ SUMMARY OF CROSS VALIDATION ~~~~\n",
      "Mean of MSE for all folds: 3.22244807473\n",
      "Mean of R2 for all folds: 0.13247931624\n"
     ]
    }
   ],
   "source": [
    "from sklearn import cross_validation\n",
    "from sklearn import linear_model, metrics\n",
    "\n",
    "# Do cross validation with 5 folds\n",
    "\n",
    "kf = cross_validation.KFold(len(df11), n_folds=5, shuffle=True)\n",
    "mse_values = []\n",
    "scores = []\n",
    "n= 0\n",
    "\n",
    "print \"~~~~ CROSS VALIDATION each fold ~~~~\"\n",
    "for train_index, test_index in kf:\n",
    "    lm = linear_model.LinearRegression().fit(X.iloc[train_index], y.iloc[train_index])\n",
    "    print np.exp(lm.intercept_), np.exp(lm.coef_)\n",
    "    mse_values.append(metrics.mean_squared_error(y.iloc[test_index], lm.predict(X.iloc[test_index])))\n",
    "    scores.append(lm.score(X, y))\n",
    "    n+=1\n",
    "    print 'Model', n\n",
    "    print 'MSE:', mse_values[n-1]\n",
    "    print 'R2:', scores[n-1]\n",
    "\n",
    "\n",
    "print \"~~~~ SUMMARY OF CROSS VALIDATION ~~~~\"\n",
    "print 'Mean of MSE for all folds:', np.mean(mse_values)\n",
    "print 'Mean of R2 for all folds:', np.mean(scores)\n",
    "\n",
    "# the folds all have slightly different results but what is most important is \n",
    "# to look at the mean MSE and the mean R2. In this case focus on R2 since MSE is\n",
    "# harder to interpret given that it is unit dependent and after log transformation\n",
    "# harder to interpret. The relatively low R2 value indicates that predicting the \n",
    "# TOTAL_INDEMNITY_AMOUNT using only the 4 specified dummy UNIT_TYPE columns will be very \n",
    "# inaccurate. It will only explain about 13% of the variance"
   ]
  },
  {
   "cell_type": "code",
   "execution_count": null,
   "metadata": {
    "collapsed": true
   },
   "outputs": [],
   "source": [
    "# So let's try to predict TOTAL_INDEMNITY AMOUNT using neural network\n",
    "# using more than the 4 non-financial variables used above .....\n",
    "# step 1: initiate required libraries including neural network model from keras\n",
    "# step 2: define the neural network model\n",
    "# step 3: prepare dataframe to use. Remember: in NN all variables used need to be numeric \n",
    "# (either discrete or continuous) so .....\n",
    "# ------> 3a: add to df11 new (dummy) columns to enable NN to mine info from columns with a pre-defined \n",
    "#           list of value such as LOSS_LOC_STATE: each state will get its own dummy column with\n",
    "#           either a 0 or a 1 (I have already done this for UNIT_TYPE in df11). \n",
    "#           Also make sure to set CURRENT_UNIT_STATUS to 1 or 0 (currently Closed or Open)\n",
    "# ------> 3b: add to df11 new (dummy) columns to enable NN to mine info from column that have \n",
    "#           format free text such as POLICY_DESCRIPTION. The dummy columns will capture the main\n",
    "#           features of the text in the POLICY_DESCRIPTION field. In general the main features \n",
    "#           are the most frequently occuring words and their frequency (it depends a bit on the \n",
    "#           algorithmn I use)\n",
    "# ------> 3c: add to df11 new (dummy) columns that show dates in a numerical manner. This requires\n",
    "#           transforming the columns with the data format as provided such as UNIT_CREATED_DATE\n",
    "#           into several new columns that simply provide the year (one column), month (second \n",
    "#           column), day (third column) etcetera.\n",
    "# ------> 3d: for this specific data set also add a column that shows the number of months \n",
    "#           between UNIT_CREATED_DATE and the date I pulled the information from the database\n",
    "#           (which is Nov 2017, or the most recent UNIT_CREATED_DATE in the whole data set).\n",
    "#           This number is the age of the claim in months and will likely be an important \n",
    "#           predictor of the TOTAL_INDEMNITY_AMOUNT\n",
    "# ------> 3e: created dummy columns for another number of variables with list of values\n",
    "#           similar to what we did for UNIT_TYPE and LOS_LOC_STATE\n",
    "# step 4: fit the model\n",
    "# step 5: train the model\n",
    "# step 6: evaluate the quality of the model"
   ]
  },
  {
   "cell_type": "code",
   "execution_count": 58,
   "metadata": {},
   "outputs": [
    {
     "name": "stderr",
     "output_type": "stream",
     "text": [
      "Using TensorFlow backend.\n"
     ]
    }
   ],
   "source": [
    "# step 1: initiate required libraries including neural network model from keras\n",
    "\n",
    "from __future__ import print_function\n",
    "import random\n",
    "import numpy as np\n",
    "import pandas as pd\n",
    "from math import sin\n",
    "\n",
    "# conda install keras\n",
    "from keras.models import Sequential\n",
    "from keras.layers.core import Dense, Activation\n",
    "from keras.optimizers import SGD   # Stochastic Gradient Descent\n",
    "\n",
    "from sklearn.metrics import accuracy_score, confusion_matrix, mean_squared_error\n",
    "import sklearn.cross_validation as cv\n",
    "\n",
    "import matplotlib.pyplot as plt\n",
    "%matplotlib inline\n",
    "plt.rcParams[\"figure.figsize\"] = (8, 8)"
   ]
  },
  {
   "cell_type": "code",
   "execution_count": 59,
   "metadata": {},
   "outputs": [
    {
     "name": "stderr",
     "output_type": "stream",
     "text": [
      "/Applications/anaconda/lib/python2.7/site-packages/ipykernel_launcher.py:6: UserWarning: Update your `Dense` call to the Keras 2 API: `Dense(units=5, input_dim=12)`\n",
      "  \n",
      "/Applications/anaconda/lib/python2.7/site-packages/ipykernel_launcher.py:11: UserWarning: Update your `Dense` call to the Keras 2 API: `Dense(units=1, input_dim=5)`\n",
      "  # This is added back by InteractiveShellApp.init_path()\n"
     ]
    }
   ],
   "source": [
    "# step 2: define a Feed Forward NN (neural network) model. Be aware; I need to update\n",
    "# the number of input layers to make it equal to the number of columns of the matrix\n",
    "# in other words to the number of input variables (the number of x's). 12 is no longer \n",
    "# valid\n",
    "\n",
    "model = Sequential()\n",
    "\n",
    "# add one layer with 12 input and 5 output dimensions (input to hidden layer)\n",
    "# apply the tanh function to this layer\n",
    "model.add(Dense(input_dim=12, output_dim=5))\n",
    "model.add(Activation('tanh'))\n",
    "\n",
    "# create the next layer with 5 inputs to 1 output dimension (hidden layer to output layer)\n",
    "# since this is a regression problem, the function needs to be linear and one output dimension\n",
    "model.add(Dense(input_dim=5, output_dim=1))\n",
    "model.add(Activation('linear'))\n",
    "\n",
    "#   lr: learning rate\n",
    "model.compile(loss='mse', optimizer=SGD(lr=0.01))"
   ]
  },
  {
   "cell_type": "code",
   "execution_count": 88,
   "metadata": {
    "scrolled": true
   },
   "outputs": [
    {
     "ename": "SyntaxError",
     "evalue": "invalid syntax (<ipython-input-88-02786c8833c3>, line 23)",
     "output_type": "error",
     "traceback": [
      "\u001b[0;36m  File \u001b[0;32m\"<ipython-input-88-02786c8833c3>\"\u001b[0;36m, line \u001b[0;32m23\u001b[0m\n\u001b[0;31m    print df12.head()\u001b[0m\n\u001b[0m             ^\u001b[0m\n\u001b[0;31mSyntaxError\u001b[0m\u001b[0;31m:\u001b[0m invalid syntax\n"
     ]
    }
   ],
   "source": [
    "# step 3a: add to df11 new (dummy) columns to enable NN to mine info from columns with a \n",
    "# pre-defined list of value such as LOSS_LOC_STATE: each state will get its own dummy column with\n",
    "# either a 0 or a 1 (I have already done this for UNIT_TYPE in df11). \n",
    "# Also create a new (dummy) column to make sure to translate CURRENT_UNIT_STATUS to 1 or 0\n",
    "# (currently Closed or Open)\n",
    "\n",
    "# create dummy variables using get_dummies for all possible values of LOS_LOC_STATE\n",
    "LLS_dummies = pd.get_dummies(df.LOSS_LOC_STATE, prefix='LOSS_LOC_STATE').iloc[:, 0:]\n",
    "\n",
    "# concatenate the dummy variable columns onto the original DataFrame \n",
    "# (axis=0 means rows, axis=1 means columns)\n",
    "# note: concatenate allows you to combine two matrices next to eachother \n",
    "# (make sure they have the same number of rows!!!)\n",
    "\n",
    "df12 = pd.concat([df11, LLS_dummies], axis=1)\n",
    "\n",
    "# create a new Series called UnitIsClosed. This new (dummy) column indicates\n",
    "# with a 1 if a unit is closed. It is the \"translated\" version op the original\n",
    "# column CURRENT_UNIT_STATUS\n",
    "\n",
    "df12['UnitIsClosed'] = df12.CURRENT_UNIT_STATUS.map({'Open':0, 'Closed':1})\n",
    "\n",
    "print df12.head()"
   ]
  },
  {
   "cell_type": "code",
   "execution_count": 75,
   "metadata": {},
   "outputs": [
    {
     "ename": "SyntaxError",
     "evalue": "invalid syntax (<ipython-input-75-c6b6bdd85e47>, line 28)",
     "output_type": "error",
     "traceback": [
      "\u001b[0;36m  File \u001b[0;32m\"<ipython-input-75-c6b6bdd85e47>\"\u001b[0;36m, line \u001b[0;32m28\u001b[0m\n\u001b[0;31m    print X\u001b[0m\n\u001b[0m          ^\u001b[0m\n\u001b[0;31mSyntaxError\u001b[0m\u001b[0;31m:\u001b[0m invalid syntax\n"
     ]
    }
   ],
   "source": [
    "# step 3b: add to df12 new (dummy) columns to enable NN to mine info from column that have \n",
    "# format free text such as POLICY_DESCRIPTION. The dummy columns will capture the main\n",
    "# features of the text in the POLICY_DESCRIPTION field. In general the main features \n",
    "# are the most frequently occuring words and their frequency (it depends a bit on the \n",
    "# algorithmn I use, which in this case is CountVectorizer\n",
    "\n",
    "from sklearn.feature_extraction.text import CountVectorizer\n",
    "\n",
    "# identify that you are going to use the function mentioned below. This function creates \n",
    "# columns with the most frequently used 10 single words (excluding \"stop words\" in english)\n",
    "\n",
    "vectorizer = CountVectorizer(max_features = 10, \n",
    "                             ngram_range=(1, 1), \n",
    "                             stop_words='english',\n",
    "                             binary=True)\n",
    "\n",
    "# Use `fit` to learn the vocabulary of the POLICY_DESCRIPTION\n",
    "# while eliminating rows where there is no value in the field POLICY_DESCRIPTION\n",
    "PolicyDescriptions = df12['POLICY_DESCRIPTION'].fillna('')\n",
    "vectorizer.fit(PolicyDescriptions)\n",
    "\n",
    "# Use `tranform` to generate the sample X word matrix - one column per feature (individual\n",
    "# words or n-grams). So this function creates one column for each word with a maximum \n",
    "# of 10 columns (so will only show the most frequently used 10 words) and then indicate \n",
    "# whether that word occurs in the sentence or not\n",
    "\n",
    "X = vectorizer.transform(PolicyDescriptions)\n",
    "\n",
    "print X\n",
    "\n",
    "# Command below shows how many rows / records the data has\n",
    "# the only matrix elements shown are the elements with a 1 (and\n",
    "# in front you see the row and column number)\n",
    "\n",
    "print data.shape\n",
    "\n",
    "# To check out what the feature names are that go with the columns\n",
    "print vectorizer.get_feature_names()\n",
    "\n",
    "# concatenate df12 with X to create df13. X is a matrix with the ten word frequency columns)\n",
    "# (axis=0 means rows, axis=1 means columns)\n",
    "# note: concatenate allows you to combine two matrices next to eachother \n",
    "# (make sure they have the same number of rows!!!)\n",
    "\n",
    "df13 = pd.concat([df12, X], axis=1)\n",
    "\n",
    "print df13.head()"
   ]
  },
  {
   "cell_type": "code",
   "execution_count": 77,
   "metadata": {},
   "outputs": [
    {
     "ename": "SyntaxError",
     "evalue": "invalid syntax (<ipython-input-77-614635dcf833>, line 11)",
     "output_type": "error",
     "traceback": [
      "\u001b[0;36m  File \u001b[0;32m\"<ipython-input-77-614635dcf833>\"\u001b[0;36m, line \u001b[0;32m11\u001b[0m\n\u001b[0;31m    print  df13.head()\u001b[0m\n\u001b[0m              ^\u001b[0m\n\u001b[0;31mSyntaxError\u001b[0m\u001b[0;31m:\u001b[0m invalid syntax\n"
     ]
    }
   ],
   "source": [
    "# step 3c: add to df13 new (dummy) columns that show dates in a numerical manner. This requires\n",
    "# transforming the columns with the data format as provided such as UNIT_CREATED_DATE\n",
    "# into several new columns that simply provide the year (one column), month (second \n",
    "# column), day (third column) etcetera.\n",
    "\n",
    "df13['date'] = pd.to_datetime(df13.UNIT_CREATED_DATE)\n",
    "\n",
    "df13['MONTH_CREATED']=df13['date'].map(lambda x: x.month)\n",
    "df13['YEAR_CREATED']=df13['date'].map(lambda x: x.year)\n",
    "\n",
    "print  df13.head()"
   ]
  },
  {
   "cell_type": "code",
   "execution_count": 91,
   "metadata": {},
   "outputs": [
    {
     "ename": "NameError",
     "evalue": "name 'df13' is not defined",
     "output_type": "error",
     "traceback": [
      "\u001b[0;31m---------------------------------------------------------------------------\u001b[0m",
      "\u001b[0;31mNameError\u001b[0m                                 Traceback (most recent call last)",
      "\u001b[0;32m<ipython-input-91-c5260013cbf3>\u001b[0m in \u001b[0;36m<module>\u001b[0;34m()\u001b[0m\n\u001b[1;32m      5\u001b[0m \u001b[0;31m# predictor of the TOTAL_INDEMNITY_AMOUNT\u001b[0m\u001b[0;34m\u001b[0m\u001b[0;34m\u001b[0m\u001b[0m\n\u001b[1;32m      6\u001b[0m \u001b[0;34m\u001b[0m\u001b[0m\n\u001b[0;32m----> 7\u001b[0;31m \u001b[0mz\u001b[0m \u001b[0;34m=\u001b[0m \u001b[0mdf13\u001b[0m\u001b[0;34m.\u001b[0m\u001b[0mMONTH_CREATED\u001b[0m\u001b[0;34m.\u001b[0m\u001b[0mmax\u001b[0m\u001b[0;34m(\u001b[0m\u001b[0;34m)\u001b[0m\u001b[0;34m\u001b[0m\u001b[0m\n\u001b[0m\u001b[1;32m      8\u001b[0m \u001b[0mdf14\u001b[0m\u001b[0;34m[\u001b[0m\u001b[0;34m'age'\u001b[0m\u001b[0;34m]\u001b[0m \u001b[0;34m=\u001b[0m \u001b[0mdf13\u001b[0m\u001b[0;34m[\u001b[0m\u001b[0mMONTH_CREATED\u001b[0m\u001b[0;34m]\u001b[0m\u001b[0;34m-\u001b[0m\u001b[0mz\u001b[0m\u001b[0;34m\u001b[0m\u001b[0m\n\u001b[1;32m      9\u001b[0m \u001b[0;34m\u001b[0m\u001b[0m\n",
      "\u001b[0;31mNameError\u001b[0m: name 'df13' is not defined"
     ]
    }
   ],
   "source": [
    "# step 3d: for this specific data set also add a column that shows the number of months \n",
    "# between UNIT_CREATED_DATE and the date I pulled the information from the database\n",
    "# (which is Nov 2017, or the most recent UNIT_CREATED_DATE in the whole data set).\n",
    "# This number is the age of the claim in months and will likely be an important \n",
    "# predictor of the TOTAL_INDEMNITY_AMOUNT\n",
    "\n",
    "z = df13.MONTH_CREATED.max()\n",
    "df14['AGE'] = df13[MONTH_CREATED]-z\n",
    "\n",
    "print df14.head()"
   ]
  },
  {
   "cell_type": "code",
   "execution_count": 79,
   "metadata": {},
   "outputs": [
    {
     "ename": "SyntaxError",
     "evalue": "invalid syntax (<ipython-input-79-360befe8c65a>, line 30)",
     "output_type": "error",
     "traceback": [
      "\u001b[0;36m  File \u001b[0;32m\"<ipython-input-79-360befe8c65a>\"\u001b[0;36m, line \u001b[0;32m30\u001b[0m\n\u001b[0;31m    print df16.head()\u001b[0m\n\u001b[0m             ^\u001b[0m\n\u001b[0;31mSyntaxError\u001b[0m\u001b[0;31m:\u001b[0m invalid syntax\n"
     ]
    }
   ],
   "source": [
    "# step 3e: also add dummy columns for following fields (all fields with \n",
    "# lists of values):\"CAUSE_OF_LOSS\",\"CAT_FLAG\",\"INSURANCE_GRP_IND\",\n",
    "# \"HEART_DIVISION_NAME\"]]. Especially CAT_FLAG and INSURANCE_GRP_IND are\n",
    "# \"easy\" because they can only have two values\n",
    "\n",
    "# create dummy variables using get_dummies for all possible values of CAUSE_OF_LOSS\n",
    "COL_dummies = pd.get_dummies(df14.CAUSE_OF_LOSS, prefix='COL').iloc[:, 0:]\n",
    "\n",
    "# concatenate the dummy variable columns onto the original DataFrame \n",
    "# (axis=0 means rows, axis=1 means columns)\n",
    "# note: concatenate allows you to combine two matrices next to eachother \n",
    "# (make sure they have the same number of rows!!!)\n",
    "\n",
    "df15 = pd.concat([df14, COL_dummies], axis=1)\n",
    "\n",
    "# create a new columns called COL_<....>. These new (dummy) column indicates\n",
    "# with a 1 if a unit is the relevant cause of loss. \n",
    "# It is the \"translated\" version op the original column CAUSE_OF_LOSS\n",
    "\n",
    "# Do the same for HEART_DIVISION_NAME\n",
    "HDN_dummies = pd.get_dummies(df15.HEART_DIVISION_NAME, prefix='HDN').iloc[:, 0:]\n",
    "df16 = pd.concat([df15, HDN_dummies], axis=1)\n",
    "\n",
    "# Now create 2 new (dummy) columns; one that indicates if a unit is cat or not\n",
    "# and one that indicates the insurance group\n",
    "\n",
    "df16['UnitIsCAT'] = df16.CAT_FLAG.map({'N':0, 'Y':1})\n",
    "df16['InsIs'] = df16.INSURANCE_GRP_IND.map({'FI':1, 'FM':0})\n",
    "\n",
    "print df16.head()"
   ]
  },
  {
   "cell_type": "code",
   "execution_count": 80,
   "metadata": {},
   "outputs": [
    {
     "ename": "SyntaxError",
     "evalue": "invalid syntax (<ipython-input-80-09b678181975>, line 21)",
     "output_type": "error",
     "traceback": [
      "\u001b[0;36m  File \u001b[0;32m\"<ipython-input-80-09b678181975>\"\u001b[0;36m, line \u001b[0;32m21\u001b[0m\n\u001b[0;31m    print df16.columns.values\u001b[0m\n\u001b[0m             ^\u001b[0m\n\u001b[0;31mSyntaxError\u001b[0m\u001b[0;31m:\u001b[0m invalid syntax\n"
     ]
    }
   ],
   "source": [
    "# Train the model\n",
    "\n",
    "# define X1: all the relevant columns I want to use ....\n",
    "# This includes: \n",
    "# (a) 5 new (dummy) unit type columns for UNIT_TYPE\n",
    "# (b) 50 new (dummy) state columns for LOSS_LOC_STATE\n",
    "# (c) 1 new (dummy) column for CURRENT_UNIT_STATUS\n",
    "# (c) 10 new (dummy) word-feature columns for POLICY_DESCRIPTION\n",
    "# (d) 2 new (dummy) columns for month and year for UNIT_CREATED_DATE\n",
    "# (e) .......... I am missing the column that captures the age (in months) of the unit\n",
    "# (f) x new (dummy) columns for CAUSE_OF_LOSS\n",
    "# (g) x new (dummy) columns for HEART_DIVISION_NAME\n",
    "# (h) 1 (dummy) columns for CAT_FLAG\n",
    "# (i) 1 (dummy) column for INSURANCE_GRP_IND\n",
    "# (j) ACV_AMOUNT (this column is a continuous variable and was present in the original data)\n",
    "\n",
    "# define y1: this should the log function of TOTAL_INDEMNITY_AMOUNT (as previously\n",
    "# calculated - see above) and captured in the column called \"log-y\"\n",
    "\n",
    "# print the column names of the columns in the dataframe called df16\n",
    "print df16.columns.values\n",
    "\n",
    "# print for each of the possible values of LOSS_LOC_STATE how often it occurred in df16\n",
    "df16.LOSS_LOC_STATE.value_counts()\n",
    "\n",
    "\n",
    "X1 = df14[[\"CURRENT_UNIT_STATUS\",\"UNIT_CREATED_DATE\",\"LOSS_LOC_STATE\",\"CAUSE_OF_LOSS\",\n",
    "           \"POLICY_DESCRIPTION\",\"CAT_FLAG\",\"INSURANCE_GRP_IND\",\"HEART_DIVISION_NAME\",\n",
    "           \"UNIT_TYPE_Contents\",\"UNIT_TYPE_EMRP\",\"UNIT_TYPE_Building\",\"ACV_AMOUNT\",\n",
    "           \"UNIT_TYPE_SIU\"]] \n",
    "y1 = df14[\"log-y\"]\n",
    "\n",
    "print('Training...')\n",
    "loss = model.fit(X1, y1, nb_epoch=500, validation_split=0.1, \n",
    "                 batch_size=128, verbose=False)\n",
    "print(loss.history['loss'][-1])\n",
    "print(\"Done\")"
   ]
  },
  {
   "cell_type": "code",
   "execution_count": 92,
   "metadata": {},
   "outputs": [
    {
     "ename": "ValueError",
     "evalue": "Error when checking : expected dense_1_input to have shape (None, 12) but got array with shape (24590, 1)",
     "output_type": "error",
     "traceback": [
      "\u001b[0;31m---------------------------------------------------------------------------\u001b[0m",
      "\u001b[0;31mValueError\u001b[0m                                Traceback (most recent call last)",
      "\u001b[0;32m<ipython-input-92-3630f6fcfc0d>\u001b[0m in \u001b[0;36m<module>\u001b[0;34m()\u001b[0m\n\u001b[1;32m      7\u001b[0m \u001b[0;31m# it is very relevant to look at MSE?\u001b[0m\u001b[0;34m\u001b[0m\u001b[0;34m\u001b[0m\u001b[0m\n\u001b[1;32m      8\u001b[0m \u001b[0;34m\u001b[0m\u001b[0m\n\u001b[0;32m----> 9\u001b[0;31m \u001b[0mpredictions\u001b[0m \u001b[0;34m=\u001b[0m \u001b[0mmodel\u001b[0m\u001b[0;34m.\u001b[0m\u001b[0mpredict\u001b[0m\u001b[0;34m(\u001b[0m\u001b[0mX\u001b[0m\u001b[0;34m)\u001b[0m\u001b[0;34m\u001b[0m\u001b[0m\n\u001b[0m\u001b[1;32m     10\u001b[0m \u001b[0;31m# Plot the predictions if it were relevant:\u001b[0m\u001b[0;34m\u001b[0m\u001b[0;34m\u001b[0m\u001b[0m\n\u001b[1;32m     11\u001b[0m \u001b[0;31m# plt.scatter(X, y, alpha=0.5)\u001b[0m\u001b[0;34m\u001b[0m\u001b[0;34m\u001b[0m\u001b[0m\n",
      "\u001b[0;32m/Applications/anaconda/lib/python2.7/site-packages/keras/models.pyc\u001b[0m in \u001b[0;36mpredict\u001b[0;34m(self, x, batch_size, verbose)\u001b[0m\n\u001b[1;32m   1004\u001b[0m         \u001b[0;32mif\u001b[0m \u001b[0;32mnot\u001b[0m \u001b[0mself\u001b[0m\u001b[0;34m.\u001b[0m\u001b[0mbuilt\u001b[0m\u001b[0;34m:\u001b[0m\u001b[0;34m\u001b[0m\u001b[0m\n\u001b[1;32m   1005\u001b[0m             \u001b[0mself\u001b[0m\u001b[0;34m.\u001b[0m\u001b[0mbuild\u001b[0m\u001b[0;34m(\u001b[0m\u001b[0;34m)\u001b[0m\u001b[0;34m\u001b[0m\u001b[0m\n\u001b[0;32m-> 1006\u001b[0;31m         \u001b[0;32mreturn\u001b[0m \u001b[0mself\u001b[0m\u001b[0;34m.\u001b[0m\u001b[0mmodel\u001b[0m\u001b[0;34m.\u001b[0m\u001b[0mpredict\u001b[0m\u001b[0;34m(\u001b[0m\u001b[0mx\u001b[0m\u001b[0;34m,\u001b[0m \u001b[0mbatch_size\u001b[0m\u001b[0;34m=\u001b[0m\u001b[0mbatch_size\u001b[0m\u001b[0;34m,\u001b[0m \u001b[0mverbose\u001b[0m\u001b[0;34m=\u001b[0m\u001b[0mverbose\u001b[0m\u001b[0;34m)\u001b[0m\u001b[0;34m\u001b[0m\u001b[0m\n\u001b[0m\u001b[1;32m   1007\u001b[0m \u001b[0;34m\u001b[0m\u001b[0m\n\u001b[1;32m   1008\u001b[0m     \u001b[0;32mdef\u001b[0m \u001b[0mpredict_on_batch\u001b[0m\u001b[0;34m(\u001b[0m\u001b[0mself\u001b[0m\u001b[0;34m,\u001b[0m \u001b[0mx\u001b[0m\u001b[0;34m)\u001b[0m\u001b[0;34m:\u001b[0m\u001b[0;34m\u001b[0m\u001b[0m\n",
      "\u001b[0;32m/Applications/anaconda/lib/python2.7/site-packages/keras/engine/training.pyc\u001b[0m in \u001b[0;36mpredict\u001b[0;34m(self, x, batch_size, verbose, steps)\u001b[0m\n\u001b[1;32m   1770\u001b[0m         x = _standardize_input_data(x, self._feed_input_names,\n\u001b[1;32m   1771\u001b[0m                                     \u001b[0mself\u001b[0m\u001b[0;34m.\u001b[0m\u001b[0m_feed_input_shapes\u001b[0m\u001b[0;34m,\u001b[0m\u001b[0;34m\u001b[0m\u001b[0m\n\u001b[0;32m-> 1772\u001b[0;31m                                     check_batch_axis=False)\n\u001b[0m\u001b[1;32m   1773\u001b[0m         \u001b[0;32mif\u001b[0m \u001b[0mself\u001b[0m\u001b[0;34m.\u001b[0m\u001b[0mstateful\u001b[0m\u001b[0;34m:\u001b[0m\u001b[0;34m\u001b[0m\u001b[0m\n\u001b[1;32m   1774\u001b[0m             \u001b[0;32mif\u001b[0m \u001b[0mx\u001b[0m\u001b[0;34m[\u001b[0m\u001b[0;36m0\u001b[0m\u001b[0;34m]\u001b[0m\u001b[0;34m.\u001b[0m\u001b[0mshape\u001b[0m\u001b[0;34m[\u001b[0m\u001b[0;36m0\u001b[0m\u001b[0;34m]\u001b[0m \u001b[0;34m>\u001b[0m \u001b[0mbatch_size\u001b[0m \u001b[0;32mand\u001b[0m \u001b[0mx\u001b[0m\u001b[0;34m[\u001b[0m\u001b[0;36m0\u001b[0m\u001b[0;34m]\u001b[0m\u001b[0;34m.\u001b[0m\u001b[0mshape\u001b[0m\u001b[0;34m[\u001b[0m\u001b[0;36m0\u001b[0m\u001b[0;34m]\u001b[0m \u001b[0;34m%\u001b[0m \u001b[0mbatch_size\u001b[0m \u001b[0;34m!=\u001b[0m \u001b[0;36m0\u001b[0m\u001b[0;34m:\u001b[0m\u001b[0;34m\u001b[0m\u001b[0m\n",
      "\u001b[0;32m/Applications/anaconda/lib/python2.7/site-packages/keras/engine/training.pyc\u001b[0m in \u001b[0;36m_standardize_input_data\u001b[0;34m(data, names, shapes, check_batch_axis, exception_prefix)\u001b[0m\n\u001b[1;32m    151\u001b[0m                             \u001b[0;34m' to have shape '\u001b[0m \u001b[0;34m+\u001b[0m \u001b[0mstr\u001b[0m\u001b[0;34m(\u001b[0m\u001b[0mshapes\u001b[0m\u001b[0;34m[\u001b[0m\u001b[0mi\u001b[0m\u001b[0;34m]\u001b[0m\u001b[0;34m)\u001b[0m \u001b[0;34m+\u001b[0m\u001b[0;34m\u001b[0m\u001b[0m\n\u001b[1;32m    152\u001b[0m                             \u001b[0;34m' but got array with shape '\u001b[0m \u001b[0;34m+\u001b[0m\u001b[0;34m\u001b[0m\u001b[0m\n\u001b[0;32m--> 153\u001b[0;31m                             str(array.shape))\n\u001b[0m\u001b[1;32m    154\u001b[0m     \u001b[0;32mreturn\u001b[0m \u001b[0marrays\u001b[0m\u001b[0;34m\u001b[0m\u001b[0m\n\u001b[1;32m    155\u001b[0m \u001b[0;34m\u001b[0m\u001b[0m\n",
      "\u001b[0;31mValueError\u001b[0m: Error when checking : expected dense_1_input to have shape (None, 12) but got array with shape (24590, 1)"
     ]
    }
   ],
   "source": [
    "# How do I determine the outcome for Y with a specific input set of the input variables?\n",
    "# and how do I evaluate the quality of this prediction (using MSE and/or other metric)\n",
    "\n",
    "# X must be a unique combination of all input variables\n",
    "# I assume a scatter plot is not relevant because X is not a single number but a \n",
    "# combination of values for many input variables. Having said this I assume that\n",
    "# it is very relevant to look at MSE?\n",
    "\n",
    "predictions = model.predict(X)\n",
    "# Plot the predictions if it were relevant:\n",
    "# plt.scatter(X, y, alpha=0.5)\n",
    "# plt.plot(X, predictions, color='r', linewidth=2)\n",
    "# plt.show()\n",
    "\n",
    "print(\"MSE\", mean_squared_error(predictions, y))"
   ]
  },
  {
   "cell_type": "code",
   "execution_count": null,
   "metadata": {
    "collapsed": true
   },
   "outputs": [],
   "source": [
    "# Can I do cross validation with neural networks (so k fold cross validation with NN)\n",
    "# XGBoost combines different weak learner models of decision trees to come up with a\n",
    "# better model. Is there an algorithmn to combine NNs instead of decision trees?"
   ]
  }
 ],
 "metadata": {
  "kernelspec": {
   "display_name": "Python 2",
   "language": "python",
   "name": "python2"
  },
  "language_info": {
   "codemirror_mode": {
    "name": "ipython",
    "version": 2
   },
   "file_extension": ".py",
   "mimetype": "text/x-python",
   "name": "python",
   "nbconvert_exporter": "python",
   "pygments_lexer": "ipython2",
   "version": "2.7.13"
  }
 },
 "nbformat": 4,
 "nbformat_minor": 2
}
