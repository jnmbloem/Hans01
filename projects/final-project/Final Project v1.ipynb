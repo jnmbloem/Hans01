{
 "cells": [
  {
   "cell_type": "code",
   "execution_count": 2,
   "metadata": {},
   "outputs": [
    {
     "name": "stderr",
     "output_type": "stream",
     "text": [
      "/Applications/anaconda/lib/python2.7/site-packages/statsmodels/compat/pandas.py:56: FutureWarning: The pandas.core.datetools module is deprecated and will be removed in a future version. Please use the pandas.tseries module instead.\n",
      "  from pandas.core import datetools\n"
     ]
    },
    {
     "name": "stdout",
     "output_type": "stream",
     "text": [
      "/Users/jnmbloem/DAT-SM-18/projects/final-project\n",
      "\n",
      "['UNIT_NUMBER' 'UNIT_TYPE' 'CURRENT_UNIT_STATUS' 'UNIT_CREATED_DATE'\n",
      " 'CLAIM_CREATED_DATE' 'CLAIM_SEGMENT_NUMBER' 'LOSS_DATE' 'LOSS_LOC_STATE'\n",
      " 'LOC_ZIP5' 'CURRENT_CLAIM_STATUS' 'CAUSE_OF_LOSS' 'CAT_CODE' 'CAT_FLAG'\n",
      " 'POLICY_STATE' 'POLICY_NUMBER' 'POLICY_DESCRIPTION' 'INSURANCE_GRP_IND'\n",
      " 'COVERAGE_SOURCE' 'PRODUCT_TYPE' 'POLICY_FORM_NUMBER'\n",
      " 'CLAIM_CREATED_MONTH' 'CLAIM_CREATED_YEAR' 'TOTAL_INDEMNITY_AMOUNT'\n",
      " 'CURRENT_RESERVE_AMOUNT' 'ACV_AMOUNT' 'RCV_AMOUNT' 'MISCODE_AMOUNT'\n",
      " 'UNIT_COUNT' 'PAID_COUNT' 'RESERVE_COUNT' 'CWP_COUNT' 'UNIT_CATEGORY'\n",
      " 'PAYMENT_CATEGORY' 'PAYMENT_BAND' 'EMPLOYEE_LOGIN' 'HEART_EMPLOYEE_NAME'\n",
      " 'HEART_DIVISION_NAME' 'HEART_BCO' 'HEART_ZONE' 'HEART_LOB'\n",
      " 'OLEM_SUPERVISOR_LAST_FST_NAME' 'OLEM_MANAGER_LAST_FST_NAME' 'OLEM_LOB'\n",
      " 'OLEM_INTERDEPTPOSITION' 'OLEM_ZONE' 'OLEM_TERRITORY' 'OLEM_BCO' 'CHANNEL'\n",
      " 'GROUPED_POLICY_STATE_27' 'GROUPED_POLICY_STATE_29' 'LP_APT_FLAG'\n",
      " 'INCURRED_AMOUNT' 'INCURRED_COUNT' 'INCURRED_BAND' 'ACCIDENT_YEAR'\n",
      " 'ACCIDENT_MONTH' 'PA_CONTACT_FLAG' 'ATTORNEY_CONTACT_FLAG'\n",
      " 'PA_OR_ATTORNEY_CONTACT_FLAG' 'COMPANY_NAME' 'CLAIM_SOURCE'\n",
      " 'UNIT_SIU_INVESTIGATION_FLAG']\n",
      "\n",
      "44646\n",
      "\n",
      "8069.22847885\n",
      "8069.22847885\n",
      "8069.22847885\n",
      "\n",
      "25670.1577436\n",
      "\n",
      "46607.1517942\n",
      "\n",
      "      UNIT_NUMBER UNIT_TYPE CURRENT_UNIT_STATUS UNIT_CREATED_DATE  \\\n",
      "0  3007847826-1-3       ALE              Closed     1/17/17 17:57   \n",
      "1  3008465703-1-4       ALE              Closed     6/26/17 18:19   \n",
      "2  3008645700-1-2       ALE                Open     5/17/17 15:25   \n",
      "3  3007840800-1-3       ALE                Open     1/16/17 22:55   \n",
      "4  3007968811-1-4       ALE              Closed      2/3/17 20:40   \n",
      "\n",
      "  CLAIM_CREATED_DATE CLAIM_SEGMENT_NUMBER     LOSS_DATE LOSS_LOC_STATE  \\\n",
      "0      1/16/17 16:32         3007847826-1  1/15/17 0:02             CA   \n",
      "1      4/20/17 16:12         3008465703-1       4/19/17             PA   \n",
      "2      5/17/17 12:11         3008645700-1       5/17/17             CA   \n",
      "3      1/14/17 12:38         3007840800-1       1/13/17             CA   \n",
      "4        2/3/17 1:14         3007968811-1   2/2/17 0:02             CA   \n",
      "\n",
      "   LOC_ZIP5 CURRENT_CLAIM_STATUS          ...          UNIT_TYPE_Contents  \\\n",
      "0   93308.0                 Open          ...                           0   \n",
      "1   19120.0                 Open          ...                           0   \n",
      "2   94591.0                 Open          ...                           0   \n",
      "3   92804.0                 Open          ...                           0   \n",
      "4   91911.0               Closed          ...                           0   \n",
      "\n",
      "  UNIT_TYPE_Coverage UNIT_TYPE_EMRP UNIT_TYPE_Flooring  \\\n",
      "0                  0              0                  0   \n",
      "1                  0              0                  0   \n",
      "2                  0              0                  0   \n",
      "3                  0              0                  0   \n",
      "4                  0              0                  0   \n",
      "\n",
      "   UNIT_TYPE_Investigation UNIT_TYPE_PD UNIT_TYPE_Property UNIT_TYPE_SIU  \\\n",
      "0                        0            0                  0             0   \n",
      "1                        0            0                  0             0   \n",
      "2                        0            0                  0             0   \n",
      "3                        0            0                  0             0   \n",
      "4                        0            0                  0             0   \n",
      "\n",
      "  UNIT_TYPE_Salvage UNIT_TYPE_Subrogation  \n",
      "0                 0                     0  \n",
      "1                 0                     0  \n",
      "2                 0                     0  \n",
      "3                 0                     0  \n",
      "4                 0                     0  \n",
      "\n",
      "[5 rows x 73 columns]\n"
     ]
    }
   ],
   "source": [
    "import pandas as pd\n",
    "import numpy as np\n",
    "import matplotlib.pyplot as plt # graphics - not preferred\n",
    "%matplotlib inline\n",
    "import seaborn as sns # graphics - preferred\n",
    "\n",
    "from scipy import stats\n",
    "import statsmodels.api as sm # models - not preferred\n",
    "from sklearn import linear_model # models - preferred\n",
    "\n",
    "# get current working directory. Useful if getting errors about file loading.\n",
    "import os\n",
    "\n",
    "print os.getcwd()\n",
    "print\n",
    "\n",
    "# create a dataframe names 'dates' with the values specified below)\n",
    "# dates = pd.date_range('20140101',periods=6)\n",
    "# dates\n",
    "\n",
    "df_raw = pd.read_csv(\"../final-project/data/17_11_Unit_Level_Peril_Fire.csv\")\n",
    "\n",
    "# drop all rows with one or more values that are not available\n",
    "# df = df_raw.dropna() \n",
    "\n",
    "df = df_raw\n",
    "\n",
    "# print the first record in the dataframe called df\n",
    "# print df.head(1)\n",
    "\n",
    "# print the coloumn names of the columns in the dataframe called df\n",
    "print df.columns.values\n",
    "print\n",
    "\n",
    "# print the indez values of the rows in the dataframe called df\n",
    "# print df.index.values\n",
    "\n",
    "# print the number of rows in the dataframe called df\n",
    "print len(df)\n",
    "print\n",
    "\n",
    "# print the specs of the dataframe called df\n",
    "# print df.describe()\n",
    "\n",
    "# print row 5 of the dataframe called df. Print it as a dataframe. Note: first row is 0 etcetera\n",
    "# better to use loc or iloc function instead of ix since ix is being retired in newer python versions\n",
    "# print df.ix[[4,]]\n",
    "# print\n",
    "\n",
    "# what is the average indemnity paid amount per record when the unit_type is equal\n",
    "# to ALE\n",
    "print df[df['UNIT_TYPE'] == 'ALE']['TOTAL_INDEMNITY_AMOUNT'].mean()\n",
    "print df[ df.UNIT_TYPE=='ALE' ]['TOTAL_INDEMNITY_AMOUNT'].mean()  # notice how we can access the column as a variable instead of an array string index\n",
    "print df[ df.UNIT_TYPE=='ALE' ].TOTAL_INDEMNITY_AMOUNT.mean()  # same here!\n",
    "print\n",
    "\n",
    "# determine all the possible values of UNIT_TYPE\n",
    "# show for each value the mean\n",
    "\n",
    "print df['TOTAL_INDEMNITY_AMOUNT'].mean()\n",
    "print\n",
    "\n",
    "# what is the average indemnity paid amount per record when you exclude zero values\n",
    "print df[ df.TOTAL_INDEMNITY_AMOUNT != 0 ].TOTAL_INDEMNITY_AMOUNT.mean()\n",
    "print\n",
    "\n",
    "# ???? determine all the possible values of UNIT_TYPE\n",
    "# ???? show for each value the mean\n",
    "\n",
    "\n",
    "\n",
    "# create dummy variables using get_dummies for all possible values of UNIT_TYPE then exclude the first dummy column\n",
    "area_dummies = pd.get_dummies(df.UNIT_TYPE, prefix='UNIT_TYPE').iloc[:, 1:]\n",
    "# concatenate the dummy variable columns onto the original DataFrame (axis=0 means rows, axis=1 means columns)\n",
    "# note: concatenate allows you to combine two matrices next to eachother (make sure they have\n",
    "# the same number of rows!!!)\n",
    "df10 = pd.concat([df, area_dummies], axis=1)\n",
    "print df10.head()\n"
   ]
  },
  {
   "cell_type": "code",
   "execution_count": 177,
   "metadata": {},
   "outputs": [
    {
     "data": {
      "text/plain": [
       "Building         13387\n",
       "Contents         10717\n",
       "Subrogation      10153\n",
       "ALE               6620\n",
       "Coverage          1152\n",
       "Salvage            855\n",
       "EMRP               612\n",
       "SIU                512\n",
       "Investigation      464\n",
       "Flooring           160\n",
       "Property            12\n",
       "PD                   2\n",
       "Name: UNIT_TYPE, dtype: int64"
      ]
     },
     "execution_count": 177,
     "metadata": {},
     "output_type": "execute_result"
    }
   ],
   "source": [
    "df.UNIT_TYPE.value_counts()"
   ]
  },
  {
   "cell_type": "code",
   "execution_count": 3,
   "metadata": {},
   "outputs": [
    {
     "name": "stdout",
     "output_type": "stream",
     "text": [
      "   ACV_AMOUNT  RCV_AMOUNT\n",
      "0     2529.89         0.0\n",
      "1     1950.00         0.0\n",
      "2    13097.23         0.0\n",
      "3    47434.42         0.0\n",
      "4    10600.00         0.0\n",
      "\n",
      "            ACV_AMOUNT  RCV_AMOUNT\n",
      "ACV_AMOUNT    1.000000    0.010691\n",
      "RCV_AMOUNT    0.010691    1.000000\n",
      "\n",
      "       ACV_AMOUNT  RCV_AMOUNT\n",
      "31476     5271.79     5271.78\n",
      "31478        0.00     2010.81\n",
      "31479        0.00     2866.46\n",
      "31484        0.00      684.29\n",
      "31491        0.00     1487.66\n",
      "\n",
      "            ACV_AMOUNT  RCV_AMOUNT\n",
      "ACV_AMOUNT    1.000000    0.125029\n",
      "RCV_AMOUNT    0.125029    1.000000\n",
      "\n",
      "   TOTAL_INDEMNITY_AMOUNT  ACV_AMOUNT UNIT_TYPE\n",
      "0                 2529.89     2529.89       ALE\n",
      "1                 1950.00     1950.00       ALE\n",
      "2                13097.23    13097.23       ALE\n",
      "3                47434.42    47434.42       ALE\n",
      "4                10600.00    10600.00       ALE\n",
      "19252    4133150.00\n",
      "17151    3157685.20\n",
      "19251    3081205.00\n",
      "13673    2500375.00\n",
      "14539    2217461.47\n",
      "Name: TOTAL_INDEMNITY_AMOUNT, dtype: float64\n",
      "4133150.0\n"
     ]
    },
    {
     "name": "stderr",
     "output_type": "stream",
     "text": [
      "/Applications/anaconda/lib/python2.7/site-packages/ipykernel_launcher.py:32: SettingWithCopyWarning: \n",
      "A value is trying to be set on a copy of a slice from a DataFrame.\n",
      "Try using .loc[row_indexer,col_indexer] = value instead\n",
      "\n",
      "See the caveats in the documentation: http://pandas.pydata.org/pandas-docs/stable/indexing.html#indexing-view-versus-copy\n"
     ]
    },
    {
     "data": {
      "text/plain": [
       "<seaborn.axisgrid.FacetGrid at 0x1061374d0>"
      ]
     },
     "execution_count": 3,
     "metadata": {},
     "output_type": "execute_result"
    },
    {
     "data": {
      "image/png": "[encoded data removed]",
      "text/plain": [
       "<matplotlib.figure.Figure at 0x115b98f90>"
      ]
     },
     "metadata": {},
     "output_type": "display_data"
    }
   ],
   "source": [
    "# Create new dataframe with only two columns but all the rows\n",
    "# Because of double brackets the df2 variable is again a dataframe\n",
    "df2 = df[['ACV_AMOUNT','RCV_AMOUNT']]\n",
    "print df2.head(5)\n",
    "print\n",
    "print df2.corr()\n",
    "print\n",
    "\n",
    "# Create new dataframe, from the dataframe with the two columns, eliminating some rows; \n",
    "# the rows where RVC_AMOUNT is zero\n",
    "df3 = df2[df2.RCV_AMOUNT != 0]\n",
    "print df3.tail(5)\n",
    "print\n",
    "print df3.corr()\n",
    "print\n",
    "\n",
    "# show box plot for values of TOTAL_INDEMNITY_AMOUNT only after eliminating \n",
    "# rows with TOTAL_INDEMINTY _AMOUNT = 0\n",
    "df4 = df[['TOTAL_INDEMNITY_AMOUNT', 'ACV_AMOUNT', 'UNIT_TYPE']] # creates df with three columns\n",
    "df5 = df4[df4.TOTAL_INDEMNITY_AMOUNT != 0] # eliminates specified rows\n",
    "print df5.head(5)\n",
    "print df5.TOTAL_INDEMNITY_AMOUNT.sort_values(ascending = False).head(5)\n",
    "print df.TOTAL_INDEMNITY_AMOUNT.max()\n",
    "\n",
    "# the TOTAL_INDEMNITY_AMOUNT needs to be log transformed \n",
    "# print df5['TOTAL_INDEMNITY_AMOUNT'].apply(np.log).plot(kind=\"hist\") # prints plot of resulting dataframe\n",
    "\n",
    "# ???? show box plot for values of TOTAL_INDEMNITY_AMOUNT, eliminating rows where\n",
    "# ???? TOTAL_INDEMNITY_AMOUNT is zero BUT SPLIT BY UNIT_TYPE\n",
    "# ???? UNIT_TYPES are not different columns; they are a LOV for a specific column\n",
    "\n",
    "df5['log_indemnity_amount'] = df5.TOTAL_INDEMNITY_AMOUNT.apply(np.log)\n",
    "sns.factorplot(y='log_indemnity_amount',x='UNIT_TYPE',data = df5, kind='box')\n",
    "\n",
    "# show box plot for values of TOTAL_INDEMNITY_AMOUNT by UNIT_TYPE\n",
    "# print df['TOTAL_INDEMNITY_AMOUNT'].plot(kind=\"box\")\n",
    "\n",
    "# ???? Why does it only execute one of the last to print commands for graphs?\n"
   ]
  },
  {
   "cell_type": "code",
   "execution_count": 128,
   "metadata": {},
   "outputs": [
    {
     "name": "stdout",
     "output_type": "stream",
     "text": [
      "[[<matplotlib.axes._subplots.AxesSubplot object at 0x1167c4c90>\n",
      "  <matplotlib.axes._subplots.AxesSubplot object at 0x1158ba7d0>]\n",
      " [<matplotlib.axes._subplots.AxesSubplot object at 0x11726b7d0>\n",
      "  <matplotlib.axes._subplots.AxesSubplot object at 0x115e971d0>]]\n",
      "Axes(0.5125,0.125;0.3875x0.3775)\n"
     ]
    },
    {
     "data": {
      "image/png": "[encoded data removed]",
      "text/plain": [
       "<matplotlib.figure.Figure at 0x116a15e50>"
      ]
     },
     "metadata": {},
     "output_type": "display_data"
    }
   ],
   "source": [
    "# show scatter plot showing relationship RCV_AMOUNT and ACV_AMOUNT\n",
    "print pd.plotting.scatter_matrix(df2)\n",
    "\n"
   ]
  },
  {
   "cell_type": "code",
   "execution_count": 129,
   "metadata": {},
   "outputs": [
    {
     "name": "stdout",
     "output_type": "stream",
     "text": [
      "Axes(0.125,0.125;0.775x0.755)\n"
     ]
    },
    {
     "data": {
      "image/png": "[encoded data removed]",
      "text/plain": [
       "<matplotlib.figure.Figure at 0x116854210>"
      ]
     },
     "metadata": {},
     "output_type": "display_data"
    }
   ],
   "source": [
    "# Let's have a look at the probability densities of the ACV_AMOUNT\n",
    "print df2[\"ACV_AMOUNT\"].plot(kind=\"density\", xlim=(0,1000000))\n"
   ]
  },
  {
   "cell_type": "code",
   "execution_count": 134,
   "metadata": {},
   "outputs": [
    {
     "data": {
      "text/plain": [
       "<matplotlib.axes._subplots.AxesSubplot at 0x1178f5290>"
      ]
     },
     "execution_count": 134,
     "metadata": {},
     "output_type": "execute_result"
    },
    {
     "data": {
      "image/png": "[encoded data removed]",
      "text/plain": [
       "<matplotlib.figure.Figure at 0x117330fd0>"
      ]
     },
     "metadata": {},
     "output_type": "display_data"
    }
   ],
   "source": [
    "df.plot(kind='scatter', x='ACV_AMOUNT', y='TOTAL_INDEMNITY_AMOUNT', figsize=(8, 8))"
   ]
  },
  {
   "cell_type": "code",
   "execution_count": 150,
   "metadata": {},
   "outputs": [
    {
     "data": {
      "image/png": "[encoded data removed]",
      "text/plain": [
       "<matplotlib.figure.Figure at 0x11d5278d0>"
      ]
     },
     "metadata": {},
     "output_type": "display_data"
    }
   ],
   "source": [
    "# Quick plot of the data using seaborn which I prefer over mathplotlib\n",
    "# seaborn is simple and quick but leass configurable than mathplotlib\n",
    "\n",
    "sns.pairplot(df4, hue=\"UNIT_TYPE\")\n",
    "sns.plt.show()"
   ]
  },
  {
   "cell_type": "code",
   "execution_count": 144,
   "metadata": {},
   "outputs": [
    {
     "name": "stdout",
     "output_type": "stream",
     "text": [
      "                              OLS Regression Results                              \n",
      "==================================================================================\n",
      "Dep. Variable:     TOTAL_INDEMNITY_AMOUNT   R-squared:                       0.990\n",
      "Model:                                OLS   Adj. R-squared:                  0.990\n",
      "Method:                     Least Squares   F-statistic:                 4.544e+06\n",
      "Date:                    Thu, 28 Dec 2017   Prob (F-statistic):               0.00\n",
      "Time:                            11:17:05   Log-Likelihood:            -4.7374e+05\n",
      "No. Observations:                   44646   AIC:                         9.475e+05\n",
      "Df Residuals:                       44644   BIC:                         9.475e+05\n",
      "Df Model:                               1                                         \n",
      "Covariance Type:                nonrobust                                         \n",
      "==============================================================================\n",
      "                 coef    std err          t      P>|t|      [0.025      0.975]\n",
      "------------------------------------------------------------------------------\n",
      "Intercept    561.3945     47.944     11.709      0.000     467.424     655.365\n",
      "ACV_AMOUNT     1.0011      0.000   2131.584      0.000       1.000       1.002\n",
      "==============================================================================\n",
      "Omnibus:                   129992.088   Durbin-Watson:                   1.988\n",
      "Prob(Omnibus):                  0.000   Jarque-Bera (JB):       8575067750.181\n",
      "Skew:                          40.612   Prob(JB):                         0.00\n",
      "Kurtosis:                    2148.468   Cond. No.                     1.05e+05\n",
      "==============================================================================\n",
      "\n",
      "Warnings:\n",
      "[1] Standard Errors assume that the covariance matrix of the errors is correctly specified.\n",
      "[2] The condition number is large, 1.05e+05. This might indicate that there are\n",
      "strong multicollinearity or other numerical problems.\n",
      "\n",
      "Intercept     561.394535\n",
      "ACV_AMOUNT      1.001127\n",
      "dtype: float64\n"
     ]
    }
   ],
   "source": [
    "# this is the standard import if you're using \"formula notation\" (similar to R) and use statsmodel\n",
    "import statsmodels.formula.api as smf\n",
    "\n",
    "# create a fitted model in one line\n",
    "# formula notiation is the equivalent to writting out our models such that 'outcome = predictor'\n",
    "# with the follwing syntax formula = 'outcome ~ predictor1 + predictor2 ... predictorN'\n",
    "lm = smf.ols(formula='TOTAL_INDEMNITY_AMOUNT ~ ACV_AMOUNT', data=df).fit()\n",
    "\n",
    "#print the full summary\n",
    "print lm.summary()\n",
    "print\n",
    "# print the coefficients\n",
    "print lm.params"
   ]
  },
  {
   "cell_type": "code",
   "execution_count": 141,
   "metadata": {},
   "outputs": [
    {
     "name": "stdout",
     "output_type": "stream",
     "text": [
      "0    100674.092437\n",
      "dtype: float64\n"
     ]
    }
   ],
   "source": [
    "# let's say you want to determine what this model predicts for TOTAL_INDEMNITY_AMOUNT when\n",
    "# the ACV_AMOUNT is 100,000\n",
    "\n",
    "# step 1: you have to create a DataFrame to capture the ACV_AMOUNT OF 100,000\n",
    "# since the Statsmodels formula interface expects it\n",
    "X_new = pd.DataFrame({'ACV_AMOUNT': [100000]})\n",
    "X_new.head()\n",
    "\n",
    "# use the model to make predictions on a new value and print result\n",
    "print lm.predict(X_new)\n"
   ]
  },
  {
   "cell_type": "code",
   "execution_count": 142,
   "metadata": {},
   "outputs": [
    {
     "name": "stdout",
     "output_type": "stream",
     "text": [
      "Intercept     1.267896e-31\n",
      "ACV_AMOUNT    0.000000e+00\n",
      "dtype: float64\n",
      "                     0           1\n",
      "Intercept   467.424308  655.364761\n",
      "ACV_AMOUNT    1.000206    1.002048\n"
     ]
    }
   ],
   "source": [
    "# determine confidence in our model\n",
    "print lm.pvalues\n",
    "print lm.conf_int()"
   ]
  },
  {
   "cell_type": "code",
   "execution_count": 152,
   "metadata": {},
   "outputs": [
    {
     "name": "stdout",
     "output_type": "stream",
     "text": [
      "561.394534569 [ 1.00112698]\n"
     ]
    }
   ],
   "source": [
    "# from sklearn import linear_model --> I prefer sklearn over statsmodel\n",
    "\n",
    "X = df[[\"ACV_AMOUNT\"]]\n",
    "y = df[\"TOTAL_INDEMNITY_AMOUNT\"]\n",
    "\n",
    "# Select the model to use; in this case linear regression model from sklearn\n",
    "model = linear_model.LinearRegression()\n",
    "# Fit the data to the model\n",
    "results = model.fit(X, y)\n",
    "\n",
    "# Print the coefficients\n",
    "print results.intercept_, results.coef_"
   ]
  },
  {
   "cell_type": "code",
   "execution_count": 190,
   "metadata": {},
   "outputs": [
    {
     "name": "stderr",
     "output_type": "stream",
     "text": [
      "/Applications/anaconda/lib/python2.7/site-packages/ipykernel_launcher.py:7: SettingWithCopyWarning: \n",
      "A value is trying to be set on a copy of a slice from a DataFrame.\n",
      "Try using .loc[row_indexer,col_indexer] = value instead\n",
      "\n",
      "See the caveats in the documentation: http://pandas.pydata.org/pandas-docs/stable/indexing.html#indexing-view-versus-copy\n",
      "  import sys\n",
      "/Applications/anaconda/lib/python2.7/site-packages/ipykernel_launcher.py:8: RuntimeWarning: divide by zero encountered in log\n",
      "  \n",
      "/Applications/anaconda/lib/python2.7/site-packages/ipykernel_launcher.py:8: SettingWithCopyWarning: \n",
      "A value is trying to be set on a copy of a slice from a DataFrame.\n",
      "Try using .loc[row_indexer,col_indexer] = value instead\n",
      "\n",
      "See the caveats in the documentation: http://pandas.pydata.org/pandas-docs/stable/indexing.html#indexing-view-versus-copy\n",
      "  \n"
     ]
    },
    {
     "data": {
      "text/plain": [
       "<matplotlib.axes._subplots.AxesSubplot at 0x1375bca50>"
      ]
     },
     "execution_count": 190,
     "metadata": {},
     "output_type": "execute_result"
    },
    {
     "data": {
      "image/png": "[encoded data removed]",
      "text/plain": [
       "<matplotlib.figure.Figure at 0x13316a190>"
      ]
     },
     "metadata": {},
     "output_type": "display_data"
    }
   ],
   "source": [
    "# if the relationship between ACV_TOTAL and TOTAL_INDEMNITY_AMOUNT is linear but error not\n",
    "# normally distributed (as is the case here), you need to do the log transformation\n",
    "# to both TOTAT_INDEMNITY_AMOUNT and to \"ACV_AMOUNT\n",
    "\n",
    "df5[\"log-y\"] = np.log(df5['TOTAL_INDEMNITY_AMOUNT'])\n",
    "df5[\"log-x\"] = np.log(df5['ACV_AMOUNT'])\n",
    "df5.plot.scatter(x='log-x', y='log-y')\n"
   ]
  },
  {
   "cell_type": "code",
   "execution_count": 199,
   "metadata": {},
   "outputs": [
    {
     "name": "stdout",
     "output_type": "stream",
     "text": [
      "8.75049648753 [  8.09269397e-06]\n"
     ]
    }
   ],
   "source": [
    "# from sklearn import linear_model --> I prefer sklearn over statsmodel\n",
    "\n",
    "X = df5[[\"ACV_AMOUNT\"]] # apply here the new dummy columns\n",
    "y = df5[\"log-y\"]\n",
    "\n",
    "# Select the model to use; in this case linear regression model from sklearn\n",
    "model = linear_model.LinearRegression()\n",
    "# Fit the data to the model\n",
    "results = model.fit(X, y)\n",
    "\n",
    "# Print the coefficients\n",
    "print results.intercept_, results.coef_\n"
   ]
  },
  {
   "cell_type": "code",
   "execution_count": 4,
   "metadata": {},
   "outputs": [
    {
     "name": "stderr",
     "output_type": "stream",
     "text": [
      "/Applications/anaconda/lib/python2.7/site-packages/ipykernel_launcher.py:8: SettingWithCopyWarning: \n",
      "A value is trying to be set on a copy of a slice from a DataFrame.\n",
      "Try using .loc[row_indexer,col_indexer] = value instead\n",
      "\n",
      "See the caveats in the documentation: http://pandas.pydata.org/pandas-docs/stable/indexing.html#indexing-view-versus-copy\n",
      "  \n"
     ]
    },
    {
     "name": "stdout",
     "output_type": "stream",
     "text": [
      "3819.61004222 [ 1.66283097  0.56694768  5.12399219  1.        ]\n"
     ]
    }
   ],
   "source": [
    "# from sklearn import linear_model --> I prefer sklearn over statsmodel\n",
    "\n",
    "# df10 is the dataframe that has the dummy columns for unit type (see above)\n",
    "# before log transformation of TOTAL_INDEMNITY_AMOUNT, remove row with \n",
    "# TOTAL_INDEMNITY_AMOUNT = zero because log transaformation would be \"infinite\"\n",
    "\n",
    "df11 = df10[df10.TOTAL_INDEMNITY_AMOUNT != 0] # eliminates specified rows\n",
    "df11[\"log-y\"] = np.log(df11['TOTAL_INDEMNITY_AMOUNT']) # does the log transformation\n",
    "\n",
    "X = df11[[\"UNIT_TYPE_Contents\",\"UNIT_TYPE_EMRP\",\"UNIT_TYPE_Building\",\"UNIT_TYPE_SIU\"]] # apply here the new dummy columns\n",
    "y = df11[\"log-y\"]\n",
    "\n",
    "# Select the model to use; in this case linear regression model from sklearn\n",
    "model = linear_model.LinearRegression()\n",
    "# Fit the data to the model\n",
    "results = model.fit(X, y)\n",
    "\n",
    "# Print the coefficients but transform it back from the log transformation by exponential function\n",
    "# the coefficients are how the specific variable differs from the \"base\" variable whose column\n",
    "# you did not include as a dummy column\n",
    "print np.exp(results.intercept_), np.exp(results.coef_)\n",
    "\n",
    "# ???? I am not sure how to intrepret this\n",
    "# for example if the unit type is Contents what do the data below say about the \n",
    "# expected TOTAL_INDEMNITY_AMOUNT?\n"
   ]
  },
  {
   "cell_type": "code",
   "execution_count": null,
   "metadata": {
    "collapsed": true
   },
   "outputs": [],
   "source": [
    "from sklearn import cross_validation\n",
    "\n",
    "# Do cross validation with 5 folds\n",
    "\n",
    "kf = cross_validation.KFold(len(df11), n_folds=5, shuffle=True)\n"
   ]
  }
 ],
 "metadata": {
  "kernelspec": {
   "display_name": "Python 2",
   "language": "python",
   "name": "python2"
  },
  "language_info": {
   "codemirror_mode": {
    "name": "ipython",
    "version": 2
   },
   "file_extension": ".py",
   "mimetype": "text/x-python",
   "name": "python",
   "nbconvert_exporter": "python",
   "pygments_lexer": "ipython2",
   "version": "2.7.13"
  }
 },
 "nbformat": 4,
 "nbformat_minor": 2
}
